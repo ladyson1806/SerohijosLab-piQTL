{
 "cells": [
  {
   "cell_type": "code",
   "execution_count": 1,
   "metadata": {},
   "outputs": [],
   "source": [
    "import gzip\n",
    "from os import path\n",
    "import re\n",
    "\n",
    "from Bio import SeqIO\n",
    "import gffpandas.gffpandas as gffpd\n",
    "import numpy as np\n",
    "import pandas as pd\n",
    "import roman\n",
    "from tqdm import tqdm\n",
    "\n",
    "tqdm.pandas()\n",
    "\n",
    "root_path = path.abspath(path.join(path.abspath(\"\"), \"../..\"))"
   ]
  },
  {
   "cell_type": "code",
   "execution_count": 2,
   "metadata": {},
   "outputs": [],
   "source": [
    "def format_chrom(x):\n",
    "    if '_' not in x :\n",
    "        x = x.replace('CHR', 'CHR_')\n",
    "        return x\n",
    "    return x\n",
    "\n",
    "\n",
    "def format_roman_chrom(x):\n",
    "    if 'MT' not in x :\n",
    "        rom_nb = x.split('_')[1]\n",
    "        nb = roman.fromRoman(rom_nb)\n",
    "        x = 'CHR_'+ str(nb)\n",
    "        return x\n",
    "    return x\n",
    "\n",
    "\n",
    "def format_numeric_chrom(x):\n",
    "    if 'MT' not in x :\n",
    "        num_nb = x.replace('CHR','')\n",
    "        nb = roman.toRoman(int(num_nb))\n",
    "        x = 'chr'+ str(nb)\n",
    "        return x\n",
    "    return 'chrXVII'"
   ]
  },
  {
   "cell_type": "code",
   "execution_count": 3,
   "metadata": {},
   "outputs": [],
   "source": [
    "genome_annot_rossi_folder = f'{root_path}/data/genome_annotations/rossi_et_al_2021'\n",
    "PROMOTER_TABLE = pd.read_csv(f'{genome_annot_rossi_folder}/nfr_ndr_feature_positions.csv').rename(columns={\"Chromosome_Name\":\"seq_id\", \"systematic_id\":\"locus_id\", \"common_name\":\"name\", \"NFR/NDR_Start\":\"start\", \"NFR/NDR_End\":\"end\", \"nucleosome_stability\":\"description\"})\n",
    "PROMOTER_TABLE['seq_id'] = PROMOTER_TABLE['seq_id'].apply(format_numeric_chrom)\n",
    "PROMOTER_TABLE['source'] = 'rossi_2021_promoters'\n",
    "PROMOTER_TABLE['type'] = 'promoter'\n",
    "PROMOTER_TABLE['score'] = 1\n",
    "PROMOTER_TABLE['phase'] = '.'\n",
    "PROMOTER_TABLE['name'] = PROMOTER_TABLE['name'].replace('IMP2\\'','IMP21')\n",
    "PROMOTER_TABLE['attributes'] = [f\"Name={PROMOTER_TABLE['name'][idx]};Desc={PROMOTER_TABLE['description'][idx]}\" for idx in PROMOTER_TABLE.index ]\n",
    "prom_plus = PROMOTER_TABLE[PROMOTER_TABLE['strand'] == '+'].reset_index(drop=True)\n",
    "prom_minus = PROMOTER_TABLE[PROMOTER_TABLE['strand'] == '-'].rename(columns={\"start\":\"end\", \"end\":\"start\"}).reset_index(drop=True)\n",
    "\n",
    "PROMOTER_TABLE = pd.concat([prom_plus, prom_minus]).reset_index(drop=True)\n",
    "PROMOTER_TABLE[['seq_id', 'source', 'type', 'start', 'end', 'score', 'strand', 'phase', 'attributes', 'locus_id']].to_csv(f'{genome_annot_rossi_folder}/Rossi_2021_Promoters_V64.csv', index=False)"
   ]
  },
  {
   "cell_type": "markdown",
   "metadata": {},
   "source": [
    "#### Format SGD information table"
   ]
  },
  {
   "cell_type": "code",
   "execution_count": 4,
   "metadata": {},
   "outputs": [
    {
     "ename": "FileNotFoundError",
     "evalue": "[Errno 2] No such file or directory: '/tmp/work/data/genome_annotations/sgd_database/original/other_features_genomic_R64-3-1_20210421.fasta.gz'",
     "output_type": "error",
     "traceback": [
      "\u001b[0;31m---------------------------------------------------------------------------\u001b[0m",
      "\u001b[0;31mFileNotFoundError\u001b[0m                         Traceback (most recent call last)",
      "Cell \u001b[0;32mIn[4], line 7\u001b[0m\n\u001b[1;32m      5\u001b[0m others_annotations \u001b[39m=\u001b[39m []\n\u001b[1;32m      6\u001b[0m fasta_gz \u001b[39m=\u001b[39m \u001b[39mf\u001b[39m\u001b[39m'\u001b[39m\u001b[39m{\u001b[39;00mgenome_annot_sgd_folder\u001b[39m}\u001b[39;00m\u001b[39m/other_features_genomic_R64-3-1_20210421.fasta.gz\u001b[39m\u001b[39m'\u001b[39m\n\u001b[0;32m----> 7\u001b[0m \u001b[39mwith\u001b[39;00m gzip\u001b[39m.\u001b[39;49mopen(fasta_gz, \u001b[39m\"\u001b[39;49m\u001b[39mrt\u001b[39;49m\u001b[39m\"\u001b[39;49m) \u001b[39mas\u001b[39;00m handle:\n\u001b[1;32m      8\u001b[0m     \u001b[39mfor\u001b[39;00m record \u001b[39min\u001b[39;00m SeqIO\u001b[39m.\u001b[39mparse(handle, \u001b[39m\"\u001b[39m\u001b[39mfasta\u001b[39m\u001b[39m\"\u001b[39m):\n\u001b[1;32m      9\u001b[0m         ID, location, genome_version, others_type \u001b[39m=\u001b[39m record\u001b[39m.\u001b[39mdescription\u001b[39m.\u001b[39msplit(\u001b[39m'\u001b[39m\u001b[39m, \u001b[39m\u001b[39m'\u001b[39m)[:\u001b[39m4\u001b[39m]\n",
      "File \u001b[0;32m/usr/local/lib/python3.11/gzip.py:58\u001b[0m, in \u001b[0;36mopen\u001b[0;34m(filename, mode, compresslevel, encoding, errors, newline)\u001b[0m\n\u001b[1;32m     56\u001b[0m gz_mode \u001b[39m=\u001b[39m mode\u001b[39m.\u001b[39mreplace(\u001b[39m\"\u001b[39m\u001b[39mt\u001b[39m\u001b[39m\"\u001b[39m, \u001b[39m\"\u001b[39m\u001b[39m\"\u001b[39m)\n\u001b[1;32m     57\u001b[0m \u001b[39mif\u001b[39;00m \u001b[39misinstance\u001b[39m(filename, (\u001b[39mstr\u001b[39m, \u001b[39mbytes\u001b[39m, os\u001b[39m.\u001b[39mPathLike)):\n\u001b[0;32m---> 58\u001b[0m     binary_file \u001b[39m=\u001b[39m GzipFile(filename, gz_mode, compresslevel)\n\u001b[1;32m     59\u001b[0m \u001b[39melif\u001b[39;00m \u001b[39mhasattr\u001b[39m(filename, \u001b[39m\"\u001b[39m\u001b[39mread\u001b[39m\u001b[39m\"\u001b[39m) \u001b[39mor\u001b[39;00m \u001b[39mhasattr\u001b[39m(filename, \u001b[39m\"\u001b[39m\u001b[39mwrite\u001b[39m\u001b[39m\"\u001b[39m):\n\u001b[1;32m     60\u001b[0m     binary_file \u001b[39m=\u001b[39m GzipFile(\u001b[39mNone\u001b[39;00m, gz_mode, compresslevel, filename)\n",
      "File \u001b[0;32m/usr/local/lib/python3.11/gzip.py:174\u001b[0m, in \u001b[0;36mGzipFile.__init__\u001b[0;34m(self, filename, mode, compresslevel, fileobj, mtime)\u001b[0m\n\u001b[1;32m    172\u001b[0m     mode \u001b[39m+\u001b[39m\u001b[39m=\u001b[39m \u001b[39m'\u001b[39m\u001b[39mb\u001b[39m\u001b[39m'\u001b[39m\n\u001b[1;32m    173\u001b[0m \u001b[39mif\u001b[39;00m fileobj \u001b[39mis\u001b[39;00m \u001b[39mNone\u001b[39;00m:\n\u001b[0;32m--> 174\u001b[0m     fileobj \u001b[39m=\u001b[39m \u001b[39mself\u001b[39m\u001b[39m.\u001b[39mmyfileobj \u001b[39m=\u001b[39m builtins\u001b[39m.\u001b[39;49mopen(filename, mode \u001b[39mor\u001b[39;49;00m \u001b[39m'\u001b[39;49m\u001b[39mrb\u001b[39;49m\u001b[39m'\u001b[39;49m)\n\u001b[1;32m    175\u001b[0m \u001b[39mif\u001b[39;00m filename \u001b[39mis\u001b[39;00m \u001b[39mNone\u001b[39;00m:\n\u001b[1;32m    176\u001b[0m     filename \u001b[39m=\u001b[39m \u001b[39mgetattr\u001b[39m(fileobj, \u001b[39m'\u001b[39m\u001b[39mname\u001b[39m\u001b[39m'\u001b[39m, \u001b[39m'\u001b[39m\u001b[39m'\u001b[39m)\n",
      "\u001b[0;31mFileNotFoundError\u001b[0m: [Errno 2] No such file or directory: '/tmp/work/data/genome_annotations/sgd_database/original/other_features_genomic_R64-3-1_20210421.fasta.gz'"
     ]
    }
   ],
   "source": [
    "genome_annot_sgd_folder = f'{root_path}/data/genome_annotations/sgd_database/original'\n",
    "genome_annot_rossi_folder = f'{root_path}/data/genome_annotations/rossi_et_al_2021'\n",
    "\n",
    "#### OTHER FEATURES\n",
    "others_annotations = []\n",
    "fasta_gz = f'{genome_annot_sgd_folder}/other_features_genomic_R64-3-1_20210421.fasta.gz'\n",
    "with gzip.open(fasta_gz, \"rt\") as handle:\n",
    "    for record in SeqIO.parse(handle, \"fasta\"):\n",
    "        ID, location, genome_version, others_type = record.description.split(', ')[:4]\n",
    "        others_id = ID.split(' ')[0]\n",
    "        others_name = ID.split(' ')[1]\n",
    "        sgd_id = ID.split(' ')[2]\n",
    "        res = re.findall(r'(Chr [A-Za-z]+) from ([0-9]+)-([0-9]+)', str(location))[0]\n",
    "        Chr = res[0].upper().replace(' ','_').replace('MITO', 'MT')\n",
    "        description = ' ; '.join(record.description.split(', ')[4:])\n",
    "        if 'reverse complement' == others_type:\n",
    "            Start = res[2]\n",
    "            End = res[1]\n",
    "            cds_type = description.split(' ; ')[0]\n",
    "            description = ' ; '.join(description.split(' ; ')[1:])\n",
    "        else :\n",
    "            Start = res[1]\n",
    "            End = res[2]\n",
    "\n",
    "        others_annotations.append([others_id, others_name, sgd_id, others_type, Chr, Start, End, description, genome_version])\n",
    "\n",
    "OTHERS_TABLE = pd.DataFrame(others_annotations, columns=['locus_id', 'name', 'sgd_id', 'genome_annotations', 'chrom', 'start', 'end', 'description', 'genome_version'])\n",
    "OTHERS_TABLE['chrom'] = OTHERS_TABLE['chrom'].apply(format_roman_chrom)\n",
    "OTHERS_TABLE.to_csv(f'{root_path}/data/genome_annotations/sgd_database/other_features_genomic_R64-3-1.csv', index=False)\n",
    "OTHERS_dict = OTHERS_TABLE.set_index('locus_id').to_dict()\n",
    "\n",
    "\n",
    "### RNA\n",
    "rna_annotations = []\n",
    "fasta_gz = f'{genome_annot_sgd_folder}/rna_coding_R64-3-1_20210421.fasta.gz'\n",
    "with gzip.open(fasta_gz, \"rt\") as handle:\n",
    "    for record in SeqIO.parse(handle, \"fasta\"):\n",
    "        ID, location, genome_version, rna_type = record.description.split(', ')[:4]\n",
    "        rna_id = ID.split(' ')[0]\n",
    "        rna_name = ID.split(' ')[1]\n",
    "        sgd_id = ID.split(' ')[2]\n",
    "        res = re.findall(r'(Chr [A-Za-z]+) from ([0-9]+)-([0-9]+)', str(location))[0]\n",
    "        Chr = res[0].upper().replace(' ','_').replace('MITO', 'MT')\n",
    "        description = (' ; '.join(record.description.split(', ')[4:]))\n",
    "        if 'reverse complement' == rna_type:\n",
    "            Start = res[2]\n",
    "            End = res[1]\n",
    "            try :\n",
    "                rna_type = re.findall(r'([A-Za-z0-9]+\\-)\\)',str(description.split(' ; ')[0]))[0]\n",
    "            except :\n",
    "                rna_type = str(description.split(' ; ')[0])\n",
    "        else :\n",
    "            Start = res[1]\n",
    "            End = res[2]\n",
    "\n",
    "        rna_annotations.append([rna_id, rna_name, sgd_id, rna_type, Chr, Start, End, description, genome_version])\n",
    "\n",
    "RNA_TABLE = pd.DataFrame(rna_annotations, columns=['locus_id', 'name', 'sgd_id', 'genome_annotations', 'chrom', 'start', 'end', 'description', 'genome_version'])\n",
    "RNA_TABLE['chrom'] = RNA_TABLE['chrom'].apply(format_roman_chrom)\n",
    "RNA_TABLE.to_csv(f'{root_path}/data/genome_annotations/sgd_database/rna_coding_R64-3-1.csv', index=False)\n",
    "RNA_dict = RNA_TABLE.set_index('locus_id').to_dict()\n",
    "\n",
    "#### INTERGENIC\n",
    "\n",
    "intergenic_annotations = []\n",
    "fasta_gz = f'{genome_annot_sgd_folder}/NotFeature_R64-3-1_20210421.fasta.gz'\n",
    "with gzip.open(fasta_gz, \"rt\") as handle:\n",
    "    for record in SeqIO.parse(handle, \"fasta\"):\n",
    "        ID, location, genome_version, description = record.description.split(', ')\n",
    "        intergenic_id = ID\n",
    "        res = re.findall(r'(Chr [A-Za-z]+) from ([0-9]+)-([0-9]+)', str(location))[0]\n",
    "        Chr = res[0].upper().replace(' ','_').replace('MITO', 'MT')\n",
    "        Start = res[1]\n",
    "        End = res[2]\n",
    "\n",
    "        intergenic_annotations.append([intergenic_id, Chr, Start, End, description, genome_version])\n",
    "\n",
    "INTERGENIC_TABLE = pd.DataFrame(intergenic_annotations, columns=['locus_id', 'chrom', 'start', 'end', 'description', 'genome_version'])\n",
    "INTERGENIC_TABLE['chrom'] = INTERGENIC_TABLE['chrom'].apply(format_roman_chrom)\n",
    "INTERGENIC_TABLE.to_csv(f'{root_path}/data/genome_annotations/sgd_database/notFeature_R64-3-1.csv', index=False)\n",
    "INTERGENIC_dict = INTERGENIC_TABLE.set_index('locus_id').to_dict()\n",
    "\n",
    "#### CDS\n",
    "cds_annotations = []\n",
    "fasta_gz = f'{genome_annot_sgd_folder}/orf_coding_all_R64-3-1_20210421.fasta.gz'\n",
    "with gzip.open(fasta_gz, \"rt\") as handle:\n",
    "    for record in SeqIO.parse(handle, \"fasta\"):\n",
    "        ID, location, genome_version, cds_type = record.description.split(', ')[:4]\n",
    "        cds_id = ID.split(' ')[0]\n",
    "        cds_name = ID.split(' ')[1]\n",
    "        sgd_id = ID.split(' ')[2]\n",
    "        res = re.findall(r'(Chr [A-Za-z]+) from ([0-9]+)-([0-9]+)', str(location))[0]\n",
    "        Chr = res[0].upper().replace(' ','_').replace('MITO', 'M')\n",
    "        description = ' ; '.join(record.description.split(', ')[4:])\n",
    "        if 'reverse complement' == cds_type:\n",
    "            Start = res[2]\n",
    "            End = res[1]\n",
    "            cds_type = description.split(' ; ')[0]\n",
    "            description = ' ; '.join(description.split(' ; ')[1:])\n",
    "        else :\n",
    "            Start = res[1]\n",
    "            End = res[2]\n",
    "\n",
    "        cds_annotations.append([cds_id, cds_name, sgd_id, cds_type, Chr, Start, End, description, genome_version])\n",
    "\n",
    "CDS_TABLE = pd.DataFrame(cds_annotations, columns=['locus_id', 'name', 'sgd_id', 'genome_annotations', 'chrom', 'start', 'end', 'description', 'genome_version'])\n",
    "CDS_TABLE['chrom'] = CDS_TABLE['chrom'].apply(format_roman_chrom)\n",
    "CDS_TABLE.to_csv(f'{root_path}/data/genome_annotations/sgd_database/orf_coding_R64-3-1.csv', index=False)\n",
    "CDS_dict = CDS_TABLE.set_index('locus_id').to_dict()\n",
    "\n",
    "\n",
    "#### 1KB-AWAY\n",
    "\n",
    "gene_annotations = []\n",
    "fasta_gz = f'{genome_annot_sgd_folder}/orf_genomic_1000_all.fasta.gz'\n",
    "with gzip.open(fasta_gz, \"rt\") as handle:\n",
    "    for record in SeqIO.parse(handle, \"fasta\"):\n",
    "        ID, location, genome_version, cds_type = record.description.split(', ')[:4]\n",
    "        cds_id = ID.split(' ')[0]\n",
    "        cds_name = ID.split(' ')[1]\n",
    "        sgd_id = ID.split(' ')[2]\n",
    "        res = re.findall(r'(Chr [A-Za-z]+) from ([0-9]+)-([0-9]+)', str(location))[0]\n",
    "        Chr = res[0].upper().replace(' ','_').replace('MITO', 'MT')\n",
    "        description = ' ; '.join(record.description.split(', ')[4:])\n",
    "        if 'reverse complement' == cds_type:\n",
    "            Start = res[2]\n",
    "            End = res[1]\n",
    "            cds_type = description.split(' ; ')[0]\n",
    "            description = ' ; '.join(description.split(' ; ')[1:])\n",
    "        else :\n",
    "            Start = res[1]\n",
    "            End = res[2]\n",
    "\n",
    "        gene_annotations.append([cds_id, cds_name, sgd_id, cds_type, Chr, Start, End, description, genome_version])\n",
    "\n",
    "GENE_TABLE = pd.DataFrame(gene_annotations, columns=['locus_id', 'name', 'sgd_id', 'genome_annotations', 'chrom', 'start', 'end', 'description', 'genome_version'])\n",
    "GENE_TABLE['chrom'] = GENE_TABLE['chrom'].apply(format_roman_chrom)\n",
    "GENE_TABLE.to_csv(f'{root_path}/data/genome_annotations/sgd_database/orf_genomic_1000_R64-3-1.csv', index=False)\n",
    "GENE_dict = GENE_TABLE.set_index('locus_id').to_dict()\n",
    "\n",
    "#### PROMOTERS\n",
    "PROMOTER_TABLE = pd.read_csv(f'{genome_annot_rossi_folder}/nfr_ndr_feature_positions.csv').rename(columns={\"Chromosome_Name\":\"chrom\", \"systematic_id\":\"locus_id\", \"common_name\":\"name\", \"NFR/NDR_Start\":\"start\", \"NFR/NDR_End\":\"end\", \"nucleosome_stability\":\"description\"})\n",
    "PROMOTER_TABLE['chrom'] = PROMOTER_TABLE['chrom'].apply(format_chrom)\n",
    "PROMOTER_TABLE['start'] = PROMOTER_TABLE['start'].astype(int)\n",
    "PROMOTER_TABLE['end'] = PROMOTER_TABLE['end'].astype(int)\n",
    "PROMOTER_dict = PROMOTER_TABLE[['locus_id', 'name', 'chrom','strand','start', 'end', 'description']].set_index('locus_id').to_dict()\n",
    "\n",
    "\n",
    "#### UNSTABLE TRANSCRIPTS 2009\n",
    "CUTs_2009_annotation = gffpd.read_gff3(f'{root_path}/data/genome_annotations/xu_2009/Xu_2009_CUTs_V64.gff3')\n",
    "CUTs_2009_annotation = CUTs_2009_annotation.df.rename(columns={'seq_id':'chrom'})\n",
    "CUTs_2009_annotation['chrom'] = [ CUTs_2009_annotation['chrom'][idx].replace(\"chr\", 'CHR_') for idx in CUTs_2009_annotation.index ]\n",
    "CUTs_2009_annotation['locus_id'] = [ CUTs_2009_annotation['attributes'][idx].split(';')[1].replace(\"Name=\", '') for idx in CUTs_2009_annotation.index ]\n",
    "CUTs_2009_annotation['description'] = [ 'CUT' for idx in CUTs_2009_annotation.index ]\n",
    "CUTs_2009_annotation['chrom'] = CUTs_2009_annotation['chrom'].apply(format_roman_chrom)\n",
    "CUT_dict = CUTs_2009_annotation[['locus_id', 'chrom','strand','start', 'end', 'description']].set_index('locus_id').to_dict()\n",
    "\n",
    "\n",
    "SUTs_2009_annotation = gffpd.read_gff3(f'{root_path}/data/genome_annotations/xu_2009/Xu_2009_SUTs_V64.gff3')\n",
    "SUTs_2009_annotation = SUTs_2009_annotation.df.rename(columns={'seq_id':'chrom'})\n",
    "SUTs_2009_annotation['chrom'] = [ SUTs_2009_annotation['chrom'][idx].replace(\"chr\", 'CHR_') for idx in SUTs_2009_annotation.index ]\n",
    "SUTs_2009_annotation['locus_id'] = [ SUTs_2009_annotation['attributes'][idx].split(';')[1].replace(\"Name=\", '') for idx in SUTs_2009_annotation.index ]\n",
    "SUTs_2009_annotation['description'] = [ 'SUT' for idx in SUTs_2009_annotation.index ]\n",
    "SUTs_2009_annotation['chrom'] = SUTs_2009_annotation['chrom'].apply(format_roman_chrom)\n",
    "SUT_dict = SUTs_2009_annotation[['locus_id', 'chrom','strand','start', 'end', 'description']].set_index('locus_id').to_dict()\n",
    "\n",
    "#### UNSTABLE TRANSCRIPTS 2011\n",
    "XUTs_2011_annotation = gffpd.read_gff3(f'{root_path}/data/genome_annotations/van_dikj_2011/van_Dijk_2011_XUTs_V64.gff3')\n",
    "XUTs_2011_annotation = XUTs_2011_annotation.df.rename(columns={'seq_id':'chrom'})\n",
    "XUTs_2011_annotation['chrom'] = [ XUTs_2011_annotation['chrom'][idx].replace(\"chr\", 'CHR_') for idx in XUTs_2011_annotation.index ]\n",
    "XUTs_2011_annotation['locus_id'] = [ XUTs_2011_annotation['attributes'][idx].split(';')[0].replace(\"ID=\", 'XUT_') for idx in XUTs_2011_annotation.index ]\n",
    "XUTs_2011_annotation['description'] = [ XUTs_2011_annotation['attributes'][idx].split(';')[-1].replace(\"desc=\", '') for idx in XUTs_2011_annotation.index ]\n",
    "XUTs_2011_annotation['chrom'] = XUTs_2011_annotation['chrom'].apply(format_roman_chrom)\n",
    "XUT_dict = XUTs_2011_annotation[['locus_id', 'chrom','strand','start', 'end', 'description']].set_index('locus_id').to_dict()"
   ]
  },
  {
   "cell_type": "markdown",
   "metadata": {},
   "source": [
    "_____"
   ]
  },
  {
   "cell_type": "code",
   "execution_count": null,
   "metadata": {},
   "outputs": [],
   "source": [
    "def check_position(annotation_type, annotation_dict, candidate, snp_pos):\n",
    "    if 'Promoter' in annotation_type : \n",
    "        cdd_strand = annotation_dict['strand'][candidate]\n",
    "        if cdd_strand == '+':\n",
    "            cdd_start = annotation_dict['start'][candidate]\n",
    "            cdd_end = annotation_dict['end'][candidate]\n",
    "        elif cdd_strand == '-':\n",
    "            cdd_start = annotation_dict['end'][candidate]\n",
    "            cdd_end = annotation_dict['start'][candidate]\n",
    "    elif 'Unstable Transcript' in annotation_type : \n",
    "        cdd_strand = annotation_dict['strand'][candidate]\n",
    "        if cdd_strand == '+':\n",
    "            cdd_start = annotation_dict['start'][candidate]\n",
    "            cdd_end = annotation_dict['end'][candidate]\n",
    "        elif cdd_strand == '-':\n",
    "            cdd_start = annotation_dict['end'][candidate]\n",
    "            cdd_end = annotation_dict['start'][candidate]\n",
    "    else :\n",
    "        cdd_start = annotation_dict['start'][candidate]\n",
    "        cdd_end = annotation_dict['end'][candidate]\n",
    "        if '1kb-away' in annotation_type :\n",
    "            distance_start = np.abs(int(snp_pos) - int(cdd_start))\n",
    "            distance_end = np.abs(int(snp_pos) - int(cdd_end))\n",
    "            if min([distance_start,distance_end]) == distance_start:\n",
    "                annotation_type = 'Close to 5\\'-UTR'\n",
    "            if min([distance_start,distance_end]) == distance_end:\n",
    "                annotation_type = 'Close to 3\\'-UTR'\n",
    "\n",
    "    if (int(snp_pos) >= int(cdd_start)) & (int(snp_pos) <= int(cdd_end)):\n",
    "        return True, annotation_type \n",
    "    return False, annotation_type\n",
    "\n",
    "\n",
    "def isAnnotated(snp_id, args):\n",
    "    snps_dict = args[0]\n",
    "    annotation_dict = args[1]\n",
    "    snps_class = args[2]\n",
    "\n",
    "    snp_chrom = snps_dict['chrom'][snp_id]\n",
    "    snp_pos = snps_dict['position'][snp_id]\n",
    "    \n",
    "    candidates = []\n",
    "    for key, val in annotation_dict['chrom'].items():\n",
    "        if snp_chrom == val : \n",
    "            candidates.append(key)\n",
    "    for cdt in candidates :\n",
    "        RES, snps_class = check_position(snps_class, annotation_dict, cdt, snp_pos)\n",
    "        if RES == True :\n",
    "            try: \n",
    "                return (int(snp_id), cdt, annotation_dict[\"name\"][cdt], annotation_dict[\"sgd_id\"][cdt], annotation_dict[\"description\"][cdt], snps_class, annotation_dict[\"genome_annotations\"][cdt])\n",
    "            except: \n",
    "                try :\n",
    "                    return (int(snp_id), cdt, np.nan, np.nan,  annotation_dict[\"description\"][cdt], snps_class, snps_class)\n",
    "                except:\n",
    "                    return (int(snp_id), cdt, np.nan, np.nan,  np.nan, snps_class, snps_class)\n",
    "    return (np.nan, np.nan, np.nan, np.nan, np.nan, np.nan, np.nan)"
   ]
  },
  {
   "cell_type": "code",
   "execution_count": null,
   "metadata": {},
   "outputs": [],
   "source": [
    "all_snps = pd.read_csv(f'{root_path}/data/genotype_information/yeast_snps_loc_dec2022.txt') #### need to be generated by 00a_generate_genotype_matrix.py\n",
    "all_snps['position'] = all_snps['position'].replace(0,1)\n",
    "all_snps['chrom'] = all_snps['chrom'].apply(format_chrom)\n",
    "all_snps_dict = all_snps.set_index('snp_id').to_dict()"
   ]
  },
  {
   "cell_type": "code",
   "execution_count": null,
   "metadata": {},
   "outputs": [],
   "source": [
    "annotations = []\n",
    "for snp_id in tqdm(all_snps_dict['chrom'].keys()):\n",
    "    annotations.append(isAnnotated(snp_id, (all_snps_dict, INTERGENIC_dict, 'Intergenic region')))\n",
    "    annotations.append(isAnnotated(snp_id, (all_snps_dict, GENE_dict, '1kb-away')))\n",
    "    annotations.append(isAnnotated(snp_id, (all_snps_dict, PROMOTER_dict, 'Promoter')))\n",
    "    annotations.append(isAnnotated(snp_id, (all_snps_dict, CDS_dict, 'ORF')))\n",
    "    annotations.append(isAnnotated(snp_id, (all_snps_dict, RNA_dict, 'Non-coding RNA')))\n",
    "    annotations.append(isAnnotated(snp_id, (all_snps_dict, CUT_dict, 'CUT')))\n",
    "    annotations.append(isAnnotated(snp_id, (all_snps_dict, SUT_dict, 'SUT')))\n",
    "    annotations.append(isAnnotated(snp_id, (all_snps_dict, XUT_dict, 'XUT')))\n",
    "    annotations.append(isAnnotated(snp_id, (all_snps_dict, OTHERS_dict, 'Other features')))"
   ]
  },
  {
   "cell_type": "code",
   "execution_count": null,
   "metadata": {},
   "outputs": [],
   "source": [
    "ALL_ANNOTATIONS = pd.DataFrame(annotations, columns=['snp_id', 'locus_id', 'name', 'sgd_id', 'description','snps_class_up', 'genome_annotations']).dropna(how='all').reset_index(drop=True) # .drop_duplicates(subset=['snp_id'], keep='last')"
   ]
  },
  {
   "cell_type": "code",
   "execution_count": null,
   "metadata": {},
   "outputs": [],
   "source": [
    "ALL_ANNOTATIONS"
   ]
  },
  {
   "cell_type": "code",
   "execution_count": null,
   "metadata": {},
   "outputs": [],
   "source": [
    "snp_annotations = [] \n",
    "for snp_id in np.unique(ALL_ANNOTATIONS['snp_id']):\n",
    "    TMP = ALL_ANNOTATIONS[ALL_ANNOTATIONS['snp_id'] == snp_id]\n",
    "    snps_annots = []\n",
    "    for snps_class in TMP['snps_class_up'] :\n",
    "        if ('ORF' in snps_class) or ('CUT' in snps_class) or ('SUT' in snps_class) or ('XUT' in snps_class):\n",
    "            snps_annots.append(snps_class)\n",
    "    snps_annots = '_'.join(snps_annots)\n",
    "    snp_annotations.append([int(snp_id), snps_annots])"
   ]
  },
  {
   "cell_type": "code",
   "execution_count": null,
   "metadata": {},
   "outputs": [],
   "source": [
    "annotation_stats = pd.DataFrame(snp_annotations, columns=['snp_id', 'snps_annotations']) "
   ]
  },
  {
   "cell_type": "code",
   "execution_count": null,
   "metadata": {},
   "outputs": [],
   "source": [
    "np.unique(annotation_stats['snps_annotations'])"
   ]
  },
  {
   "cell_type": "code",
   "execution_count": null,
   "metadata": {},
   "outputs": [],
   "source": [
    "annotation_stats[annotation_stats['snps_annotations'] != ''].to_csv(f'{root_path}/data/genotype_information/snps_annotations_genome-version-3-64-1_UTs.txt', index=False)"
   ]
  },
  {
   "cell_type": "code",
   "execution_count": null,
   "metadata": {},
   "outputs": [],
   "source": [
    "def get_gene_name(x):\n",
    "    try : \n",
    "        return GENE_TABLE[GENE_TABLE['locus_id'] == x ]['name'].values[0]\n",
    "    except : \n",
    "        return ALL_ANNOTATIONS[ALL_ANNOTATIONS['locus_id'] == x ]['name'].values[0]"
   ]
  },
  {
   "cell_type": "code",
   "execution_count": null,
   "metadata": {},
   "outputs": [],
   "source": [
    "ALL_ANNOTATIONS['name'] = ALL_ANNOTATIONS['locus_id'].apply(get_gene_name)"
   ]
  },
  {
   "cell_type": "code",
   "execution_count": null,
   "metadata": {},
   "outputs": [],
   "source": [
    "ALL_ANNOTATIONS"
   ]
  },
  {
   "cell_type": "code",
   "execution_count": null,
   "metadata": {},
   "outputs": [],
   "source": [
    "ALL_ANNOTATIONS.groupby('snps_class_up').count()"
   ]
  },
  {
   "cell_type": "code",
   "execution_count": null,
   "metadata": {},
   "outputs": [],
   "source": [
    "def get_snps_class_down(x):\n",
    "    locus_id = ALL_ANNOTATIONS[ALL_ANNOTATIONS['snp_id'] == x]['locus_id'].values[0]\n",
    "    snps_class = ALL_ANNOTATIONS[ALL_ANNOTATIONS['snp_id'] == x]['snps_class_up'].values[0]\n",
    "    genome_annotations = ALL_ANNOTATIONS[ALL_ANNOTATIONS['snp_id'] == x]['genome_annotations'].values[0]\n",
    "    if snps_class == 'ORF' :\n",
    "        if '_' in genome_annotations :\n",
    "            genome_annotations = genome_annotations.replace('_',' ')\n",
    "        return genome_annotations\n",
    "    if snps_class == 'Intergenic region':\n",
    "        return 'Intergenic region'\n",
    "    if snps_class == 'Close to 5\\'-UTR':\n",
    "        return 'Close to 5\\'-UTR'\n",
    "    if snps_class == 'Close to 3\\'-UTR':\n",
    "        return 'Close to 3\\'-UTR'\n",
    "    if snps_class == 'Promoter':\n",
    "        return 'Promoter'\n",
    "    if snps_class == 'Non-coding RNA':\n",
    "        if '_' in genome_annotations :\n",
    "            genome_annotations = genome_annotations.replace('_',' ')\n",
    "        return genome_annotations\n",
    "    if 'UT' in locus_id : \n",
    "        try : \n",
    "            x = re.findall(r'^([CSXUT]{3})', locus_id)[0]\n",
    "            return x \n",
    "        except: \n",
    "            return locus_id \n",
    "    if 'ARS' in locus_id : \n",
    "        return 'Replication' \n",
    "    if 'CEN' in locus_id : \n",
    "        return \"Centromere\"\n",
    "    if 'TEL' in locus_id : \n",
    "        return \"Telomere\"\n",
    "    if 'NTS1-2' in locus_id :\n",
    "        return 'Mating-related region'\n",
    "    if 'RE' in locus_id :\n",
    "        return 'Recombination enhancer'\n",
    "    if 'HM' in locus_id :\n",
    "        return \"Mating-related region\"\n",
    "    if 'MATALPHA' in locus_id :\n",
    "        return \"Mating-related region\"\n",
    "    else : \n",
    "        try : \n",
    "            res = re.findall(r'(^[A-Z]+[a-z]+)', locus_id)\n",
    "            if len(res) == 1 :\n",
    "                if genome_annotations == \"LTR_retrotransposon\":\n",
    "                    return \"LTR retrotransposon\"\n",
    "                else : \n",
    "                    return \"LTR\"\n",
    "        except :\n",
    "            return x \n",
    "    return np.nan"
   ]
  },
  {
   "cell_type": "code",
   "execution_count": null,
   "metadata": {},
   "outputs": [],
   "source": [
    "ALL_ANNOTATIONS[\"snps_class_down\"] = ALL_ANNOTATIONS['snp_id'].progress_apply(get_snps_class_down)"
   ]
  },
  {
   "cell_type": "code",
   "execution_count": null,
   "metadata": {},
   "outputs": [],
   "source": [
    "ALL_ANNOTATIONS.groupby(\"snps_class_up\").count()"
   ]
  },
  {
   "cell_type": "code",
   "execution_count": null,
   "metadata": {},
   "outputs": [],
   "source": [
    "ALL_ANNOTATIONS[(ALL_ANNOTATIONS['snps_class_up'] == 'CDS') & (ALL_ANNOTATIONS['snps_class_down'] != 'CDS')]"
   ]
  },
  {
   "cell_type": "code",
   "execution_count": null,
   "metadata": {},
   "outputs": [],
   "source": [
    "ALL_ANNOTATIONS.groupby(\"snps_class_down\").count()"
   ]
  },
  {
   "cell_type": "code",
   "execution_count": null,
   "metadata": {},
   "outputs": [],
   "source": [
    "all_snps.merge(ALL_ANNOTATIONS, on='snp_id', how='outer').to_csv(f'{root_path}/data/genotype_information/snps_annotations_genome-version-3-64-1.txt', index=False)"
   ]
  }
 ],
 "metadata": {
  "kernelspec": {
   "display_name": "Python 3.8.13 ('piQTL')",
   "language": "python",
   "name": "python3"
  },
  "language_info": {
   "codemirror_mode": {
    "name": "ipython",
    "version": 3
   },
   "file_extension": ".py",
   "mimetype": "text/x-python",
   "name": "python",
   "nbconvert_exporter": "python",
   "pygments_lexer": "ipython3",
   "version": "3.11.4"
  },
  "orig_nbformat": 4,
  "vscode": {
   "interpreter": {
    "hash": "b1c9f147d5e11ed2bfef82e704687f362a942886afe9a4c3e913143ced90e071"
   }
  }
 },
 "nbformat": 4,
 "nbformat_minor": 2
}
