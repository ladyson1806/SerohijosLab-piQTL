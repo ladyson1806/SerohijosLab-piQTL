{
 "cells": [
  {
   "cell_type": "code",
   "execution_count": 24,
   "id": "7f6d05e3",
   "metadata": {},
   "outputs": [],
   "source": [
    "import os, subprocess\n",
    "\n",
    "from tqdm import tqdm"
   ]
  },
  {
   "cell_type": "markdown",
   "id": "2e2e15d3",
   "metadata": {},
   "source": [
    "#### Create folder outputs in original folder"
   ]
  },
  {
   "cell_type": "code",
   "execution_count": 37,
   "id": "3fdf8d69",
   "metadata": {},
   "outputs": [],
   "source": [
    "september_batch = 'HLTCTAFX3'\n",
    "september_folder = f'/media/UTELifeNAS/homes/Savvy/piQTL/DATA/bioinfo.iric.ca/seq/2a6890f284e7a257013e61cd6f6fba46/{september_batch}/fastq/'\n",
    "\n",
    "final_folder = f'/media/UTELifeNAS/homes/Savvy/piQTL/DATA/original'\n",
    "folder_names = [ folder for folder in os.listdir(september_folder) ]\n",
    "create_folders = [ os.mkdir(os.path.join(final_folder, folder)) for folder in folder_names ]"
   ]
  },
  {
   "cell_type": "markdown",
   "id": "57923d86",
   "metadata": {},
   "source": [
    "#### Copy fastq in original folder from september and october batch folder\n",
    "- Will generate the input file for parallel input file"
   ]
  },
  {
   "cell_type": "code",
   "execution_count": 35,
   "id": "6337b9c2",
   "metadata": {},
   "outputs": [
    {
     "name": "stderr",
     "output_type": "stream",
     "text": [
      "100%|██████████| 21/21 [00:00<00:00, 80881.90it/s]\n"
     ]
    }
   ],
   "source": [
    "september_batch = 'HLTCTAFX3'\n",
    "october_batch = 'HWF2LAFX3'\n",
    "\n",
    "september_folder = f'/media/UTELifeNAS/homes/Savvy/piQTL/DATA/bioinfo.iric.ca/seq/2a6890f284e7a257013e61cd6f6fba46/{september_batch}/fastq/'\n",
    "october_folder = f'/media/UTELifeNAS/homes/Savvy/piQTL/DATA/bioinfo.iric.ca/seq/2a6890f284e7a257013e61cd6f6fba46/{october_batch}/fastq/'\n",
    "\n",
    "f = open('./parallel_lines/group_fastq_parallel.txt', 'w')\n",
    "for folder in tqdm(os.listdir(september_folder)):\n",
    "    source1_folder = os.path.join(september_folder, folder)\n",
    "    source2_folder = os.path.join(october_folder, folder)\n",
    "    target_folder = os.path.join(final_folder, folder)\n",
    "    #### Copy the fastq files\n",
    "    for source_folder in [source1_folder, source2_folder]:\n",
    "        f.write(f'cp {source_folder}/*.gz {target_folder}\\n')\n",
    "f.close()"
   ]
  },
  {
   "cell_type": "code",
   "execution_count": null,
   "id": "9b278215",
   "metadata": {},
   "outputs": [],
   "source": [
    "#### To run in the terminal in your current working directory\n",
    "! time parallel -j 4 < ./parallel_lines/group_fastq_parallel.txt"
   ]
  },
  {
   "cell_type": "markdown",
   "id": "cb54987a",
   "metadata": {},
   "source": [
    "#### Merge the fastq within each sample folder"
   ]
  },
  {
   "cell_type": "code",
   "execution_count": 40,
   "id": "a39cb42b",
   "metadata": {},
   "outputs": [
    {
     "name": "stderr",
     "output_type": "stream",
     "text": [
      "100%|██████████| 21/21 [00:00<00:00, 49762.93it/s]\n"
     ]
    }
   ],
   "source": [
    "f = open('./parallel_lines/merge_fastq_parallel.txt', 'w')\n",
    "for folder in tqdm(os.listdir(final_folder)):\n",
    "    for R in ['R1', 'R2']:\n",
    "        input_file = os.path.join(final_folder, folder, f'*_{R}_001.fastq.gz')\n",
    "        output_file = os.path.join(final_folder, folder, f'{folder.replace(\"Sample_\",\"\")}_{R}.fastq.gz ')\n",
    "        merge_cmd = f'cat {input_file} > {output_file}\\n'\n",
    "        f.write(merge_cmd)\n",
    "f.close()"
   ]
  },
  {
   "cell_type": "code",
   "execution_count": null,
   "id": "1a6ab7e3",
   "metadata": {},
   "outputs": [],
   "source": [
    "#### To run in the terminal in your current working directory\n",
    "! time parallel -j 4 < ./parallel_lines/merge_fastq_parallel.txt"
   ]
  }
 ],
 "metadata": {
  "kernelspec": {
   "display_name": "Python 3.8.13 ('piQTL')",
   "language": "python",
   "name": "python3"
  },
  "language_info": {
   "codemirror_mode": {
    "name": "ipython",
    "version": 3
   },
   "file_extension": ".py",
   "mimetype": "text/x-python",
   "name": "python",
   "nbconvert_exporter": "python",
   "pygments_lexer": "ipython3",
   "version": "3.8.13 (default, Mar 28 2022, 11:38:47) \n[GCC 7.5.0]"
  },
  "vscode": {
   "interpreter": {
    "hash": "b1c9f147d5e11ed2bfef82e704687f362a942886afe9a4c3e913143ced90e071"
   }
  }
 },
 "nbformat": 4,
 "nbformat_minor": 5
}
