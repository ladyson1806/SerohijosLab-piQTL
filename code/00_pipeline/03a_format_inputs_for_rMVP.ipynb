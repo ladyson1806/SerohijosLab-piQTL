{
 "cells": [
  {
   "cell_type": "code",
   "execution_count": 1,
   "metadata": {},
   "outputs": [],
   "source": [
    "import os \n",
    "import numpy as np\n",
    "import pandas as pd\n",
    "\n",
    "from IPython.display import display"
   ]
  },
  {
   "cell_type": "markdown",
   "metadata": {},
   "source": [
    "#### Formatting phenotype (She and Jarosz study)"
   ]
  },
  {
   "cell_type": "code",
   "execution_count": 2,
   "metadata": {},
   "outputs": [],
   "source": [
    "phenotype_folder = '/home/savvy/PROJECTS/PHD/piQTL_project/reference_she_jarosz_gwas/data/inputs/subset/she_jarosz_phenotype'\n",
    "\n",
    "ALL_TRAITS = []\n",
    "for table in sorted(os.listdir(phenotype_folder)):\n",
    "    for DRUG in ['5Fcytosine', 'Fluconazole', 'Methotrexate', 'Trifluoperazine']:\n",
    "        if DRUG in table :\n",
    "            TMP = pd.read_csv(f'{phenotype_folder}/{table}').rename(columns={\"17.2\":\"17_2\", \"40.2\":\"40_2\", \"180.2\":\"180_2\"})\n",
    "            ALL_TRAITS.append(TMP.set_index('condition').T)\n",
    "\n",
    "PHENOTYPE = pd.concat(ALL_TRAITS, axis=1)\n",
    "PHENOTYPE = PHENOTYPE.reset_index().rename(columns={'index':'TAXA'})"
   ]
  },
  {
   "cell_type": "code",
   "execution_count": 41,
   "metadata": {},
   "outputs": [
    {
     "data": {
      "text/html": [
       "<div>\n",
       "<style scoped>\n",
       "    .dataframe tbody tr th:only-of-type {\n",
       "        vertical-align: middle;\n",
       "    }\n",
       "\n",
       "    .dataframe tbody tr th {\n",
       "        vertical-align: top;\n",
       "    }\n",
       "\n",
       "    .dataframe thead th {\n",
       "        text-align: right;\n",
       "    }\n",
       "</style>\n",
       "<table border=\"1\" class=\"dataframe\">\n",
       "  <thead>\n",
       "    <tr style=\"text-align: right;\">\n",
       "      <th>condition</th>\n",
       "      <th>TAXA</th>\n",
       "      <th>30h-5Fcytosine</th>\n",
       "      <th>44h-5Fcytosine</th>\n",
       "      <th>72h-5Fcytosine</th>\n",
       "      <th>36h-Fluconazole</th>\n",
       "      <th>43h-Fluconazole</th>\n",
       "      <th>58h-Fluconazole</th>\n",
       "      <th>44h-Methotrexate</th>\n",
       "      <th>48h-Trifluoperazine</th>\n",
       "      <th>120h-Trifluoperazine</th>\n",
       "      <th>44h-Trifluoperazine</th>\n",
       "      <th>72h-Trifluoperazine</th>\n",
       "      <th>144h-Trifluoperazine</th>\n",
       "    </tr>\n",
       "  </thead>\n",
       "  <tbody>\n",
       "    <tr>\n",
       "      <th>0</th>\n",
       "      <td>6</td>\n",
       "      <td>243.75</td>\n",
       "      <td>417.00</td>\n",
       "      <td>690.00</td>\n",
       "      <td>315.00</td>\n",
       "      <td>571.25</td>\n",
       "      <td>753.25</td>\n",
       "      <td>585.00</td>\n",
       "      <td>1039.00</td>\n",
       "      <td>736.750000</td>\n",
       "      <td>6.50</td>\n",
       "      <td>442.00</td>\n",
       "      <td>1131.25</td>\n",
       "    </tr>\n",
       "    <tr>\n",
       "      <th>1</th>\n",
       "      <td>7</td>\n",
       "      <td>256.50</td>\n",
       "      <td>436.50</td>\n",
       "      <td>684.75</td>\n",
       "      <td>320.25</td>\n",
       "      <td>582.50</td>\n",
       "      <td>741.50</td>\n",
       "      <td>731.75</td>\n",
       "      <td>1117.75</td>\n",
       "      <td>75.750000</td>\n",
       "      <td>28.50</td>\n",
       "      <td>639.50</td>\n",
       "      <td>1271.50</td>\n",
       "    </tr>\n",
       "    <tr>\n",
       "      <th>2</th>\n",
       "      <td>14</td>\n",
       "      <td>191.25</td>\n",
       "      <td>338.00</td>\n",
       "      <td>552.25</td>\n",
       "      <td>314.25</td>\n",
       "      <td>375.00</td>\n",
       "      <td>434.25</td>\n",
       "      <td>811.50</td>\n",
       "      <td>1025.50</td>\n",
       "      <td>314.000000</td>\n",
       "      <td>0.75</td>\n",
       "      <td>337.75</td>\n",
       "      <td>1015.75</td>\n",
       "    </tr>\n",
       "    <tr>\n",
       "      <th>3</th>\n",
       "      <td>15</td>\n",
       "      <td>315.25</td>\n",
       "      <td>504.25</td>\n",
       "      <td>725.00</td>\n",
       "      <td>18.00</td>\n",
       "      <td>257.50</td>\n",
       "      <td>471.50</td>\n",
       "      <td>806.00</td>\n",
       "      <td>1010.75</td>\n",
       "      <td>917.250000</td>\n",
       "      <td>67.50</td>\n",
       "      <td>829.25</td>\n",
       "      <td>1590.75</td>\n",
       "    </tr>\n",
       "    <tr>\n",
       "      <th>4</th>\n",
       "      <td>17</td>\n",
       "      <td>135.75</td>\n",
       "      <td>119.25</td>\n",
       "      <td>384.25</td>\n",
       "      <td>211.75</td>\n",
       "      <td>464.75</td>\n",
       "      <td>573.75</td>\n",
       "      <td>638.00</td>\n",
       "      <td>931.00</td>\n",
       "      <td>217.000000</td>\n",
       "      <td>4.00</td>\n",
       "      <td>170.75</td>\n",
       "      <td>592.25</td>\n",
       "    </tr>\n",
       "    <tr>\n",
       "      <th>...</th>\n",
       "      <td>...</td>\n",
       "      <td>...</td>\n",
       "      <td>...</td>\n",
       "      <td>...</td>\n",
       "      <td>...</td>\n",
       "      <td>...</td>\n",
       "      <td>...</td>\n",
       "      <td>...</td>\n",
       "      <td>...</td>\n",
       "      <td>...</td>\n",
       "      <td>...</td>\n",
       "      <td>...</td>\n",
       "      <td>...</td>\n",
       "    </tr>\n",
       "    <tr>\n",
       "      <th>352</th>\n",
       "      <td>1065</td>\n",
       "      <td>242.75</td>\n",
       "      <td>374.75</td>\n",
       "      <td>561.75</td>\n",
       "      <td>425.75</td>\n",
       "      <td>616.25</td>\n",
       "      <td>767.50</td>\n",
       "      <td>800.50</td>\n",
       "      <td>1099.00</td>\n",
       "      <td>-1.000000</td>\n",
       "      <td>1.25</td>\n",
       "      <td>90.00</td>\n",
       "      <td>698.00</td>\n",
       "    </tr>\n",
       "    <tr>\n",
       "      <th>353</th>\n",
       "      <td>1069</td>\n",
       "      <td>350.25</td>\n",
       "      <td>756.00</td>\n",
       "      <td>1271.50</td>\n",
       "      <td>399.50</td>\n",
       "      <td>605.50</td>\n",
       "      <td>785.25</td>\n",
       "      <td>947.25</td>\n",
       "      <td>1113.50</td>\n",
       "      <td>585.666667</td>\n",
       "      <td>1.50</td>\n",
       "      <td>48.25</td>\n",
       "      <td>929.50</td>\n",
       "    </tr>\n",
       "    <tr>\n",
       "      <th>354</th>\n",
       "      <td>17_2</td>\n",
       "      <td>135.75</td>\n",
       "      <td>119.25</td>\n",
       "      <td>384.25</td>\n",
       "      <td>211.75</td>\n",
       "      <td>464.75</td>\n",
       "      <td>573.75</td>\n",
       "      <td>638.00</td>\n",
       "      <td>931.00</td>\n",
       "      <td>217.000000</td>\n",
       "      <td>4.00</td>\n",
       "      <td>170.75</td>\n",
       "      <td>592.25</td>\n",
       "    </tr>\n",
       "    <tr>\n",
       "      <th>355</th>\n",
       "      <td>40_2</td>\n",
       "      <td>230.00</td>\n",
       "      <td>337.50</td>\n",
       "      <td>490.50</td>\n",
       "      <td>212.50</td>\n",
       "      <td>501.50</td>\n",
       "      <td>603.75</td>\n",
       "      <td>741.25</td>\n",
       "      <td>970.50</td>\n",
       "      <td>465.500000</td>\n",
       "      <td>151.00</td>\n",
       "      <td>738.75</td>\n",
       "      <td>1241.00</td>\n",
       "    </tr>\n",
       "    <tr>\n",
       "      <th>356</th>\n",
       "      <td>180_2</td>\n",
       "      <td>152.75</td>\n",
       "      <td>113.50</td>\n",
       "      <td>402.50</td>\n",
       "      <td>438.50</td>\n",
       "      <td>636.00</td>\n",
       "      <td>805.25</td>\n",
       "      <td>945.00</td>\n",
       "      <td>1157.75</td>\n",
       "      <td>53.500000</td>\n",
       "      <td>248.00</td>\n",
       "      <td>349.50</td>\n",
       "      <td>999.00</td>\n",
       "    </tr>\n",
       "  </tbody>\n",
       "</table>\n",
       "<p>357 rows × 13 columns</p>\n",
       "</div>"
      ],
      "text/plain": [
       "condition   TAXA  30h-5Fcytosine  44h-5Fcytosine  72h-5Fcytosine  \\\n",
       "0              6          243.75          417.00          690.00   \n",
       "1              7          256.50          436.50          684.75   \n",
       "2             14          191.25          338.00          552.25   \n",
       "3             15          315.25          504.25          725.00   \n",
       "4             17          135.75          119.25          384.25   \n",
       "..           ...             ...             ...             ...   \n",
       "352         1065          242.75          374.75          561.75   \n",
       "353         1069          350.25          756.00         1271.50   \n",
       "354         17_2          135.75          119.25          384.25   \n",
       "355         40_2          230.00          337.50          490.50   \n",
       "356        180_2          152.75          113.50          402.50   \n",
       "\n",
       "condition  36h-Fluconazole  43h-Fluconazole  58h-Fluconazole  \\\n",
       "0                   315.00           571.25           753.25   \n",
       "1                   320.25           582.50           741.50   \n",
       "2                   314.25           375.00           434.25   \n",
       "3                    18.00           257.50           471.50   \n",
       "4                   211.75           464.75           573.75   \n",
       "..                     ...              ...              ...   \n",
       "352                 425.75           616.25           767.50   \n",
       "353                 399.50           605.50           785.25   \n",
       "354                 211.75           464.75           573.75   \n",
       "355                 212.50           501.50           603.75   \n",
       "356                 438.50           636.00           805.25   \n",
       "\n",
       "condition  44h-Methotrexate  48h-Trifluoperazine  120h-Trifluoperazine  \\\n",
       "0                    585.00              1039.00            736.750000   \n",
       "1                    731.75              1117.75             75.750000   \n",
       "2                    811.50              1025.50            314.000000   \n",
       "3                    806.00              1010.75            917.250000   \n",
       "4                    638.00               931.00            217.000000   \n",
       "..                      ...                  ...                   ...   \n",
       "352                  800.50              1099.00             -1.000000   \n",
       "353                  947.25              1113.50            585.666667   \n",
       "354                  638.00               931.00            217.000000   \n",
       "355                  741.25               970.50            465.500000   \n",
       "356                  945.00              1157.75             53.500000   \n",
       "\n",
       "condition  44h-Trifluoperazine  72h-Trifluoperazine  144h-Trifluoperazine  \n",
       "0                         6.50               442.00               1131.25  \n",
       "1                        28.50               639.50               1271.50  \n",
       "2                         0.75               337.75               1015.75  \n",
       "3                        67.50               829.25               1590.75  \n",
       "4                         4.00               170.75                592.25  \n",
       "..                         ...                  ...                   ...  \n",
       "352                       1.25                90.00                698.00  \n",
       "353                       1.50                48.25                929.50  \n",
       "354                       4.00               170.75                592.25  \n",
       "355                     151.00               738.75               1241.00  \n",
       "356                     248.00               349.50                999.00  \n",
       "\n",
       "[357 rows x 13 columns]"
      ]
     },
     "metadata": {},
     "output_type": "display_data"
    }
   ],
   "source": [
    "display(PHENOTYPE)"
   ]
  },
  {
   "cell_type": "code",
   "execution_count": 4,
   "metadata": {},
   "outputs": [
    {
     "data": {
      "image/png": "[encoded data removed]",
      "text/plain": [
       "<Figure size 360x360 with 1 Axes>"
      ]
     },
     "metadata": {
      "needs_background": "light"
     },
     "output_type": "display_data"
    },
    {
     "data": {
      "image/png": "[encoded data removed]",
      "text/plain": [
       "<Figure size 360x360 with 1 Axes>"
      ]
     },
     "metadata": {
      "needs_background": "light"
     },
     "output_type": "display_data"
    },
    {
     "data": {
      "image/png": "[encoded data removed]",
      "text/plain": [
       "<Figure size 360x360 with 1 Axes>"
      ]
     },
     "metadata": {
      "needs_background": "light"
     },
     "output_type": "display_data"
    },
    {
     "data": {
      "image/png": "[encoded data removed]",
      "text/plain": [
       "<Figure size 360x360 with 1 Axes>"
      ]
     },
     "metadata": {
      "needs_background": "light"
     },
     "output_type": "display_data"
    },
    {
     "data": {
      "image/png": "[encoded data removed]",
      "text/plain": [
       "<Figure size 360x360 with 1 Axes>"
      ]
     },
     "metadata": {
      "needs_background": "light"
     },
     "output_type": "display_data"
    },
    {
     "data": {
      "image/png": "[encoded data removed]",
      "text/plain": [
       "<Figure size 360x360 with 1 Axes>"
      ]
     },
     "metadata": {
      "needs_background": "light"
     },
     "output_type": "display_data"
    },
    {
     "data": {
      "image/png": "[encoded data removed]",
      "text/plain": [
       "<Figure size 360x360 with 1 Axes>"
      ]
     },
     "metadata": {
      "needs_background": "light"
     },
     "output_type": "display_data"
    },
    {
     "data": {
      "image/png": "[encoded data removed]",
      "text/plain": [
       "<Figure size 360x360 with 1 Axes>"
      ]
     },
     "metadata": {
      "needs_background": "light"
     },
     "output_type": "display_data"
    },
    {
     "data": {
      "image/png": "[encoded data removed]",
      "text/plain": [
       "<Figure size 360x360 with 1 Axes>"
      ]
     },
     "metadata": {
      "needs_background": "light"
     },
     "output_type": "display_data"
    },
    {
     "data": {
      "image/png": "[encoded data removed]",
      "text/plain": [
       "<Figure size 360x360 with 1 Axes>"
      ]
     },
     "metadata": {
      "needs_background": "light"
     },
     "output_type": "display_data"
    },
    {
     "data": {
      "image/png": "[encoded data removed]",
      "text/plain": [
       "<Figure size 360x360 with 1 Axes>"
      ]
     },
     "metadata": {
      "needs_background": "light"
     },
     "output_type": "display_data"
    },
    {
     "data": {
      "image/png": "[encoded data removed]",
      "text/plain": [
       "<Figure size 360x360 with 1 Axes>"
      ]
     },
     "metadata": {
      "needs_background": "light"
     },
     "output_type": "display_data"
    }
   ],
   "source": [
    "import seaborn as sns \n",
    "\n",
    "for col in PHENOTYPE.columns[1:]:\n",
    "    sns.displot(PHENOTYPE[col])"
   ]
  },
  {
   "cell_type": "code",
   "execution_count": 43,
   "metadata": {},
   "outputs": [],
   "source": [
    "PHENOTYPE.to_csv('../../data/rMVP/rMVP_pre_inputs/Phenotype_sj2018.txt', sep='\\t', index=False)"
   ]
  },
  {
   "cell_type": "markdown",
   "metadata": {},
   "source": [
    "#### Formatting genotype (removing SNPs with more than 5% of missing genotype)"
   ]
  },
  {
   "cell_type": "code",
   "execution_count": 8,
   "metadata": {},
   "outputs": [],
   "source": [
    "genotype = pd.read_csv('../../data/genotype_information/piQTL_genotype_matrix_dec2022.txt').rename(columns={\"17.2\":\"17_2\", \"40.2\":\"40_2\", \"180.2\":\"180_2\"})\n",
    "count_0 = []\n",
    "for snp_id in genotype['snp_id']:\n",
    "    count_0.append([snp_id, ((genotype[genotype['snp_id'] == snp_id].values == 0).sum() / 357) * 100])\n",
    "\n",
    "# df_0 = pd.DataFrame(count_0, columns=['snp_id', 'missing_genotype'])\n",
    "# no_NAs = list(df_0[df_0['missing_genotype'] <= 5]['snp_id'].values)\n",
    "# genotype = genotype[genotype['snp_id'].isin(no_NAs)]\n",
    "genotype = genotype.drop(columns='snp_id')\n",
    "genotype.to_csv('../../data/genotype_information/rMVP/Genotype.txt', sep='\\t', header=False, index=False)"
   ]
  },
  {
   "cell_type": "code",
   "execution_count": 135,
   "metadata": {},
   "outputs": [],
   "source": [
    "savvy_met1 = genotype[genotype['snp_id'].isin(no_NAs)]"
   ]
  },
  {
   "cell_type": "code",
   "execution_count": 136,
   "metadata": {},
   "outputs": [],
   "source": [
    "tatsuya_met2 = genotype[genotype['snp_id'].isin(tatsuya_noNAs)]"
   ]
  },
  {
   "cell_type": "code",
   "execution_count": 33,
   "metadata": {},
   "outputs": [],
   "source": [
    "# GENOTYPE.to_csv('../../data/genotype_information/rMVP/Genotype_noNAs.txt', sep='\\t', header=False, index=False)"
   ]
  },
  {
   "cell_type": "code",
   "execution_count": 4,
   "metadata": {},
   "outputs": [
    {
     "name": "stderr",
     "output_type": "stream",
     "text": [
      "/tmp/ipykernel_91628/1432050893.py:3: SettingWithCopyWarning: \n",
      "A value is trying to be set on a copy of a slice from a DataFrame.\n",
      "Try using .loc[row_indexer,col_indexer] = value instead\n",
      "\n",
      "See the caveats in the documentation: https://pandas.pydata.org/pandas-docs/stable/user_guide/indexing.html#returning-a-view-versus-a-copy\n",
      "  SNP_MAP['Chr'] = [ SNP_MAP['Chr'][i].replace('CHR_','').replace('CHR','') for i in SNP_MAP.index ]\n"
     ]
    }
   ],
   "source": [
    "snp_info = pd.read_csv('/home/savvy/PROJECTS/PHD/piQTL/data/genotype_information/snps_annotations_genome-version-3-64-1.txt').rename(columns={'snp_id':'SNP', 'chrom':'Chr', 'position':'Pos'})\n",
    "SNP_MAP = snp_info[['SNP','Chr','Pos']]\n",
    "SNP_MAP['Chr'] = [ SNP_MAP['Chr'][i].replace('CHR_','').replace('CHR','') for i in SNP_MAP.index ]\n",
    "# SNP_MAP = SNP_MAP[SNP_MAP['SNP'].isin(no_NAs)]\n",
    "SNP_MAP.to_csv('../../data/genotype_information/rMVP/Map.txt', sep='\\t', index=False)"
   ]
  },
  {
   "cell_type": "code",
   "execution_count": 5,
   "metadata": {},
   "outputs": [
    {
     "data": {
      "text/html": [
       "<div>\n",
       "<style scoped>\n",
       "    .dataframe tbody tr th:only-of-type {\n",
       "        vertical-align: middle;\n",
       "    }\n",
       "\n",
       "    .dataframe tbody tr th {\n",
       "        vertical-align: top;\n",
       "    }\n",
       "\n",
       "    .dataframe thead th {\n",
       "        text-align: right;\n",
       "    }\n",
       "</style>\n",
       "<table border=\"1\" class=\"dataframe\">\n",
       "  <thead>\n",
       "    <tr style=\"text-align: right;\">\n",
       "      <th></th>\n",
       "      <th>SNP</th>\n",
       "      <th>Chr</th>\n",
       "      <th>Pos</th>\n",
       "    </tr>\n",
       "  </thead>\n",
       "  <tbody>\n",
       "    <tr>\n",
       "      <th>0</th>\n",
       "      <td>1</td>\n",
       "      <td>1</td>\n",
       "      <td>1025</td>\n",
       "    </tr>\n",
       "    <tr>\n",
       "      <th>1</th>\n",
       "      <td>2</td>\n",
       "      <td>1</td>\n",
       "      <td>1035</td>\n",
       "    </tr>\n",
       "    <tr>\n",
       "      <th>2</th>\n",
       "      <td>3</td>\n",
       "      <td>1</td>\n",
       "      <td>1074</td>\n",
       "    </tr>\n",
       "    <tr>\n",
       "      <th>3</th>\n",
       "      <td>4</td>\n",
       "      <td>1</td>\n",
       "      <td>1470</td>\n",
       "    </tr>\n",
       "    <tr>\n",
       "      <th>4</th>\n",
       "      <td>5</td>\n",
       "      <td>1</td>\n",
       "      <td>1475</td>\n",
       "    </tr>\n",
       "    <tr>\n",
       "      <th>...</th>\n",
       "      <td>...</td>\n",
       "      <td>...</td>\n",
       "      <td>...</td>\n",
       "    </tr>\n",
       "    <tr>\n",
       "      <th>12049</th>\n",
       "      <td>12050</td>\n",
       "      <td>MT</td>\n",
       "      <td>74432</td>\n",
       "    </tr>\n",
       "    <tr>\n",
       "      <th>12050</th>\n",
       "      <td>12051</td>\n",
       "      <td>MT</td>\n",
       "      <td>74433</td>\n",
       "    </tr>\n",
       "    <tr>\n",
       "      <th>12051</th>\n",
       "      <td>12052</td>\n",
       "      <td>MT</td>\n",
       "      <td>77708</td>\n",
       "    </tr>\n",
       "    <tr>\n",
       "      <th>12052</th>\n",
       "      <td>12053</td>\n",
       "      <td>MT</td>\n",
       "      <td>84245</td>\n",
       "    </tr>\n",
       "    <tr>\n",
       "      <th>12053</th>\n",
       "      <td>12054</td>\n",
       "      <td>MT</td>\n",
       "      <td>84250</td>\n",
       "    </tr>\n",
       "  </tbody>\n",
       "</table>\n",
       "<p>12054 rows × 3 columns</p>\n",
       "</div>"
      ],
      "text/plain": [
       "         SNP Chr    Pos\n",
       "0          1   1   1025\n",
       "1          2   1   1035\n",
       "2          3   1   1074\n",
       "3          4   1   1470\n",
       "4          5   1   1475\n",
       "...      ...  ..    ...\n",
       "12049  12050  MT  74432\n",
       "12050  12051  MT  74433\n",
       "12051  12052  MT  77708\n",
       "12052  12053  MT  84245\n",
       "12053  12054  MT  84250\n",
       "\n",
       "[12054 rows x 3 columns]"
      ]
     },
     "metadata": {},
     "output_type": "display_data"
    }
   ],
   "source": [
    "display(SNP_MAP)"
   ]
  },
  {
   "cell_type": "code",
   "execution_count": 36,
   "metadata": {},
   "outputs": [],
   "source": [
    "SNP_MAP.to_csv('../../data/genotype_information/rMVP/Map_noNAs.txt', sep='\\t', index=False)"
   ]
  },
  {
   "cell_type": "markdown",
   "metadata": {},
   "source": [
    "#### Checking valid SNPs from Savvy and Tatsuya's datasets"
   ]
  },
  {
   "cell_type": "code",
   "execution_count": 138,
   "metadata": {},
   "outputs": [
    {
     "data": {
      "image/png": "[encoded data removed]",
      "text/plain": [
       "<Figure size 432x288 with 1 Axes>"
      ]
     },
     "metadata": {},
     "output_type": "display_data"
    }
   ],
   "source": [
    "venn2(subsets=(set(savvy_met1['snp_id']), set(tatsuya_met2['snp_id'])), set_colors=('blue', 'red'), set_labels=(\"Savvy's valid SNPs\", \"Tatsuya's valid SNPs\"))\n",
    "plt.show()"
   ]
  },
  {
   "cell_type": "code",
   "execution_count": 155,
   "metadata": {},
   "outputs": [],
   "source": [
    "differ_between_tatsuya_savvy = (set(set(savvy_met1['snp_id']) - set(tatsuya_met2['snp_id'])) | set(set(tatsuya_met2['snp_id']) - set(savvy_met1['snp_id'])))"
   ]
  },
  {
   "cell_type": "code",
   "execution_count": 161,
   "metadata": {},
   "outputs": [],
   "source": [
    "met1 = df_0[df_0['snp_id'].isin(differ_between_tatsuya_savvy)]\n",
    "met2 = tatsuya_missing_genotype[df_0['snp_id'].isin(differ_between_tatsuya_savvy)]"
   ]
  },
  {
   "cell_type": "code",
   "execution_count": 206,
   "metadata": {},
   "outputs": [
    {
     "data": {
      "text/html": [
       "<div>\n",
       "<style scoped>\n",
       "    .dataframe tbody tr th:only-of-type {\n",
       "        vertical-align: middle;\n",
       "    }\n",
       "\n",
       "    .dataframe tbody tr th {\n",
       "        vertical-align: top;\n",
       "    }\n",
       "\n",
       "    .dataframe thead th {\n",
       "        text-align: right;\n",
       "    }\n",
       "</style>\n",
       "<table border=\"1\" class=\"dataframe\">\n",
       "  <thead>\n",
       "    <tr style=\"text-align: right;\">\n",
       "      <th></th>\n",
       "      <th>snp_id</th>\n",
       "      <th>0_tatsuya</th>\n",
       "      <th>0_savvy</th>\n",
       "    </tr>\n",
       "  </thead>\n",
       "  <tbody>\n",
       "    <tr>\n",
       "      <th>0</th>\n",
       "      <td>1253</td>\n",
       "      <td>60</td>\n",
       "      <td>8</td>\n",
       "    </tr>\n",
       "    <tr>\n",
       "      <th>1</th>\n",
       "      <td>1254</td>\n",
       "      <td>64</td>\n",
       "      <td>17</td>\n",
       "    </tr>\n",
       "    <tr>\n",
       "      <th>2</th>\n",
       "      <td>1255</td>\n",
       "      <td>133</td>\n",
       "      <td>7</td>\n",
       "    </tr>\n",
       "    <tr>\n",
       "      <th>3</th>\n",
       "      <td>1257</td>\n",
       "      <td>88</td>\n",
       "      <td>3</td>\n",
       "    </tr>\n",
       "    <tr>\n",
       "      <th>4</th>\n",
       "      <td>1258</td>\n",
       "      <td>15</td>\n",
       "      <td>37</td>\n",
       "    </tr>\n",
       "    <tr>\n",
       "      <th>...</th>\n",
       "      <td>...</td>\n",
       "      <td>...</td>\n",
       "      <td>...</td>\n",
       "    </tr>\n",
       "    <tr>\n",
       "      <th>1789</th>\n",
       "      <td>11044</td>\n",
       "      <td>280</td>\n",
       "      <td>7</td>\n",
       "    </tr>\n",
       "    <tr>\n",
       "      <th>1790</th>\n",
       "      <td>11045</td>\n",
       "      <td>346</td>\n",
       "      <td>9</td>\n",
       "    </tr>\n",
       "    <tr>\n",
       "      <th>1791</th>\n",
       "      <td>11046</td>\n",
       "      <td>186</td>\n",
       "      <td>8</td>\n",
       "    </tr>\n",
       "    <tr>\n",
       "      <th>1792</th>\n",
       "      <td>11047</td>\n",
       "      <td>256</td>\n",
       "      <td>13</td>\n",
       "    </tr>\n",
       "    <tr>\n",
       "      <th>1793</th>\n",
       "      <td>11048</td>\n",
       "      <td>141</td>\n",
       "      <td>4</td>\n",
       "    </tr>\n",
       "  </tbody>\n",
       "</table>\n",
       "<p>1794 rows × 3 columns</p>\n",
       "</div>"
      ],
      "text/plain": [
       "      snp_id  0_tatsuya  0_savvy\n",
       "0       1253         60        8\n",
       "1       1254         64       17\n",
       "2       1255        133        7\n",
       "3       1257         88        3\n",
       "4       1258         15       37\n",
       "...      ...        ...      ...\n",
       "1789   11044        280        7\n",
       "1790   11045        346        9\n",
       "1791   11046        186        8\n",
       "1792   11047        256       13\n",
       "1793   11048        141        4\n",
       "\n",
       "[1794 rows x 3 columns]"
      ]
     },
     "execution_count": 206,
     "metadata": {},
     "output_type": "execute_result"
    }
   ],
   "source": [
    "savvy_0 = []\n",
    "for snp in differ_between_tatsuya_savvy :\n",
    "    savvy_0.append([snp, (genotype[genotype['snp_id'] == snp ].values == 0).sum()])\n",
    "\n",
    "savvy_snp_frq = pd.DataFrame(savvy_0, columns=['snp_id', '0'])\n",
    "snps_frequency[['snp_id', '0']].merge(savvy_snp_frq, on='snp_id', suffixes=['_tatsuya', '_savvy'])"
   ]
  },
  {
   "cell_type": "code",
   "execution_count": 219,
   "metadata": {},
   "outputs": [
    {
     "data": {
      "text/html": [
       "<div>\n",
       "<style scoped>\n",
       "    .dataframe tbody tr th:only-of-type {\n",
       "        vertical-align: middle;\n",
       "    }\n",
       "\n",
       "    .dataframe tbody tr th {\n",
       "        vertical-align: top;\n",
       "    }\n",
       "\n",
       "    .dataframe thead th {\n",
       "        text-align: right;\n",
       "    }\n",
       "</style>\n",
       "<table border=\"1\" class=\"dataframe\">\n",
       "  <thead>\n",
       "    <tr style=\"text-align: right;\">\n",
       "      <th></th>\n",
       "      <th>snp_id</th>\n",
       "      <th>-1</th>\n",
       "      <th>0</th>\n",
       "      <th>1</th>\n",
       "    </tr>\n",
       "  </thead>\n",
       "  <tbody>\n",
       "    <tr>\n",
       "      <th>0</th>\n",
       "      <td>1</td>\n",
       "      <td>127</td>\n",
       "      <td>119</td>\n",
       "      <td>108</td>\n",
       "    </tr>\n",
       "    <tr>\n",
       "      <th>1</th>\n",
       "      <td>2</td>\n",
       "      <td>125</td>\n",
       "      <td>124</td>\n",
       "      <td>105</td>\n",
       "    </tr>\n",
       "    <tr>\n",
       "      <th>2</th>\n",
       "      <td>3</td>\n",
       "      <td>125</td>\n",
       "      <td>229</td>\n",
       "      <td>0</td>\n",
       "    </tr>\n",
       "    <tr>\n",
       "      <th>3</th>\n",
       "      <td>4</td>\n",
       "      <td>127</td>\n",
       "      <td>227</td>\n",
       "      <td>0</td>\n",
       "    </tr>\n",
       "    <tr>\n",
       "      <th>4</th>\n",
       "      <td>5</td>\n",
       "      <td>188</td>\n",
       "      <td>136</td>\n",
       "      <td>30</td>\n",
       "    </tr>\n",
       "    <tr>\n",
       "      <th>...</th>\n",
       "      <td>...</td>\n",
       "      <td>...</td>\n",
       "      <td>...</td>\n",
       "      <td>...</td>\n",
       "    </tr>\n",
       "    <tr>\n",
       "      <th>12049</th>\n",
       "      <td>12050</td>\n",
       "      <td>207</td>\n",
       "      <td>6</td>\n",
       "      <td>141</td>\n",
       "    </tr>\n",
       "    <tr>\n",
       "      <th>12050</th>\n",
       "      <td>12051</td>\n",
       "      <td>264</td>\n",
       "      <td>36</td>\n",
       "      <td>54</td>\n",
       "    </tr>\n",
       "    <tr>\n",
       "      <th>12051</th>\n",
       "      <td>12052</td>\n",
       "      <td>5</td>\n",
       "      <td>312</td>\n",
       "      <td>37</td>\n",
       "    </tr>\n",
       "    <tr>\n",
       "      <th>12052</th>\n",
       "      <td>12053</td>\n",
       "      <td>30</td>\n",
       "      <td>285</td>\n",
       "      <td>39</td>\n",
       "    </tr>\n",
       "    <tr>\n",
       "      <th>12053</th>\n",
       "      <td>12054</td>\n",
       "      <td>30</td>\n",
       "      <td>285</td>\n",
       "      <td>39</td>\n",
       "    </tr>\n",
       "  </tbody>\n",
       "</table>\n",
       "<p>12054 rows × 4 columns</p>\n",
       "</div>"
      ],
      "text/plain": [
       "       snp_id   -1    0    1\n",
       "0           1  127  119  108\n",
       "1           2  125  124  105\n",
       "2           3  125  229    0\n",
       "3           4  127  227    0\n",
       "4           5  188  136   30\n",
       "...       ...  ...  ...  ...\n",
       "12049   12050  207    6  141\n",
       "12050   12051  264   36   54\n",
       "12051   12052    5  312   37\n",
       "12052   12053   30  285   39\n",
       "12053   12054   30  285   39\n",
       "\n",
       "[12054 rows x 4 columns]"
      ]
     },
     "execution_count": 219,
     "metadata": {},
     "output_type": "execute_result"
    }
   ],
   "source": [
    "snps_frequency"
   ]
  },
  {
   "cell_type": "code",
   "execution_count": 218,
   "metadata": {},
   "outputs": [
    {
     "data": {
      "text/html": [
       "<div>\n",
       "<style scoped>\n",
       "    .dataframe tbody tr th:only-of-type {\n",
       "        vertical-align: middle;\n",
       "    }\n",
       "\n",
       "    .dataframe tbody tr th {\n",
       "        vertical-align: top;\n",
       "    }\n",
       "\n",
       "    .dataframe thead th {\n",
       "        text-align: right;\n",
       "    }\n",
       "</style>\n",
       "<table border=\"1\" class=\"dataframe\">\n",
       "  <thead>\n",
       "    <tr style=\"text-align: right;\">\n",
       "      <th></th>\n",
       "      <th>snp_id</th>\n",
       "      <th>-1</th>\n",
       "      <th>0</th>\n",
       "      <th>1</th>\n",
       "    </tr>\n",
       "  </thead>\n",
       "  <tbody>\n",
       "    <tr>\n",
       "      <th>1252</th>\n",
       "      <td>1253</td>\n",
       "      <td>41</td>\n",
       "      <td>60</td>\n",
       "      <td>253</td>\n",
       "    </tr>\n",
       "  </tbody>\n",
       "</table>\n",
       "</div>"
      ],
      "text/plain": [
       "      snp_id  -1   0    1\n",
       "1252    1253  41  60  253"
      ]
     },
     "execution_count": 218,
     "metadata": {},
     "output_type": "execute_result"
    }
   ],
   "source": [
    "snps_frequency[snps_frequency['snp_id'] == 1253]"
   ]
  },
  {
   "cell_type": "code",
   "execution_count": 217,
   "metadata": {},
   "outputs": [
    {
     "data": {
      "text/plain": [
       "(array([-1,  0,  1]), array([177,   8, 172]))"
      ]
     },
     "execution_count": 217,
     "metadata": {},
     "output_type": "execute_result"
    }
   ],
   "source": [
    "np.unique(genotype[genotype['snp_id'] == 1253].values[0][1:], return_counts=True)"
   ]
  },
  {
   "cell_type": "code",
   "execution_count": 178,
   "metadata": {},
   "outputs": [
    {
     "data": {
      "image/png": "[encoded data removed]",
      "text/plain": [
       "<Figure size 432x288 with 1 Axes>"
      ]
     },
     "metadata": {
      "needs_background": "light"
     },
     "output_type": "display_data"
    }
   ],
   "source": [
    "sns.histplot(met1['missing_genotype'], stat=\"density\", color='blue', bins=20)\n",
    "\n",
    "# plot histogram chart for var2\n",
    "n_bins = 20\n",
    "# get positions and heights of bars\n",
    "heights, bins = np.histogram(met2['0'], density=True, bins=n_bins) \n",
    "# multiply by -1 to reverse it\n",
    "heights *= -1\n",
    "bin_width = np.diff(bins)[0]\n",
    "bin_pos =( bins[:-1] + bin_width / 2) * 1\n",
    "\n",
    "# plot\n",
    "plt.bar(bin_pos, heights, width=bin_width, edgecolor='black')\n",
    "plt.show()"
   ]
  },
  {
   "cell_type": "markdown",
   "metadata": {},
   "source": [
    "___"
   ]
  },
  {
   "cell_type": "code",
   "execution_count": 13,
   "metadata": {},
   "outputs": [],
   "source": [
    "f = open('../../data/genotype_information/snps_checking/savvy_valid_snps.txt', 'r')\n",
    "savvy_snps = [int(line.strip()) for line in f.readlines() ]\n",
    "f.close()\n",
    "\n",
    "f = open('../../data/genotype_information/snps_checking/tatsuya_valid_snps.txt', 'r')\n",
    "tatsuya_snps = [int(line.strip()) for line in f.readlines() ]\n",
    "f.close()"
   ]
  },
  {
   "cell_type": "code",
   "execution_count": 132,
   "metadata": {},
   "outputs": [],
   "source": [
    "snps_frequency = pd.read_csv('../../data/genotype_information/snps_checking/snp_type_frequency.csv')\n",
    "tatsuya_missing_genotype = (snps_frequency[[\"-1\",\"0\",\"1\"]] / 354) * 100\n",
    "tatsuya_missing_genotype['snp_id'] = snps_frequency['snp_id'].astype(int)\n",
    "tatsuya_noNAs = tatsuya_missing_genotype[tatsuya_missing_genotype[\"0\"] <= 5]['snp_id']"
   ]
  },
  {
   "cell_type": "code",
   "execution_count": 80,
   "metadata": {},
   "outputs": [],
   "source": [
    "import matplotlib.pyplot as plt \n",
    "from matplotlib_venn import venn2\n",
    "import seaborn as sns"
   ]
  },
  {
   "cell_type": "code",
   "execution_count": 88,
   "metadata": {},
   "outputs": [
    {
     "data": {
      "image/png": "[encoded data removed]",
      "text/plain": [
       "<Figure size 432x288 with 1 Axes>"
      ]
     },
     "metadata": {},
     "output_type": "display_data"
    }
   ],
   "source": [
    "venn2(subsets=(set(no_NAs),set(tatsuya_noNAs)), set_labels=(\"Savvy's valid SNPs\", \"Tatsuya's valid SNPs\"), set_colors=['darkblue', 'darkred'])\n",
    "plt.title(\"Overlapping between Savvy's and Tatsuya's valid SNPs\")\n",
    "plt.show()"
   ]
  },
  {
   "cell_type": "markdown",
   "metadata": {},
   "source": [
    "#### Genotype missing data (Savvy's method from dataframe & Tatsuya from snps frequency)"
   ]
  },
  {
   "cell_type": "code",
   "execution_count": 112,
   "metadata": {},
   "outputs": [
    {
     "data": {
      "image/png": "[encoded data removed]",
      "text/plain": [
       "<Figure size 864x720 with 4 Axes>"
      ]
     },
     "metadata": {
      "needs_background": "light"
     },
     "output_type": "display_data"
    }
   ],
   "source": [
    "f, axes = plt.subplots(nrows=2, ncols=2, figsize=(12,10))\n",
    "\n",
    "savvy_valid_snps_mg_met1 = df_0[df_0[\"snp_id\"].isin(savvy_snps)]\n",
    "sns.histplot(savvy_valid_snps_mg_met1[\"missing_genotype\"], color='blue', ax=axes[0,0])\n",
    "axes[0,0].set_title(\"Savvy's valid SNPs (Savvy's missing genotype rate)\")\n",
    "\n",
    "tatsuya_valid_snps_mg_met1 = df_0[df_0[\"snp_id\"].isin(tatsuya_snps)]\n",
    "sns.histplot(tatsuya_valid_snps_mg_met1[\"missing_genotype\"], color='red', ax=axes[1,0])\n",
    "axes[1,0].set_title(\"Tatsuya's valid SNPs (Savvy's missing genotype rate)\")\n",
    "\n",
    "\n",
    "\n",
    "savvy_valid_snps_mg_met2 = tatsuya_missing_genotype[tatsuya_missing_genotype[\"snp_id\"].isin(savvy_snps)]\n",
    "sns.histplot(savvy_valid_snps_mg_met2[\"0\"], color='blue', ax=axes[0,1])\n",
    "axes[0,1].set_title(\"Savvy's valid SNPs (Tatsuya's missing genotype rate)\")\n",
    "\n",
    "tatsuya_valid_snps_mg_met2 = tatsuya_missing_genotype[tatsuya_missing_genotype[\"snp_id\"].isin(tatsuya_snps)]\n",
    "sns.histplot(tatsuya_valid_snps_mg_met2[\"0\"], color='red', ax=axes[1,1])\n",
    "axes[1,1].set_title(\"Tatsuya's valid SNPs (Tatsuya's missing genotype rate)\")\n",
    "plt.show()"
   ]
  },
  {
   "cell_type": "code",
   "execution_count": 221,
   "metadata": {},
   "outputs": [],
   "source": [
    "tatsuya_genotype_matrix = pd.read_csv('../../data/genotype_information/snps_checking/genotype_matrix_piQTL.csv')"
   ]
  },
  {
   "cell_type": "code",
   "execution_count": 228,
   "metadata": {},
   "outputs": [
    {
     "data": {
      "text/plain": [
       "<matplotlib_venn._common.VennDiagram at 0x7fbf5c6ae160>"
      ]
     },
     "execution_count": 228,
     "metadata": {},
     "output_type": "execute_result"
    },
    {
     "data": {
      "image/png": "[encoded data removed]",
      "text/plain": [
       "<Figure size 432x288 with 1 Axes>"
      ]
     },
     "metadata": {},
     "output_type": "display_data"
    }
   ],
   "source": [
    "venn2(subsets=(set(genotype.columns[:-3]), set(tatsuya_genotype_matrix.columns)), set_labels=('Savvy', 'Tatusya'))"
   ]
  },
  {
   "cell_type": "markdown",
   "metadata": {},
   "source": [
    "#### Test on a good SNPs"
   ]
  },
  {
   "cell_type": "code",
   "execution_count": 235,
   "metadata": {},
   "outputs": [
    {
     "data": {
      "text/plain": [
       "(array([-1,  0,  1,  8]), array([123,   9, 222,   1]))"
      ]
     },
     "execution_count": 235,
     "metadata": {},
     "output_type": "execute_result"
    }
   ],
   "source": [
    "np.unique(genotype[genotype['snp_id'] == 8][genotype.columns[:-3]], return_counts=True)"
   ]
  },
  {
   "cell_type": "code",
   "execution_count": 234,
   "metadata": {},
   "outputs": [
    {
     "data": {
      "text/plain": [
       "(array([-1,  0,  1,  8]), array([123,   9, 222,   1]))"
      ]
     },
     "execution_count": 234,
     "metadata": {},
     "output_type": "execute_result"
    }
   ],
   "source": [
    "np.unique(tatsuya_genotype_matrix[tatsuya_genotype_matrix['snp_id'] == 8], return_counts=True)"
   ]
  },
  {
   "cell_type": "markdown",
   "metadata": {},
   "source": [
    "#### Test on a bad SNPs"
   ]
  },
  {
   "cell_type": "code",
   "execution_count": 236,
   "metadata": {},
   "outputs": [
    {
     "data": {
      "text/plain": [
       "(array([  -1,    0,    1, 1253]), array([175,   8, 171,   1]))"
      ]
     },
     "execution_count": 236,
     "metadata": {},
     "output_type": "execute_result"
    }
   ],
   "source": [
    "np.unique(genotype[genotype['snp_id'] == 1253][genotype.columns[:-3]], return_counts=True)"
   ]
  },
  {
   "cell_type": "code",
   "execution_count": 237,
   "metadata": {},
   "outputs": [
    {
     "data": {
      "text/plain": [
       "(array([  -1,    0,    1, 1253]), array([ 41,  60, 253,   1]))"
      ]
     },
     "execution_count": 237,
     "metadata": {},
     "output_type": "execute_result"
    }
   ],
   "source": [
    "np.unique(tatsuya_genotype_matrix[tatsuya_genotype_matrix['snp_id'] == 1253], return_counts=True)"
   ]
  },
  {
   "cell_type": "code",
   "execution_count": 284,
   "metadata": {},
   "outputs": [],
   "source": [
    "she_jarosz_genotype = pd.read_csv('../../data/genotype_information/piQTL_genotype_matrix_dec2022_from_pipeline.txt')"
   ]
  },
  {
   "cell_type": "code",
   "execution_count": 285,
   "metadata": {},
   "outputs": [
    {
     "data": {
      "text/html": [
       "<div>\n",
       "<style scoped>\n",
       "    .dataframe tbody tr th:only-of-type {\n",
       "        vertical-align: middle;\n",
       "    }\n",
       "\n",
       "    .dataframe tbody tr th {\n",
       "        vertical-align: top;\n",
       "    }\n",
       "\n",
       "    .dataframe thead th {\n",
       "        text-align: right;\n",
       "    }\n",
       "</style>\n",
       "<table border=\"1\" class=\"dataframe\">\n",
       "  <thead>\n",
       "    <tr style=\"text-align: right;\">\n",
       "      <th></th>\n",
       "      <th>snp_id</th>\n",
       "      <th>6</th>\n",
       "      <th>7</th>\n",
       "      <th>14</th>\n",
       "      <th>15</th>\n",
       "      <th>17</th>\n",
       "      <th>20</th>\n",
       "      <th>22</th>\n",
       "      <th>27</th>\n",
       "      <th>29</th>\n",
       "      <th>...</th>\n",
       "      <th>1038</th>\n",
       "      <th>1040</th>\n",
       "      <th>1046</th>\n",
       "      <th>1050</th>\n",
       "      <th>1052</th>\n",
       "      <th>1065</th>\n",
       "      <th>1069</th>\n",
       "      <th>17_2</th>\n",
       "      <th>40_2</th>\n",
       "      <th>180_2</th>\n",
       "    </tr>\n",
       "  </thead>\n",
       "  <tbody>\n",
       "    <tr>\n",
       "      <th>0</th>\n",
       "      <td>1</td>\n",
       "      <td>1</td>\n",
       "      <td>0</td>\n",
       "      <td>1</td>\n",
       "      <td>0</td>\n",
       "      <td>1</td>\n",
       "      <td>0</td>\n",
       "      <td>1</td>\n",
       "      <td>-1</td>\n",
       "      <td>0</td>\n",
       "      <td>...</td>\n",
       "      <td>-1</td>\n",
       "      <td>-1</td>\n",
       "      <td>-1</td>\n",
       "      <td>-1</td>\n",
       "      <td>-1</td>\n",
       "      <td>-1</td>\n",
       "      <td>0</td>\n",
       "      <td>1</td>\n",
       "      <td>1</td>\n",
       "      <td>-1</td>\n",
       "    </tr>\n",
       "    <tr>\n",
       "      <th>1</th>\n",
       "      <td>2</td>\n",
       "      <td>1</td>\n",
       "      <td>1</td>\n",
       "      <td>-1</td>\n",
       "      <td>-1</td>\n",
       "      <td>1</td>\n",
       "      <td>0</td>\n",
       "      <td>1</td>\n",
       "      <td>-1</td>\n",
       "      <td>-1</td>\n",
       "      <td>...</td>\n",
       "      <td>-1</td>\n",
       "      <td>0</td>\n",
       "      <td>0</td>\n",
       "      <td>-1</td>\n",
       "      <td>0</td>\n",
       "      <td>0</td>\n",
       "      <td>0</td>\n",
       "      <td>1</td>\n",
       "      <td>1</td>\n",
       "      <td>-1</td>\n",
       "    </tr>\n",
       "    <tr>\n",
       "      <th>2</th>\n",
       "      <td>3</td>\n",
       "      <td>0</td>\n",
       "      <td>0</td>\n",
       "      <td>-1</td>\n",
       "      <td>-1</td>\n",
       "      <td>0</td>\n",
       "      <td>-1</td>\n",
       "      <td>0</td>\n",
       "      <td>0</td>\n",
       "      <td>0</td>\n",
       "      <td>...</td>\n",
       "      <td>-1</td>\n",
       "      <td>0</td>\n",
       "      <td>0</td>\n",
       "      <td>-1</td>\n",
       "      <td>0</td>\n",
       "      <td>0</td>\n",
       "      <td>0</td>\n",
       "      <td>0</td>\n",
       "      <td>0</td>\n",
       "      <td>0</td>\n",
       "    </tr>\n",
       "    <tr>\n",
       "      <th>3</th>\n",
       "      <td>4</td>\n",
       "      <td>0</td>\n",
       "      <td>0</td>\n",
       "      <td>0</td>\n",
       "      <td>0</td>\n",
       "      <td>0</td>\n",
       "      <td>0</td>\n",
       "      <td>0</td>\n",
       "      <td>0</td>\n",
       "      <td>0</td>\n",
       "      <td>...</td>\n",
       "      <td>0</td>\n",
       "      <td>0</td>\n",
       "      <td>-1</td>\n",
       "      <td>0</td>\n",
       "      <td>0</td>\n",
       "      <td>-1</td>\n",
       "      <td>-1</td>\n",
       "      <td>0</td>\n",
       "      <td>0</td>\n",
       "      <td>0</td>\n",
       "    </tr>\n",
       "    <tr>\n",
       "      <th>4</th>\n",
       "      <td>5</td>\n",
       "      <td>-1</td>\n",
       "      <td>-1</td>\n",
       "      <td>-1</td>\n",
       "      <td>-1</td>\n",
       "      <td>-1</td>\n",
       "      <td>1</td>\n",
       "      <td>-1</td>\n",
       "      <td>-1</td>\n",
       "      <td>-1</td>\n",
       "      <td>...</td>\n",
       "      <td>1</td>\n",
       "      <td>0</td>\n",
       "      <td>-1</td>\n",
       "      <td>0</td>\n",
       "      <td>0</td>\n",
       "      <td>1</td>\n",
       "      <td>-1</td>\n",
       "      <td>-1</td>\n",
       "      <td>1</td>\n",
       "      <td>-1</td>\n",
       "    </tr>\n",
       "    <tr>\n",
       "      <th>...</th>\n",
       "      <td>...</td>\n",
       "      <td>...</td>\n",
       "      <td>...</td>\n",
       "      <td>...</td>\n",
       "      <td>...</td>\n",
       "      <td>...</td>\n",
       "      <td>...</td>\n",
       "      <td>...</td>\n",
       "      <td>...</td>\n",
       "      <td>...</td>\n",
       "      <td>...</td>\n",
       "      <td>...</td>\n",
       "      <td>...</td>\n",
       "      <td>...</td>\n",
       "      <td>...</td>\n",
       "      <td>...</td>\n",
       "      <td>...</td>\n",
       "      <td>...</td>\n",
       "      <td>...</td>\n",
       "      <td>...</td>\n",
       "      <td>...</td>\n",
       "    </tr>\n",
       "    <tr>\n",
       "      <th>12049</th>\n",
       "      <td>12050</td>\n",
       "      <td>1</td>\n",
       "      <td>1</td>\n",
       "      <td>1</td>\n",
       "      <td>-1</td>\n",
       "      <td>-1</td>\n",
       "      <td>1</td>\n",
       "      <td>-1</td>\n",
       "      <td>1</td>\n",
       "      <td>-1</td>\n",
       "      <td>...</td>\n",
       "      <td>-1</td>\n",
       "      <td>-1</td>\n",
       "      <td>-1</td>\n",
       "      <td>-1</td>\n",
       "      <td>1</td>\n",
       "      <td>1</td>\n",
       "      <td>0</td>\n",
       "      <td>-1</td>\n",
       "      <td>1</td>\n",
       "      <td>-1</td>\n",
       "    </tr>\n",
       "    <tr>\n",
       "      <th>12050</th>\n",
       "      <td>12051</td>\n",
       "      <td>0</td>\n",
       "      <td>0</td>\n",
       "      <td>0</td>\n",
       "      <td>0</td>\n",
       "      <td>0</td>\n",
       "      <td>0</td>\n",
       "      <td>0</td>\n",
       "      <td>0</td>\n",
       "      <td>0</td>\n",
       "      <td>...</td>\n",
       "      <td>-1</td>\n",
       "      <td>-1</td>\n",
       "      <td>-1</td>\n",
       "      <td>-1</td>\n",
       "      <td>1</td>\n",
       "      <td>-1</td>\n",
       "      <td>1</td>\n",
       "      <td>0</td>\n",
       "      <td>0</td>\n",
       "      <td>-1</td>\n",
       "    </tr>\n",
       "    <tr>\n",
       "      <th>12051</th>\n",
       "      <td>12052</td>\n",
       "      <td>0</td>\n",
       "      <td>0</td>\n",
       "      <td>1</td>\n",
       "      <td>0</td>\n",
       "      <td>0</td>\n",
       "      <td>0</td>\n",
       "      <td>0</td>\n",
       "      <td>0</td>\n",
       "      <td>0</td>\n",
       "      <td>...</td>\n",
       "      <td>0</td>\n",
       "      <td>0</td>\n",
       "      <td>0</td>\n",
       "      <td>0</td>\n",
       "      <td>0</td>\n",
       "      <td>0</td>\n",
       "      <td>0</td>\n",
       "      <td>0</td>\n",
       "      <td>0</td>\n",
       "      <td>0</td>\n",
       "    </tr>\n",
       "    <tr>\n",
       "      <th>12052</th>\n",
       "      <td>12053</td>\n",
       "      <td>1</td>\n",
       "      <td>0</td>\n",
       "      <td>1</td>\n",
       "      <td>0</td>\n",
       "      <td>0</td>\n",
       "      <td>-1</td>\n",
       "      <td>-1</td>\n",
       "      <td>0</td>\n",
       "      <td>-1</td>\n",
       "      <td>...</td>\n",
       "      <td>0</td>\n",
       "      <td>0</td>\n",
       "      <td>0</td>\n",
       "      <td>0</td>\n",
       "      <td>0</td>\n",
       "      <td>1</td>\n",
       "      <td>0</td>\n",
       "      <td>0</td>\n",
       "      <td>0</td>\n",
       "      <td>0</td>\n",
       "    </tr>\n",
       "    <tr>\n",
       "      <th>12053</th>\n",
       "      <td>12054</td>\n",
       "      <td>1</td>\n",
       "      <td>0</td>\n",
       "      <td>1</td>\n",
       "      <td>0</td>\n",
       "      <td>0</td>\n",
       "      <td>-1</td>\n",
       "      <td>-1</td>\n",
       "      <td>0</td>\n",
       "      <td>-1</td>\n",
       "      <td>...</td>\n",
       "      <td>0</td>\n",
       "      <td>0</td>\n",
       "      <td>0</td>\n",
       "      <td>0</td>\n",
       "      <td>0</td>\n",
       "      <td>1</td>\n",
       "      <td>0</td>\n",
       "      <td>0</td>\n",
       "      <td>0</td>\n",
       "      <td>0</td>\n",
       "    </tr>\n",
       "  </tbody>\n",
       "</table>\n",
       "<p>12054 rows × 358 columns</p>\n",
       "</div>"
      ],
      "text/plain": [
       "       snp_id  6  7  14  15  17  20  22  27  29  ...  1038  1040  1046  1050  \\\n",
       "0           1  1  0   1   0   1   0   1  -1   0  ...    -1    -1    -1    -1   \n",
       "1           2  1  1  -1  -1   1   0   1  -1  -1  ...    -1     0     0    -1   \n",
       "2           3  0  0  -1  -1   0  -1   0   0   0  ...    -1     0     0    -1   \n",
       "3           4  0  0   0   0   0   0   0   0   0  ...     0     0    -1     0   \n",
       "4           5 -1 -1  -1  -1  -1   1  -1  -1  -1  ...     1     0    -1     0   \n",
       "...       ... .. ..  ..  ..  ..  ..  ..  ..  ..  ...   ...   ...   ...   ...   \n",
       "12049   12050  1  1   1  -1  -1   1  -1   1  -1  ...    -1    -1    -1    -1   \n",
       "12050   12051  0  0   0   0   0   0   0   0   0  ...    -1    -1    -1    -1   \n",
       "12051   12052  0  0   1   0   0   0   0   0   0  ...     0     0     0     0   \n",
       "12052   12053  1  0   1   0   0  -1  -1   0  -1  ...     0     0     0     0   \n",
       "12053   12054  1  0   1   0   0  -1  -1   0  -1  ...     0     0     0     0   \n",
       "\n",
       "       1052  1065  1069  17_2  40_2  180_2  \n",
       "0        -1    -1     0     1     1     -1  \n",
       "1         0     0     0     1     1     -1  \n",
       "2         0     0     0     0     0      0  \n",
       "3         0    -1    -1     0     0      0  \n",
       "4         0     1    -1    -1     1     -1  \n",
       "...     ...   ...   ...   ...   ...    ...  \n",
       "12049     1     1     0    -1     1     -1  \n",
       "12050     1    -1     1     0     0     -1  \n",
       "12051     0     0     0     0     0      0  \n",
       "12052     0     1     0     0     0      0  \n",
       "12053     0     1     0     0     0      0  \n",
       "\n",
       "[12054 rows x 358 columns]"
      ]
     },
     "execution_count": 285,
     "metadata": {},
     "output_type": "execute_result"
    }
   ],
   "source": [
    "she_jarosz_genotype"
   ]
  },
  {
   "cell_type": "code",
   "execution_count": 286,
   "metadata": {},
   "outputs": [
    {
     "data": {
      "text/plain": [
       "(array([-1,  0,  1,  8]), array([123,   9, 222,   1]))"
      ]
     },
     "execution_count": 286,
     "metadata": {},
     "output_type": "execute_result"
    }
   ],
   "source": [
    "np.unique(she_jarosz_genotype[she_jarosz_genotype['snp_id'] == 8][she_jarosz_genotype.columns[:-3]], return_counts=True)"
   ]
  },
  {
   "cell_type": "code",
   "execution_count": 287,
   "metadata": {},
   "outputs": [
    {
     "data": {
      "text/plain": [
       "(array([  -1,    0,    1, 1253]), array([ 41,  60, 253,   1]))"
      ]
     },
     "execution_count": 287,
     "metadata": {},
     "output_type": "execute_result"
    }
   ],
   "source": [
    "np.unique(she_jarosz_genotype[she_jarosz_genotype['snp_id'] == 1253][she_jarosz_genotype.columns[:-3]], return_counts=True)"
   ]
  },
  {
   "cell_type": "code",
   "execution_count": 249,
   "metadata": {},
   "outputs": [],
   "source": [
    "from scipy.io import loadmat"
   ]
  },
  {
   "cell_type": "code",
   "execution_count": 250,
   "metadata": {},
   "outputs": [],
   "source": [
    "original_genotype_matrix = loadmat('../../data/genotype_information/original_she_jarosz_2018/phasedGenotype.mat')"
   ]
  },
  {
   "cell_type": "code",
   "execution_count": 289,
   "metadata": {},
   "outputs": [
    {
     "data": {
      "text/html": [
       "<div>\n",
       "<style scoped>\n",
       "    .dataframe tbody tr th:only-of-type {\n",
       "        vertical-align: middle;\n",
       "    }\n",
       "\n",
       "    .dataframe tbody tr th {\n",
       "        vertical-align: top;\n",
       "    }\n",
       "\n",
       "    .dataframe thead th {\n",
       "        text-align: right;\n",
       "    }\n",
       "</style>\n",
       "<table border=\"1\" class=\"dataframe\">\n",
       "  <thead>\n",
       "    <tr style=\"text-align: right;\">\n",
       "      <th></th>\n",
       "      <th>0</th>\n",
       "      <th>1</th>\n",
       "      <th>2</th>\n",
       "      <th>3</th>\n",
       "      <th>4</th>\n",
       "      <th>5</th>\n",
       "      <th>6</th>\n",
       "      <th>7</th>\n",
       "      <th>8</th>\n",
       "      <th>9</th>\n",
       "      <th>...</th>\n",
       "      <th>12044</th>\n",
       "      <th>12045</th>\n",
       "      <th>12046</th>\n",
       "      <th>12047</th>\n",
       "      <th>12048</th>\n",
       "      <th>12049</th>\n",
       "      <th>12050</th>\n",
       "      <th>12051</th>\n",
       "      <th>12052</th>\n",
       "      <th>12053</th>\n",
       "    </tr>\n",
       "  </thead>\n",
       "  <tbody>\n",
       "    <tr>\n",
       "      <th>0</th>\n",
       "      <td>1</td>\n",
       "      <td>1</td>\n",
       "      <td>0</td>\n",
       "      <td>0</td>\n",
       "      <td>1</td>\n",
       "      <td>1</td>\n",
       "      <td>0</td>\n",
       "      <td>1</td>\n",
       "      <td>1</td>\n",
       "      <td>0</td>\n",
       "      <td>...</td>\n",
       "      <td>-1</td>\n",
       "      <td>1</td>\n",
       "      <td>0</td>\n",
       "      <td>0</td>\n",
       "      <td>0</td>\n",
       "      <td>-1</td>\n",
       "      <td>0</td>\n",
       "      <td>1</td>\n",
       "      <td>0</td>\n",
       "      <td>0</td>\n",
       "    </tr>\n",
       "    <tr>\n",
       "      <th>1</th>\n",
       "      <td>0</td>\n",
       "      <td>1</td>\n",
       "      <td>0</td>\n",
       "      <td>0</td>\n",
       "      <td>-1</td>\n",
       "      <td>-1</td>\n",
       "      <td>0</td>\n",
       "      <td>1</td>\n",
       "      <td>1</td>\n",
       "      <td>0</td>\n",
       "      <td>...</td>\n",
       "      <td>-1</td>\n",
       "      <td>1</td>\n",
       "      <td>-1</td>\n",
       "      <td>0</td>\n",
       "      <td>1</td>\n",
       "      <td>1</td>\n",
       "      <td>0</td>\n",
       "      <td>0</td>\n",
       "      <td>0</td>\n",
       "      <td>0</td>\n",
       "    </tr>\n",
       "    <tr>\n",
       "      <th>2</th>\n",
       "      <td>0</td>\n",
       "      <td>1</td>\n",
       "      <td>0</td>\n",
       "      <td>0</td>\n",
       "      <td>1</td>\n",
       "      <td>0</td>\n",
       "      <td>0</td>\n",
       "      <td>1</td>\n",
       "      <td>1</td>\n",
       "      <td>0</td>\n",
       "      <td>...</td>\n",
       "      <td>1</td>\n",
       "      <td>0</td>\n",
       "      <td>-1</td>\n",
       "      <td>0</td>\n",
       "      <td>0</td>\n",
       "      <td>1</td>\n",
       "      <td>0</td>\n",
       "      <td>0</td>\n",
       "      <td>0</td>\n",
       "      <td>0</td>\n",
       "    </tr>\n",
       "    <tr>\n",
       "      <th>3</th>\n",
       "      <td>-1</td>\n",
       "      <td>-1</td>\n",
       "      <td>-1</td>\n",
       "      <td>0</td>\n",
       "      <td>-1</td>\n",
       "      <td>-1</td>\n",
       "      <td>0</td>\n",
       "      <td>-1</td>\n",
       "      <td>-1</td>\n",
       "      <td>0</td>\n",
       "      <td>...</td>\n",
       "      <td>-1</td>\n",
       "      <td>0</td>\n",
       "      <td>-1</td>\n",
       "      <td>0</td>\n",
       "      <td>0</td>\n",
       "      <td>-1</td>\n",
       "      <td>0</td>\n",
       "      <td>0</td>\n",
       "      <td>0</td>\n",
       "      <td>0</td>\n",
       "    </tr>\n",
       "    <tr>\n",
       "      <th>4</th>\n",
       "      <td>0</td>\n",
       "      <td>-1</td>\n",
       "      <td>-1</td>\n",
       "      <td>0</td>\n",
       "      <td>0</td>\n",
       "      <td>0</td>\n",
       "      <td>0</td>\n",
       "      <td>1</td>\n",
       "      <td>1</td>\n",
       "      <td>0</td>\n",
       "      <td>...</td>\n",
       "      <td>-1</td>\n",
       "      <td>0</td>\n",
       "      <td>0</td>\n",
       "      <td>0</td>\n",
       "      <td>0</td>\n",
       "      <td>-1</td>\n",
       "      <td>0</td>\n",
       "      <td>0</td>\n",
       "      <td>1</td>\n",
       "      <td>1</td>\n",
       "    </tr>\n",
       "    <tr>\n",
       "      <th>...</th>\n",
       "      <td>...</td>\n",
       "      <td>...</td>\n",
       "      <td>...</td>\n",
       "      <td>...</td>\n",
       "      <td>...</td>\n",
       "      <td>...</td>\n",
       "      <td>...</td>\n",
       "      <td>...</td>\n",
       "      <td>...</td>\n",
       "      <td>...</td>\n",
       "      <td>...</td>\n",
       "      <td>...</td>\n",
       "      <td>...</td>\n",
       "      <td>...</td>\n",
       "      <td>...</td>\n",
       "      <td>...</td>\n",
       "      <td>...</td>\n",
       "      <td>...</td>\n",
       "      <td>...</td>\n",
       "      <td>...</td>\n",
       "      <td>...</td>\n",
       "    </tr>\n",
       "    <tr>\n",
       "      <th>1147</th>\n",
       "      <td>1</td>\n",
       "      <td>0</td>\n",
       "      <td>0</td>\n",
       "      <td>-1</td>\n",
       "      <td>-1</td>\n",
       "      <td>-1</td>\n",
       "      <td>0</td>\n",
       "      <td>-1</td>\n",
       "      <td>-1</td>\n",
       "      <td>0</td>\n",
       "      <td>...</td>\n",
       "      <td>-1</td>\n",
       "      <td>0</td>\n",
       "      <td>0</td>\n",
       "      <td>1</td>\n",
       "      <td>0</td>\n",
       "      <td>-1</td>\n",
       "      <td>-1</td>\n",
       "      <td>0</td>\n",
       "      <td>1</td>\n",
       "      <td>1</td>\n",
       "    </tr>\n",
       "    <tr>\n",
       "      <th>1148</th>\n",
       "      <td>-1</td>\n",
       "      <td>-1</td>\n",
       "      <td>0</td>\n",
       "      <td>0</td>\n",
       "      <td>0</td>\n",
       "      <td>0</td>\n",
       "      <td>0</td>\n",
       "      <td>1</td>\n",
       "      <td>1</td>\n",
       "      <td>0</td>\n",
       "      <td>...</td>\n",
       "      <td>1</td>\n",
       "      <td>0</td>\n",
       "      <td>0</td>\n",
       "      <td>0</td>\n",
       "      <td>1</td>\n",
       "      <td>-1</td>\n",
       "      <td>-1</td>\n",
       "      <td>0</td>\n",
       "      <td>0</td>\n",
       "      <td>0</td>\n",
       "    </tr>\n",
       "    <tr>\n",
       "      <th>1149</th>\n",
       "      <td>0</td>\n",
       "      <td>0</td>\n",
       "      <td>0</td>\n",
       "      <td>0</td>\n",
       "      <td>0</td>\n",
       "      <td>0</td>\n",
       "      <td>0</td>\n",
       "      <td>1</td>\n",
       "      <td>1</td>\n",
       "      <td>0</td>\n",
       "      <td>...</td>\n",
       "      <td>1</td>\n",
       "      <td>0</td>\n",
       "      <td>0</td>\n",
       "      <td>1</td>\n",
       "      <td>1</td>\n",
       "      <td>-1</td>\n",
       "      <td>-1</td>\n",
       "      <td>0</td>\n",
       "      <td>0</td>\n",
       "      <td>0</td>\n",
       "    </tr>\n",
       "    <tr>\n",
       "      <th>1150</th>\n",
       "      <td>0</td>\n",
       "      <td>0</td>\n",
       "      <td>0</td>\n",
       "      <td>-1</td>\n",
       "      <td>-1</td>\n",
       "      <td>-1</td>\n",
       "      <td>0</td>\n",
       "      <td>1</td>\n",
       "      <td>1</td>\n",
       "      <td>0</td>\n",
       "      <td>...</td>\n",
       "      <td>1</td>\n",
       "      <td>0</td>\n",
       "      <td>-1</td>\n",
       "      <td>0</td>\n",
       "      <td>1</td>\n",
       "      <td>-1</td>\n",
       "      <td>-1</td>\n",
       "      <td>0</td>\n",
       "      <td>0</td>\n",
       "      <td>0</td>\n",
       "    </tr>\n",
       "    <tr>\n",
       "      <th>1151</th>\n",
       "      <td>1</td>\n",
       "      <td>0</td>\n",
       "      <td>0</td>\n",
       "      <td>-1</td>\n",
       "      <td>-1</td>\n",
       "      <td>-1</td>\n",
       "      <td>0</td>\n",
       "      <td>-1</td>\n",
       "      <td>-1</td>\n",
       "      <td>0</td>\n",
       "      <td>...</td>\n",
       "      <td>1</td>\n",
       "      <td>0</td>\n",
       "      <td>0</td>\n",
       "      <td>0</td>\n",
       "      <td>0</td>\n",
       "      <td>1</td>\n",
       "      <td>-1</td>\n",
       "      <td>0</td>\n",
       "      <td>0</td>\n",
       "      <td>0</td>\n",
       "    </tr>\n",
       "  </tbody>\n",
       "</table>\n",
       "<p>1152 rows × 12054 columns</p>\n",
       "</div>"
      ],
      "text/plain": [
       "      0      1      2      3      4      5      6      7      8      9      \\\n",
       "0         1      1      0      0      1      1      0      1      1      0   \n",
       "1         0      1      0      0     -1     -1      0      1      1      0   \n",
       "2         0      1      0      0      1      0      0      1      1      0   \n",
       "3        -1     -1     -1      0     -1     -1      0     -1     -1      0   \n",
       "4         0     -1     -1      0      0      0      0      1      1      0   \n",
       "...     ...    ...    ...    ...    ...    ...    ...    ...    ...    ...   \n",
       "1147      1      0      0     -1     -1     -1      0     -1     -1      0   \n",
       "1148     -1     -1      0      0      0      0      0      1      1      0   \n",
       "1149      0      0      0      0      0      0      0      1      1      0   \n",
       "1150      0      0      0     -1     -1     -1      0      1      1      0   \n",
       "1151      1      0      0     -1     -1     -1      0     -1     -1      0   \n",
       "\n",
       "      ...  12044  12045  12046  12047  12048  12049  12050  12051  12052  \\\n",
       "0     ...     -1      1      0      0      0     -1      0      1      0   \n",
       "1     ...     -1      1     -1      0      1      1      0      0      0   \n",
       "2     ...      1      0     -1      0      0      1      0      0      0   \n",
       "3     ...     -1      0     -1      0      0     -1      0      0      0   \n",
       "4     ...     -1      0      0      0      0     -1      0      0      1   \n",
       "...   ...    ...    ...    ...    ...    ...    ...    ...    ...    ...   \n",
       "1147  ...     -1      0      0      1      0     -1     -1      0      1   \n",
       "1148  ...      1      0      0      0      1     -1     -1      0      0   \n",
       "1149  ...      1      0      0      1      1     -1     -1      0      0   \n",
       "1150  ...      1      0     -1      0      1     -1     -1      0      0   \n",
       "1151  ...      1      0      0      0      0      1     -1      0      0   \n",
       "\n",
       "      12053  \n",
       "0         0  \n",
       "1         0  \n",
       "2         0  \n",
       "3         0  \n",
       "4         1  \n",
       "...     ...  \n",
       "1147      1  \n",
       "1148      0  \n",
       "1149      0  \n",
       "1150      0  \n",
       "1151      0  \n",
       "\n",
       "[1152 rows x 12054 columns]"
      ]
     },
     "execution_count": 289,
     "metadata": {},
     "output_type": "execute_result"
    }
   ],
   "source": [
    "pd.DataFrame(original_genotype_matrix['phasedGenotype'])"
   ]
  },
  {
   "cell_type": "code",
   "execution_count": 258,
   "metadata": {},
   "outputs": [],
   "source": [
    "july_barcoded_strain_table = pd.read_csv('../../data/pipeline/barcode_collection.csv')\n",
    "barcoded_strains = list(july_barcoded_strain_table['strain_number'])"
   ]
  },
  {
   "cell_type": "code",
   "execution_count": 269,
   "metadata": {},
   "outputs": [],
   "source": [
    "# genotype_table.to_csv('../../data/genotype_information/piQTL_genotype_matrix_dec2022_from_piline.txt', index=False)"
   ]
  },
  {
   "cell_type": "code",
   "execution_count": 267,
   "metadata": {},
   "outputs": [
    {
     "data": {
      "text/plain": [
       "(array([-1,  0,  1,  8]), array([123,   9, 222,   1]))"
      ]
     },
     "execution_count": 267,
     "metadata": {},
     "output_type": "execute_result"
    }
   ],
   "source": [
    "np.unique(genotype_table[genotype_table['snp_id'] == 8], return_counts=True)"
   ]
  },
  {
   "cell_type": "code",
   "execution_count": 265,
   "metadata": {},
   "outputs": [],
   "source": [
    "genotype_table = pd.DataFrame(original_genotype_matrix['phasedGenotype'])\n",
    "genotype_table = genotype_table.astype(int)\n",
    "# #### Adding strain_ids\n",
    "genotype_table['snp_id'] = [ x+1 for x in range(len(original_genotype_matrix['phasedGenotype']))]\n",
    "# #### Transposing table and removing the line used for adding strain_ids as columns names\n",
    "genotype_table = genotype_table.T.reset_index(drop=True)\n",
    "genotype_table\n",
    "genotype_table.columns = genotype_table.iloc[12054]\n",
    "cols = list(np.unique(barcoded_strains))\n",
    "genotype_table = genotype_table[cols]\n",
    "genotype_table\n",
    "genotype_table = genotype_table.drop(12054)\n",
    "genotype_table.columns = genotype_table.columns.astype(str)\n",
    "genotype_table =  genotype_table.reset_index().rename(columns={'index':'snp_id'})\n",
    "genotype_table['snp_id'] = genotype_table['snp_id'] + 1\n",
    "# #### Adding duplicated strains \n",
    "genotype_table['17_2'] = genotype_table['17']\n",
    "genotype_table['40_2'] = genotype_table['40']\n",
    "genotype_table['180_2'] = genotype_table['180']"
   ]
  },
  {
   "cell_type": "code",
   "execution_count": 268,
   "metadata": {},
   "outputs": [
    {
     "data": {
      "text/plain": [
       "(array([  -1,    0,    1, 1253]), array([ 41,  60, 253,   1]))"
      ]
     },
     "execution_count": 268,
     "metadata": {},
     "output_type": "execute_result"
    }
   ],
   "source": [
    "np.unique(genotype_table[genotype_table['snp_id'] == 1253], return_counts=True)"
   ]
  },
  {
   "cell_type": "code",
   "execution_count": null,
   "metadata": {},
   "outputs": [],
   "source": []
  }
 ],
 "metadata": {
  "kernelspec": {
   "display_name": "Python 3.8.13 ('piQTL')",
   "language": "python",
   "name": "python3"
  },
  "language_info": {
   "codemirror_mode": {
    "name": "ipython",
    "version": 3
   },
   "file_extension": ".py",
   "mimetype": "text/x-python",
   "name": "python",
   "nbconvert_exporter": "python",
   "pygments_lexer": "ipython3",
   "version": "3.8.13 (default, Mar 28 2022, 11:38:47) \n[GCC 7.5.0]"
  },
  "orig_nbformat": 4,
  "vscode": {
   "interpreter": {
    "hash": "b1c9f147d5e11ed2bfef82e704687f362a942886afe9a4c3e913143ced90e071"
   }
  }
 },
 "nbformat": 4,
 "nbformat_minor": 2
}
