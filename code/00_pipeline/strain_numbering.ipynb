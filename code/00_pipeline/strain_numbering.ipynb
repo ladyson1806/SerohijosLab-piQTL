{
 "cells": [
  {
   "cell_type": "code",
   "execution_count": 2,
   "metadata": {},
   "outputs": [],
   "source": [
    "import pandas as pd\n",
    "import numpy as np"
   ]
  },
  {
   "cell_type": "code",
   "execution_count": 3,
   "metadata": {},
   "outputs": [],
   "source": [
    "PPI = pd.read_csv('../../data/pipeline/PPI_reference_barcodes.csv')\n",
    "gene_description = pd.read_csv('~/Downloads/Table S1_Bait_and_Preys.csv')"
   ]
  },
  {
   "cell_type": "code",
   "execution_count": 5,
   "metadata": {},
   "outputs": [],
   "source": [
    "genes = np.unique([ gene for PPI in PPI['PPI'] for gene in PPI.split('_') ])"
   ]
  },
  {
   "cell_type": "code",
   "execution_count": 8,
   "metadata": {},
   "outputs": [],
   "source": [
    "PPI_gene_description = gene_description[gene_description['Gene'].isin(genes)].reset_index(drop=True)"
   ]
  },
  {
   "cell_type": "code",
   "execution_count": 10,
   "metadata": {},
   "outputs": [],
   "source": [
    "PPI_gene_description.to_csv('../../data/tables/Table_S1_Bait_and_Preys.csv')"
   ]
  },
  {
   "cell_type": "code",
   "execution_count": 11,
   "metadata": {},
   "outputs": [],
   "source": [
    "strains = pd.read_csv(\"../../data/genotype_information/piQTL_genotype_matrix_dec2022.txt\")\n",
    "strain_barcode = pd.read_csv('../../data/pipeline/barcode_collection_with_ubarcodes.csv').rename(columns={'strain_number':'she_jarosz_IDs', 'revComp':'barcode'})"
   ]
  },
  {
   "cell_type": "code",
   "execution_count": 12,
   "metadata": {},
   "outputs": [],
   "source": [
    "strain_barcode = strain_barcode[['she_jarosz_IDs', 'barcode']]"
   ]
  },
  {
   "cell_type": "code",
   "execution_count": 13,
   "metadata": {},
   "outputs": [
    {
     "data": {
      "text/html": [
       "<div>\n",
       "<style scoped>\n",
       "    .dataframe tbody tr th:only-of-type {\n",
       "        vertical-align: middle;\n",
       "    }\n",
       "\n",
       "    .dataframe tbody tr th {\n",
       "        vertical-align: top;\n",
       "    }\n",
       "\n",
       "    .dataframe thead th {\n",
       "        text-align: right;\n",
       "    }\n",
       "</style>\n",
       "<table border=\"1\" class=\"dataframe\">\n",
       "  <thead>\n",
       "    <tr style=\"text-align: right;\">\n",
       "      <th></th>\n",
       "      <th>she_jarosz_IDs</th>\n",
       "      <th>barcode</th>\n",
       "    </tr>\n",
       "  </thead>\n",
       "  <tbody>\n",
       "    <tr>\n",
       "      <th>0</th>\n",
       "      <td>17</td>\n",
       "      <td>ATGGAGAGGT</td>\n",
       "    </tr>\n",
       "    <tr>\n",
       "      <th>1</th>\n",
       "      <td>254</td>\n",
       "      <td>CCGTTGAGGT</td>\n",
       "    </tr>\n",
       "    <tr>\n",
       "      <th>2</th>\n",
       "      <td>693</td>\n",
       "      <td>TCACAGAGGT</td>\n",
       "    </tr>\n",
       "    <tr>\n",
       "      <th>3</th>\n",
       "      <td>473</td>\n",
       "      <td>AAGTCGAGGT</td>\n",
       "    </tr>\n",
       "    <tr>\n",
       "      <th>4</th>\n",
       "      <td>880</td>\n",
       "      <td>TGTGTGAGGT</td>\n",
       "    </tr>\n",
       "    <tr>\n",
       "      <th>...</th>\n",
       "      <td>...</td>\n",
       "      <td>...</td>\n",
       "    </tr>\n",
       "    <tr>\n",
       "      <th>356</th>\n",
       "      <td>862</td>\n",
       "      <td>TCACAGACAC</td>\n",
       "    </tr>\n",
       "    <tr>\n",
       "      <th>357</th>\n",
       "      <td>599_ref1</td>\n",
       "      <td>CTTCGGAGGT</td>\n",
       "    </tr>\n",
       "    <tr>\n",
       "      <th>358</th>\n",
       "      <td>599_ref2</td>\n",
       "      <td>GCATCGAGGT</td>\n",
       "    </tr>\n",
       "    <tr>\n",
       "      <th>359</th>\n",
       "      <td>43_ref1</td>\n",
       "      <td>TTAGGGAGGT</td>\n",
       "    </tr>\n",
       "    <tr>\n",
       "      <th>360</th>\n",
       "      <td>43_ref2</td>\n",
       "      <td>AGATGGAGGT</td>\n",
       "    </tr>\n",
       "  </tbody>\n",
       "</table>\n",
       "<p>361 rows × 2 columns</p>\n",
       "</div>"
      ],
      "text/plain": [
       "    she_jarosz_IDs     barcode\n",
       "0               17  ATGGAGAGGT\n",
       "1              254  CCGTTGAGGT\n",
       "2              693  TCACAGAGGT\n",
       "3              473  AAGTCGAGGT\n",
       "4              880  TGTGTGAGGT\n",
       "..             ...         ...\n",
       "356            862  TCACAGACAC\n",
       "357       599_ref1  CTTCGGAGGT\n",
       "358       599_ref2  GCATCGAGGT\n",
       "359        43_ref1  TTAGGGAGGT\n",
       "360        43_ref2  AGATGGAGGT\n",
       "\n",
       "[361 rows x 2 columns]"
      ]
     },
     "execution_count": 13,
     "metadata": {},
     "output_type": "execute_result"
    }
   ],
   "source": [
    "strain_barcode"
   ]
  },
  {
   "cell_type": "code",
   "execution_count": 14,
   "metadata": {},
   "outputs": [],
   "source": [
    "table_index = []\n",
    "for i in range(len(strains.columns[1:])):\n",
    "    idx = i+1\n",
    "    table_index.append([idx, strains.columns[1:][i]])    "
   ]
  },
  {
   "cell_type": "code",
   "execution_count": 15,
   "metadata": {},
   "outputs": [],
   "source": [
    "table_mapping = pd.DataFrame(table_index, columns=['piQTL_IDs', 'she_jarosz_IDs'])"
   ]
  },
  {
   "cell_type": "code",
   "execution_count": 16,
   "metadata": {},
   "outputs": [],
   "source": [
    "table_mapping = table_mapping.merge(strain_barcode, on='she_jarosz_IDs', how='outer')"
   ]
  },
  {
   "cell_type": "code",
   "execution_count": 17,
   "metadata": {},
   "outputs": [
    {
     "data": {
      "text/html": [
       "<div>\n",
       "<style scoped>\n",
       "    .dataframe tbody tr th:only-of-type {\n",
       "        vertical-align: middle;\n",
       "    }\n",
       "\n",
       "    .dataframe tbody tr th {\n",
       "        vertical-align: top;\n",
       "    }\n",
       "\n",
       "    .dataframe thead th {\n",
       "        text-align: right;\n",
       "    }\n",
       "</style>\n",
       "<table border=\"1\" class=\"dataframe\">\n",
       "  <thead>\n",
       "    <tr style=\"text-align: right;\">\n",
       "      <th></th>\n",
       "      <th>piQTL_IDs</th>\n",
       "      <th>she_jarosz_IDs</th>\n",
       "      <th>barcode</th>\n",
       "    </tr>\n",
       "  </thead>\n",
       "  <tbody>\n",
       "    <tr>\n",
       "      <th>0</th>\n",
       "      <td>1.0</td>\n",
       "      <td>6</td>\n",
       "      <td>ATGGATTCTC</td>\n",
       "    </tr>\n",
       "    <tr>\n",
       "      <th>1</th>\n",
       "      <td>2.0</td>\n",
       "      <td>7</td>\n",
       "      <td>ATGGATGGTA</td>\n",
       "    </tr>\n",
       "    <tr>\n",
       "      <th>2</th>\n",
       "      <td>3.0</td>\n",
       "      <td>14</td>\n",
       "      <td>ATACCGAGGT</td>\n",
       "    </tr>\n",
       "    <tr>\n",
       "      <th>3</th>\n",
       "      <td>4.0</td>\n",
       "      <td>15</td>\n",
       "      <td>ATACCTTCTC</td>\n",
       "    </tr>\n",
       "    <tr>\n",
       "      <th>4</th>\n",
       "      <td>5.0</td>\n",
       "      <td>17</td>\n",
       "      <td>ATGGAGAGGT</td>\n",
       "    </tr>\n",
       "    <tr>\n",
       "      <th>...</th>\n",
       "      <td>...</td>\n",
       "      <td>...</td>\n",
       "      <td>...</td>\n",
       "    </tr>\n",
       "    <tr>\n",
       "      <th>356</th>\n",
       "      <td>357.0</td>\n",
       "      <td>180_2</td>\n",
       "      <td>ATGGAAGGAT</td>\n",
       "    </tr>\n",
       "    <tr>\n",
       "      <th>357</th>\n",
       "      <td>NaN</td>\n",
       "      <td>599_ref1</td>\n",
       "      <td>CTTCGGAGGT</td>\n",
       "    </tr>\n",
       "    <tr>\n",
       "      <th>358</th>\n",
       "      <td>NaN</td>\n",
       "      <td>599_ref2</td>\n",
       "      <td>GCATCGAGGT</td>\n",
       "    </tr>\n",
       "    <tr>\n",
       "      <th>359</th>\n",
       "      <td>NaN</td>\n",
       "      <td>43_ref1</td>\n",
       "      <td>TTAGGGAGGT</td>\n",
       "    </tr>\n",
       "    <tr>\n",
       "      <th>360</th>\n",
       "      <td>NaN</td>\n",
       "      <td>43_ref2</td>\n",
       "      <td>AGATGGAGGT</td>\n",
       "    </tr>\n",
       "  </tbody>\n",
       "</table>\n",
       "<p>361 rows × 3 columns</p>\n",
       "</div>"
      ],
      "text/plain": [
       "     piQTL_IDs she_jarosz_IDs     barcode\n",
       "0          1.0              6  ATGGATTCTC\n",
       "1          2.0              7  ATGGATGGTA\n",
       "2          3.0             14  ATACCGAGGT\n",
       "3          4.0             15  ATACCTTCTC\n",
       "4          5.0             17  ATGGAGAGGT\n",
       "..         ...            ...         ...\n",
       "356      357.0          180_2  ATGGAAGGAT\n",
       "357        NaN       599_ref1  CTTCGGAGGT\n",
       "358        NaN       599_ref2  GCATCGAGGT\n",
       "359        NaN        43_ref1  TTAGGGAGGT\n",
       "360        NaN        43_ref2  AGATGGAGGT\n",
       "\n",
       "[361 rows x 3 columns]"
      ]
     },
     "execution_count": 17,
     "metadata": {},
     "output_type": "execute_result"
    }
   ],
   "source": [
    "table_mapping"
   ]
  },
  {
   "cell_type": "code",
   "execution_count": 57,
   "metadata": {},
   "outputs": [],
   "source": [
    "table_mapping.to_csv('.../../data/tables/piQTL_strain_numbering.csv', index=False)"
   ]
  },
  {
   "cell_type": "code",
   "execution_count": null,
   "metadata": {},
   "outputs": [],
   "source": []
  }
 ],
 "metadata": {
  "kernelspec": {
   "display_name": "piQTL",
   "language": "python",
   "name": "python3"
  },
  "language_info": {
   "codemirror_mode": {
    "name": "ipython",
    "version": 3
   },
   "file_extension": ".py",
   "mimetype": "text/x-python",
   "name": "python",
   "nbconvert_exporter": "python",
   "pygments_lexer": "ipython3",
   "version": "3.8.13"
  },
  "orig_nbformat": 4,
  "vscode": {
   "interpreter": {
    "hash": "b1c9f147d5e11ed2bfef82e704687f362a942886afe9a4c3e913143ced90e071"
   }
  }
 },
 "nbformat": 4,
 "nbformat_minor": 2
}
