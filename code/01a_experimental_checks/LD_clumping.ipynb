{
 "cells": [
  {
   "cell_type": "code",
   "execution_count": 1,
   "metadata": {},
   "outputs": [],
   "source": [
    "import roman\n",
    "import numpy as np\n",
    "import pandas as pd\n",
    "import seaborn as sns\n",
    "import matplotlib.pyplot as plt\n",
    "\n",
    "from tqdm import tqdm\n",
    "from pandas.api.types import CategoricalDtype"
   ]
  },
  {
   "cell_type": "code",
   "execution_count": 2,
   "metadata": {},
   "outputs": [],
   "source": [
    "LD_table = pd.read_csv('./LD_table.csv')"
   ]
  },
  {
   "cell_type": "code",
   "execution_count": 3,
   "metadata": {},
   "outputs": [
    {
     "data": {
      "text/html": [
       "<div>\n",
       "<style scoped>\n",
       "    .dataframe tbody tr th:only-of-type {\n",
       "        vertical-align: middle;\n",
       "    }\n",
       "\n",
       "    .dataframe tbody tr th {\n",
       "        vertical-align: top;\n",
       "    }\n",
       "\n",
       "    .dataframe thead th {\n",
       "        text-align: right;\n",
       "    }\n",
       "</style>\n",
       "<table border=\"1\" class=\"dataframe\">\n",
       "  <thead>\n",
       "    <tr style=\"text-align: right;\">\n",
       "      <th></th>\n",
       "      <th>SNP</th>\n",
       "      <th>1</th>\n",
       "      <th>2</th>\n",
       "      <th>3</th>\n",
       "      <th>4</th>\n",
       "      <th>5</th>\n",
       "      <th>6</th>\n",
       "      <th>7</th>\n",
       "      <th>8</th>\n",
       "      <th>9</th>\n",
       "      <th>...</th>\n",
       "      <th>12045</th>\n",
       "      <th>12046</th>\n",
       "      <th>12047</th>\n",
       "      <th>12048</th>\n",
       "      <th>12049</th>\n",
       "      <th>12050</th>\n",
       "      <th>12051</th>\n",
       "      <th>12052</th>\n",
       "      <th>12053</th>\n",
       "      <th>12054</th>\n",
       "    </tr>\n",
       "  </thead>\n",
       "  <tbody>\n",
       "    <tr>\n",
       "      <th>0</th>\n",
       "      <td>1</td>\n",
       "      <td>0</td>\n",
       "      <td>0.527728</td>\n",
       "      <td>0.143989</td>\n",
       "      <td>0.000250</td>\n",
       "      <td>0.000421</td>\n",
       "      <td>0.000769</td>\n",
       "      <td>0.000003</td>\n",
       "      <td>0.000327</td>\n",
       "      <td>0.002448</td>\n",
       "      <td>...</td>\n",
       "      <td>0.0</td>\n",
       "      <td>0.0</td>\n",
       "      <td>0.0</td>\n",
       "      <td>0.0</td>\n",
       "      <td>0.0</td>\n",
       "      <td>0.0</td>\n",
       "      <td>0.000000</td>\n",
       "      <td>0.000000</td>\n",
       "      <td>0.000000</td>\n",
       "      <td>0.000000</td>\n",
       "    </tr>\n",
       "    <tr>\n",
       "      <th>1</th>\n",
       "      <td>2</td>\n",
       "      <td>0</td>\n",
       "      <td>0.000000</td>\n",
       "      <td>0.214541</td>\n",
       "      <td>0.000214</td>\n",
       "      <td>0.000074</td>\n",
       "      <td>0.001374</td>\n",
       "      <td>0.000639</td>\n",
       "      <td>0.000810</td>\n",
       "      <td>0.000434</td>\n",
       "      <td>...</td>\n",
       "      <td>0.0</td>\n",
       "      <td>0.0</td>\n",
       "      <td>0.0</td>\n",
       "      <td>0.0</td>\n",
       "      <td>0.0</td>\n",
       "      <td>0.0</td>\n",
       "      <td>0.000000</td>\n",
       "      <td>0.000000</td>\n",
       "      <td>0.000000</td>\n",
       "      <td>0.000000</td>\n",
       "    </tr>\n",
       "    <tr>\n",
       "      <th>2</th>\n",
       "      <td>3</td>\n",
       "      <td>0</td>\n",
       "      <td>0.000000</td>\n",
       "      <td>0.000000</td>\n",
       "      <td>0.228730</td>\n",
       "      <td>0.003859</td>\n",
       "      <td>0.008643</td>\n",
       "      <td>0.466941</td>\n",
       "      <td>0.001038</td>\n",
       "      <td>0.000026</td>\n",
       "      <td>...</td>\n",
       "      <td>0.0</td>\n",
       "      <td>0.0</td>\n",
       "      <td>0.0</td>\n",
       "      <td>0.0</td>\n",
       "      <td>0.0</td>\n",
       "      <td>0.0</td>\n",
       "      <td>0.000000</td>\n",
       "      <td>0.000000</td>\n",
       "      <td>0.000000</td>\n",
       "      <td>0.000000</td>\n",
       "    </tr>\n",
       "    <tr>\n",
       "      <th>3</th>\n",
       "      <td>4</td>\n",
       "      <td>0</td>\n",
       "      <td>0.000000</td>\n",
       "      <td>0.000000</td>\n",
       "      <td>0.000000</td>\n",
       "      <td>0.248360</td>\n",
       "      <td>0.111777</td>\n",
       "      <td>0.451745</td>\n",
       "      <td>0.010595</td>\n",
       "      <td>0.010849</td>\n",
       "      <td>...</td>\n",
       "      <td>0.0</td>\n",
       "      <td>0.0</td>\n",
       "      <td>0.0</td>\n",
       "      <td>0.0</td>\n",
       "      <td>0.0</td>\n",
       "      <td>0.0</td>\n",
       "      <td>0.000000</td>\n",
       "      <td>0.000000</td>\n",
       "      <td>0.000000</td>\n",
       "      <td>0.000000</td>\n",
       "    </tr>\n",
       "    <tr>\n",
       "      <th>4</th>\n",
       "      <td>5</td>\n",
       "      <td>0</td>\n",
       "      <td>0.000000</td>\n",
       "      <td>0.000000</td>\n",
       "      <td>0.000000</td>\n",
       "      <td>0.000000</td>\n",
       "      <td>0.435762</td>\n",
       "      <td>0.011791</td>\n",
       "      <td>0.025816</td>\n",
       "      <td>0.037827</td>\n",
       "      <td>...</td>\n",
       "      <td>0.0</td>\n",
       "      <td>0.0</td>\n",
       "      <td>0.0</td>\n",
       "      <td>0.0</td>\n",
       "      <td>0.0</td>\n",
       "      <td>0.0</td>\n",
       "      <td>0.000000</td>\n",
       "      <td>0.000000</td>\n",
       "      <td>0.000000</td>\n",
       "      <td>0.000000</td>\n",
       "    </tr>\n",
       "    <tr>\n",
       "      <th>...</th>\n",
       "      <td>...</td>\n",
       "      <td>...</td>\n",
       "      <td>...</td>\n",
       "      <td>...</td>\n",
       "      <td>...</td>\n",
       "      <td>...</td>\n",
       "      <td>...</td>\n",
       "      <td>...</td>\n",
       "      <td>...</td>\n",
       "      <td>...</td>\n",
       "      <td>...</td>\n",
       "      <td>...</td>\n",
       "      <td>...</td>\n",
       "      <td>...</td>\n",
       "      <td>...</td>\n",
       "      <td>...</td>\n",
       "      <td>...</td>\n",
       "      <td>...</td>\n",
       "      <td>...</td>\n",
       "      <td>...</td>\n",
       "      <td>...</td>\n",
       "    </tr>\n",
       "    <tr>\n",
       "      <th>12049</th>\n",
       "      <td>12050</td>\n",
       "      <td>0</td>\n",
       "      <td>0.000000</td>\n",
       "      <td>0.000000</td>\n",
       "      <td>0.000000</td>\n",
       "      <td>0.000000</td>\n",
       "      <td>0.000000</td>\n",
       "      <td>0.000000</td>\n",
       "      <td>0.000000</td>\n",
       "      <td>0.000000</td>\n",
       "      <td>...</td>\n",
       "      <td>0.0</td>\n",
       "      <td>0.0</td>\n",
       "      <td>0.0</td>\n",
       "      <td>0.0</td>\n",
       "      <td>0.0</td>\n",
       "      <td>0.0</td>\n",
       "      <td>0.202868</td>\n",
       "      <td>0.000141</td>\n",
       "      <td>0.000660</td>\n",
       "      <td>0.000391</td>\n",
       "    </tr>\n",
       "    <tr>\n",
       "      <th>12050</th>\n",
       "      <td>12051</td>\n",
       "      <td>0</td>\n",
       "      <td>0.000000</td>\n",
       "      <td>0.000000</td>\n",
       "      <td>0.000000</td>\n",
       "      <td>0.000000</td>\n",
       "      <td>0.000000</td>\n",
       "      <td>0.000000</td>\n",
       "      <td>0.000000</td>\n",
       "      <td>0.000000</td>\n",
       "      <td>...</td>\n",
       "      <td>0.0</td>\n",
       "      <td>0.0</td>\n",
       "      <td>0.0</td>\n",
       "      <td>0.0</td>\n",
       "      <td>0.0</td>\n",
       "      <td>0.0</td>\n",
       "      <td>0.000000</td>\n",
       "      <td>0.002412</td>\n",
       "      <td>0.000033</td>\n",
       "      <td>0.000033</td>\n",
       "    </tr>\n",
       "    <tr>\n",
       "      <th>12051</th>\n",
       "      <td>12052</td>\n",
       "      <td>0</td>\n",
       "      <td>0.000000</td>\n",
       "      <td>0.000000</td>\n",
       "      <td>0.000000</td>\n",
       "      <td>0.000000</td>\n",
       "      <td>0.000000</td>\n",
       "      <td>0.000000</td>\n",
       "      <td>0.000000</td>\n",
       "      <td>0.000000</td>\n",
       "      <td>...</td>\n",
       "      <td>0.0</td>\n",
       "      <td>0.0</td>\n",
       "      <td>0.0</td>\n",
       "      <td>0.0</td>\n",
       "      <td>0.0</td>\n",
       "      <td>0.0</td>\n",
       "      <td>0.000000</td>\n",
       "      <td>0.000000</td>\n",
       "      <td>0.462162</td>\n",
       "      <td>0.462162</td>\n",
       "    </tr>\n",
       "    <tr>\n",
       "      <th>12052</th>\n",
       "      <td>12053</td>\n",
       "      <td>0</td>\n",
       "      <td>0.000000</td>\n",
       "      <td>0.000000</td>\n",
       "      <td>0.000000</td>\n",
       "      <td>0.000000</td>\n",
       "      <td>0.000000</td>\n",
       "      <td>0.000000</td>\n",
       "      <td>0.000000</td>\n",
       "      <td>0.000000</td>\n",
       "      <td>...</td>\n",
       "      <td>0.0</td>\n",
       "      <td>0.0</td>\n",
       "      <td>0.0</td>\n",
       "      <td>0.0</td>\n",
       "      <td>0.0</td>\n",
       "      <td>0.0</td>\n",
       "      <td>0.000000</td>\n",
       "      <td>0.000000</td>\n",
       "      <td>0.000000</td>\n",
       "      <td>0.988794</td>\n",
       "    </tr>\n",
       "    <tr>\n",
       "      <th>12053</th>\n",
       "      <td>12054</td>\n",
       "      <td>0</td>\n",
       "      <td>0.000000</td>\n",
       "      <td>0.000000</td>\n",
       "      <td>0.000000</td>\n",
       "      <td>0.000000</td>\n",
       "      <td>0.000000</td>\n",
       "      <td>0.000000</td>\n",
       "      <td>0.000000</td>\n",
       "      <td>0.000000</td>\n",
       "      <td>...</td>\n",
       "      <td>0.0</td>\n",
       "      <td>0.0</td>\n",
       "      <td>0.0</td>\n",
       "      <td>0.0</td>\n",
       "      <td>0.0</td>\n",
       "      <td>0.0</td>\n",
       "      <td>0.000000</td>\n",
       "      <td>0.000000</td>\n",
       "      <td>0.000000</td>\n",
       "      <td>0.000000</td>\n",
       "    </tr>\n",
       "  </tbody>\n",
       "</table>\n",
       "<p>12054 rows × 12055 columns</p>\n",
       "</div>"
      ],
      "text/plain": [
       "         SNP  1         2         3         4         5         6         7  \\\n",
       "0          1  0  0.527728  0.143989  0.000250  0.000421  0.000769  0.000003   \n",
       "1          2  0  0.000000  0.214541  0.000214  0.000074  0.001374  0.000639   \n",
       "2          3  0  0.000000  0.000000  0.228730  0.003859  0.008643  0.466941   \n",
       "3          4  0  0.000000  0.000000  0.000000  0.248360  0.111777  0.451745   \n",
       "4          5  0  0.000000  0.000000  0.000000  0.000000  0.435762  0.011791   \n",
       "...      ... ..       ...       ...       ...       ...       ...       ...   \n",
       "12049  12050  0  0.000000  0.000000  0.000000  0.000000  0.000000  0.000000   \n",
       "12050  12051  0  0.000000  0.000000  0.000000  0.000000  0.000000  0.000000   \n",
       "12051  12052  0  0.000000  0.000000  0.000000  0.000000  0.000000  0.000000   \n",
       "12052  12053  0  0.000000  0.000000  0.000000  0.000000  0.000000  0.000000   \n",
       "12053  12054  0  0.000000  0.000000  0.000000  0.000000  0.000000  0.000000   \n",
       "\n",
       "              8         9  ...  12045  12046  12047  12048  12049  12050  \\\n",
       "0      0.000327  0.002448  ...    0.0    0.0    0.0    0.0    0.0    0.0   \n",
       "1      0.000810  0.000434  ...    0.0    0.0    0.0    0.0    0.0    0.0   \n",
       "2      0.001038  0.000026  ...    0.0    0.0    0.0    0.0    0.0    0.0   \n",
       "3      0.010595  0.010849  ...    0.0    0.0    0.0    0.0    0.0    0.0   \n",
       "4      0.025816  0.037827  ...    0.0    0.0    0.0    0.0    0.0    0.0   \n",
       "...         ...       ...  ...    ...    ...    ...    ...    ...    ...   \n",
       "12049  0.000000  0.000000  ...    0.0    0.0    0.0    0.0    0.0    0.0   \n",
       "12050  0.000000  0.000000  ...    0.0    0.0    0.0    0.0    0.0    0.0   \n",
       "12051  0.000000  0.000000  ...    0.0    0.0    0.0    0.0    0.0    0.0   \n",
       "12052  0.000000  0.000000  ...    0.0    0.0    0.0    0.0    0.0    0.0   \n",
       "12053  0.000000  0.000000  ...    0.0    0.0    0.0    0.0    0.0    0.0   \n",
       "\n",
       "          12051     12052     12053     12054  \n",
       "0      0.000000  0.000000  0.000000  0.000000  \n",
       "1      0.000000  0.000000  0.000000  0.000000  \n",
       "2      0.000000  0.000000  0.000000  0.000000  \n",
       "3      0.000000  0.000000  0.000000  0.000000  \n",
       "4      0.000000  0.000000  0.000000  0.000000  \n",
       "...         ...       ...       ...       ...  \n",
       "12049  0.202868  0.000141  0.000660  0.000391  \n",
       "12050  0.000000  0.002412  0.000033  0.000033  \n",
       "12051  0.000000  0.000000  0.462162  0.462162  \n",
       "12052  0.000000  0.000000  0.000000  0.988794  \n",
       "12053  0.000000  0.000000  0.000000  0.000000  \n",
       "\n",
       "[12054 rows x 12055 columns]"
      ]
     },
     "execution_count": 3,
     "metadata": {},
     "output_type": "execute_result"
    }
   ],
   "source": [
    "LD_table"
   ]
  },
  {
   "cell_type": "code",
   "execution_count": 5,
   "metadata": {},
   "outputs": [
    {
     "name": "stderr",
     "output_type": "stream",
     "text": [
      "100%|██████████| 12054/12054 [00:08<00:00, 1434.06it/s]\n"
     ]
    }
   ],
   "source": [
    "LDs = []\n",
    "for col in tqdm(LD_table.columns[1:]):\n",
    "    for LD in LD_table[col][:int(col)-1].values.tolist() :\n",
    "        LDs.append(LD)"
   ]
  },
  {
   "attachments": {},
   "cell_type": "markdown",
   "metadata": {},
   "source": [
    "#### LD distribution"
   ]
  },
  {
   "cell_type": "code",
   "execution_count": 7,
   "metadata": {},
   "outputs": [
    {
     "data": {
      "text/plain": [
       "<Figure size 425.197x425.197 with 0 Axes>"
      ]
     },
     "metadata": {},
     "output_type": "display_data"
    },
    {
     "data": {
      "image/png": "[encoded data removed]",
      "text/plain": [
       "<Figure size 360x360 with 1 Axes>"
      ]
     },
     "metadata": {
      "needs_background": "light"
     },
     "output_type": "display_data"
    }
   ],
   "source": [
    "CM = 1/2.54 # centimeters in inches\n",
    "f = plt.figure(figsize=(15 * CM, 15 * CM))\n",
    "sns.displot(data=LDs, kind=\"hist\", stat=\"percent\", element=\"poly\", color='black', fill=False)\n",
    "plt.yscale('log')\n",
    "plt.xlabel('r²')\n",
    "plt.ylabel('Percentage')\n",
    "plt.savefig('../../figures/figure_1/LD_distribution.eps', format='eps', dpi=300)\n",
    "plt.show()"
   ]
  },
  {
   "cell_type": "code",
   "execution_count": 10,
   "metadata": {},
   "outputs": [],
   "source": [
    "chr_order = CategoricalDtype(\n",
    "    ['CHR_1', \n",
    "    'CHR_2', \n",
    "    'CHR_3', \n",
    "    'CHR_4', \n",
    "    'CHR_5', \n",
    "    'CHR_6', \n",
    "    'CHR_7', \n",
    "    'CHR_8', \n",
    "    'CHR_9', \n",
    "    'CHR_10', \n",
    "    'CHR_11', \n",
    "    'CHR_12', \n",
    "    'CHR_13', \n",
    "    'CHR_14', \n",
    "    'CHR_15', \n",
    "    'CHR_16', \n",
    "    'CHR_MT'], \n",
    "    ordered=True\n",
    ")\n",
    "\n",
    "def get_chr_limits(snp_position):\n",
    "    #### Delimitations of chromosomes based on SNPs index\n",
    "    chr_limits = []\n",
    "    for chr in np.unique(snp_position['chrom'].values):\n",
    "        TMP = snp_position[snp_position['chrom'] == chr]\n",
    "        chr_limits.append([chr, int(TMP['snp_id'].describe()['min']), int(TMP['snp_id'].describe()['max']), int(TMP['position'].describe()['min']), int(TMP['position'].describe()['max'])])\n",
    "    chr_limit_table = pd.DataFrame(chr_limits, columns=['CHR', 'SNP_IDX_FIRST', 'SNP_IDX_LAST', 'SNP_POS_FIRST', 'SNP_POS_LAST']).sort_values('SNP_IDX_FIRST')\n",
    "    chr_limit_table['CHR'] = chr_limit_table['CHR'].astype(chr_order)\n",
    "    print(chr_limit_table)\n",
    "    return chr_limit_table"
   ]
  },
  {
   "cell_type": "code",
   "execution_count": 11,
   "metadata": {},
   "outputs": [
    {
     "name": "stdout",
     "output_type": "stream",
     "text": [
      "       CHR  SNP_IDX_FIRST  SNP_IDX_LAST  SNP_POS_FIRST  SNP_POS_LAST\n",
      "0    CHR_1              1           181           1025        223059\n",
      "8    CHR_2            182           886           7366        804707\n",
      "9    CHR_3            887          1252            450        316065\n",
      "10   CHR_4           1253          2767           2228       1523587\n",
      "11   CHR_5           2768          3590           8786        566755\n",
      "12   CHR_6           3591          3856          12139        270132\n",
      "13   CHR_7           3857          4841            331       1073937\n",
      "14   CHR_8           4842          5434          13662        556515\n",
      "15   CHR_9           5435          5982          19515        437999\n",
      "1   CHR_10           5983          6599          26272        745651\n",
      "2   CHR_11           6600          7419            833        666544\n",
      "3   CHR_12           7420          8410          11408       1062523\n",
      "4   CHR_13           8411          9256           8208        914897\n",
      "5   CHR_14           9257         10010           6683        783929\n",
      "6   CHR_15          10011         11048          14837       1077950\n",
      "7   CHR_16          11049         12019          15039        942936\n",
      "16  CHR_MT          12020         12054           8277         84250\n"
     ]
    }
   ],
   "source": [
    "snp_position = pd.read_csv('../../data/genotype_information/snps_annotations_genome-version-3-64-1.txt')\n",
    "chr_limits = get_chr_limits(snp_position)\n",
    "chr_limits['CHR_SIZE'] = chr_limits['SNP_POS_LAST'] - chr_limits['SNP_POS_FIRST']"
   ]
  },
  {
   "cell_type": "code",
   "execution_count": 11,
   "metadata": {},
   "outputs": [
    {
     "data": {
      "text/html": [
       "<div>\n",
       "<style scoped>\n",
       "    .dataframe tbody tr th:only-of-type {\n",
       "        vertical-align: middle;\n",
       "    }\n",
       "\n",
       "    .dataframe tbody tr th {\n",
       "        vertical-align: top;\n",
       "    }\n",
       "\n",
       "    .dataframe thead th {\n",
       "        text-align: right;\n",
       "    }\n",
       "</style>\n",
       "<table border=\"1\" class=\"dataframe\">\n",
       "  <thead>\n",
       "    <tr style=\"text-align: right;\">\n",
       "      <th></th>\n",
       "      <th>182</th>\n",
       "      <th>183</th>\n",
       "      <th>184</th>\n",
       "      <th>185</th>\n",
       "      <th>186</th>\n",
       "      <th>187</th>\n",
       "      <th>188</th>\n",
       "      <th>189</th>\n",
       "      <th>190</th>\n",
       "      <th>191</th>\n",
       "      <th>...</th>\n",
       "      <th>877</th>\n",
       "      <th>878</th>\n",
       "      <th>879</th>\n",
       "      <th>880</th>\n",
       "      <th>881</th>\n",
       "      <th>882</th>\n",
       "      <th>883</th>\n",
       "      <th>884</th>\n",
       "      <th>885</th>\n",
       "      <th>886</th>\n",
       "    </tr>\n",
       "    <tr>\n",
       "      <th>SNP</th>\n",
       "      <th></th>\n",
       "      <th></th>\n",
       "      <th></th>\n",
       "      <th></th>\n",
       "      <th></th>\n",
       "      <th></th>\n",
       "      <th></th>\n",
       "      <th></th>\n",
       "      <th></th>\n",
       "      <th></th>\n",
       "      <th></th>\n",
       "      <th></th>\n",
       "      <th></th>\n",
       "      <th></th>\n",
       "      <th></th>\n",
       "      <th></th>\n",
       "      <th></th>\n",
       "      <th></th>\n",
       "      <th></th>\n",
       "      <th></th>\n",
       "      <th></th>\n",
       "    </tr>\n",
       "  </thead>\n",
       "  <tbody>\n",
       "    <tr>\n",
       "      <th>182</th>\n",
       "      <td>0.0</td>\n",
       "      <td>0.000514</td>\n",
       "      <td>0.000032</td>\n",
       "      <td>0.000344</td>\n",
       "      <td>0.000344</td>\n",
       "      <td>0.000506</td>\n",
       "      <td>0.000081</td>\n",
       "      <td>0.000081</td>\n",
       "      <td>0.000014</td>\n",
       "      <td>0.000057</td>\n",
       "      <td>...</td>\n",
       "      <td>0.000923</td>\n",
       "      <td>0.000531</td>\n",
       "      <td>0.001129</td>\n",
       "      <td>2.916277e-03</td>\n",
       "      <td>0.000768</td>\n",
       "      <td>0.002589</td>\n",
       "      <td>2.022453e-03</td>\n",
       "      <td>0.000939</td>\n",
       "      <td>0.001331</td>\n",
       "      <td>0.003851</td>\n",
       "    </tr>\n",
       "    <tr>\n",
       "      <th>183</th>\n",
       "      <td>0.0</td>\n",
       "      <td>0.000000</td>\n",
       "      <td>0.077681</td>\n",
       "      <td>0.496728</td>\n",
       "      <td>0.496728</td>\n",
       "      <td>0.158828</td>\n",
       "      <td>0.118660</td>\n",
       "      <td>0.118660</td>\n",
       "      <td>0.097514</td>\n",
       "      <td>0.121738</td>\n",
       "      <td>...</td>\n",
       "      <td>0.005168</td>\n",
       "      <td>0.008780</td>\n",
       "      <td>0.000097</td>\n",
       "      <td>1.179753e-03</td>\n",
       "      <td>0.000006</td>\n",
       "      <td>0.000115</td>\n",
       "      <td>2.172361e-07</td>\n",
       "      <td>0.000361</td>\n",
       "      <td>0.000528</td>\n",
       "      <td>0.000213</td>\n",
       "    </tr>\n",
       "    <tr>\n",
       "      <th>184</th>\n",
       "      <td>0.0</td>\n",
       "      <td>0.000000</td>\n",
       "      <td>0.000000</td>\n",
       "      <td>0.096919</td>\n",
       "      <td>0.096919</td>\n",
       "      <td>0.174249</td>\n",
       "      <td>0.187677</td>\n",
       "      <td>0.187677</td>\n",
       "      <td>0.174630</td>\n",
       "      <td>0.188619</td>\n",
       "      <td>...</td>\n",
       "      <td>0.003449</td>\n",
       "      <td>0.000172</td>\n",
       "      <td>0.000939</td>\n",
       "      <td>5.883887e-04</td>\n",
       "      <td>0.000014</td>\n",
       "      <td>0.002279</td>\n",
       "      <td>7.295596e-04</td>\n",
       "      <td>0.001169</td>\n",
       "      <td>0.001454</td>\n",
       "      <td>0.001247</td>\n",
       "    </tr>\n",
       "    <tr>\n",
       "      <th>185</th>\n",
       "      <td>0.0</td>\n",
       "      <td>0.000000</td>\n",
       "      <td>0.000000</td>\n",
       "      <td>0.000000</td>\n",
       "      <td>0.986810</td>\n",
       "      <td>0.347113</td>\n",
       "      <td>0.266584</td>\n",
       "      <td>0.266584</td>\n",
       "      <td>0.227324</td>\n",
       "      <td>0.271309</td>\n",
       "      <td>...</td>\n",
       "      <td>0.000211</td>\n",
       "      <td>0.005421</td>\n",
       "      <td>0.000232</td>\n",
       "      <td>6.371591e-05</td>\n",
       "      <td>0.000554</td>\n",
       "      <td>0.000011</td>\n",
       "      <td>6.633989e-06</td>\n",
       "      <td>0.000423</td>\n",
       "      <td>0.000552</td>\n",
       "      <td>0.000139</td>\n",
       "    </tr>\n",
       "    <tr>\n",
       "      <th>186</th>\n",
       "      <td>0.0</td>\n",
       "      <td>0.000000</td>\n",
       "      <td>0.000000</td>\n",
       "      <td>0.000000</td>\n",
       "      <td>0.000000</td>\n",
       "      <td>0.355368</td>\n",
       "      <td>0.273149</td>\n",
       "      <td>0.273149</td>\n",
       "      <td>0.233013</td>\n",
       "      <td>0.277972</td>\n",
       "      <td>...</td>\n",
       "      <td>0.000211</td>\n",
       "      <td>0.005421</td>\n",
       "      <td>0.000232</td>\n",
       "      <td>7.701445e-08</td>\n",
       "      <td>0.001046</td>\n",
       "      <td>0.000011</td>\n",
       "      <td>3.219300e-05</td>\n",
       "      <td>0.000423</td>\n",
       "      <td>0.000552</td>\n",
       "      <td>0.000327</td>\n",
       "    </tr>\n",
       "    <tr>\n",
       "      <th>...</th>\n",
       "      <td>...</td>\n",
       "      <td>...</td>\n",
       "      <td>...</td>\n",
       "      <td>...</td>\n",
       "      <td>...</td>\n",
       "      <td>...</td>\n",
       "      <td>...</td>\n",
       "      <td>...</td>\n",
       "      <td>...</td>\n",
       "      <td>...</td>\n",
       "      <td>...</td>\n",
       "      <td>...</td>\n",
       "      <td>...</td>\n",
       "      <td>...</td>\n",
       "      <td>...</td>\n",
       "      <td>...</td>\n",
       "      <td>...</td>\n",
       "      <td>...</td>\n",
       "      <td>...</td>\n",
       "      <td>...</td>\n",
       "      <td>...</td>\n",
       "    </tr>\n",
       "    <tr>\n",
       "      <th>882</th>\n",
       "      <td>0.0</td>\n",
       "      <td>0.000000</td>\n",
       "      <td>0.000000</td>\n",
       "      <td>0.000000</td>\n",
       "      <td>0.000000</td>\n",
       "      <td>0.000000</td>\n",
       "      <td>0.000000</td>\n",
       "      <td>0.000000</td>\n",
       "      <td>0.000000</td>\n",
       "      <td>0.000000</td>\n",
       "      <td>...</td>\n",
       "      <td>0.000000</td>\n",
       "      <td>0.000000</td>\n",
       "      <td>0.000000</td>\n",
       "      <td>0.000000e+00</td>\n",
       "      <td>0.000000</td>\n",
       "      <td>0.000000</td>\n",
       "      <td>9.976450e-02</td>\n",
       "      <td>0.088770</td>\n",
       "      <td>0.043085</td>\n",
       "      <td>0.292544</td>\n",
       "    </tr>\n",
       "    <tr>\n",
       "      <th>883</th>\n",
       "      <td>0.0</td>\n",
       "      <td>0.000000</td>\n",
       "      <td>0.000000</td>\n",
       "      <td>0.000000</td>\n",
       "      <td>0.000000</td>\n",
       "      <td>0.000000</td>\n",
       "      <td>0.000000</td>\n",
       "      <td>0.000000</td>\n",
       "      <td>0.000000</td>\n",
       "      <td>0.000000</td>\n",
       "      <td>...</td>\n",
       "      <td>0.000000</td>\n",
       "      <td>0.000000</td>\n",
       "      <td>0.000000</td>\n",
       "      <td>0.000000e+00</td>\n",
       "      <td>0.000000</td>\n",
       "      <td>0.000000</td>\n",
       "      <td>0.000000e+00</td>\n",
       "      <td>0.064344</td>\n",
       "      <td>0.000828</td>\n",
       "      <td>0.081796</td>\n",
       "    </tr>\n",
       "    <tr>\n",
       "      <th>884</th>\n",
       "      <td>0.0</td>\n",
       "      <td>0.000000</td>\n",
       "      <td>0.000000</td>\n",
       "      <td>0.000000</td>\n",
       "      <td>0.000000</td>\n",
       "      <td>0.000000</td>\n",
       "      <td>0.000000</td>\n",
       "      <td>0.000000</td>\n",
       "      <td>0.000000</td>\n",
       "      <td>0.000000</td>\n",
       "      <td>...</td>\n",
       "      <td>0.000000</td>\n",
       "      <td>0.000000</td>\n",
       "      <td>0.000000</td>\n",
       "      <td>0.000000e+00</td>\n",
       "      <td>0.000000</td>\n",
       "      <td>0.000000</td>\n",
       "      <td>0.000000e+00</td>\n",
       "      <td>0.000000</td>\n",
       "      <td>0.000002</td>\n",
       "      <td>0.080347</td>\n",
       "    </tr>\n",
       "    <tr>\n",
       "      <th>885</th>\n",
       "      <td>0.0</td>\n",
       "      <td>0.000000</td>\n",
       "      <td>0.000000</td>\n",
       "      <td>0.000000</td>\n",
       "      <td>0.000000</td>\n",
       "      <td>0.000000</td>\n",
       "      <td>0.000000</td>\n",
       "      <td>0.000000</td>\n",
       "      <td>0.000000</td>\n",
       "      <td>0.000000</td>\n",
       "      <td>...</td>\n",
       "      <td>0.000000</td>\n",
       "      <td>0.000000</td>\n",
       "      <td>0.000000</td>\n",
       "      <td>0.000000e+00</td>\n",
       "      <td>0.000000</td>\n",
       "      <td>0.000000</td>\n",
       "      <td>0.000000e+00</td>\n",
       "      <td>0.000000</td>\n",
       "      <td>0.000000</td>\n",
       "      <td>0.072576</td>\n",
       "    </tr>\n",
       "    <tr>\n",
       "      <th>886</th>\n",
       "      <td>0.0</td>\n",
       "      <td>0.000000</td>\n",
       "      <td>0.000000</td>\n",
       "      <td>0.000000</td>\n",
       "      <td>0.000000</td>\n",
       "      <td>0.000000</td>\n",
       "      <td>0.000000</td>\n",
       "      <td>0.000000</td>\n",
       "      <td>0.000000</td>\n",
       "      <td>0.000000</td>\n",
       "      <td>...</td>\n",
       "      <td>0.000000</td>\n",
       "      <td>0.000000</td>\n",
       "      <td>0.000000</td>\n",
       "      <td>0.000000e+00</td>\n",
       "      <td>0.000000</td>\n",
       "      <td>0.000000</td>\n",
       "      <td>0.000000e+00</td>\n",
       "      <td>0.000000</td>\n",
       "      <td>0.000000</td>\n",
       "      <td>0.000000</td>\n",
       "    </tr>\n",
       "  </tbody>\n",
       "</table>\n",
       "<p>705 rows × 705 columns</p>\n",
       "</div>"
      ],
      "text/plain": [
       "     182       183       184       185       186       187       188  \\\n",
       "SNP                                                                    \n",
       "182  0.0  0.000514  0.000032  0.000344  0.000344  0.000506  0.000081   \n",
       "183  0.0  0.000000  0.077681  0.496728  0.496728  0.158828  0.118660   \n",
       "184  0.0  0.000000  0.000000  0.096919  0.096919  0.174249  0.187677   \n",
       "185  0.0  0.000000  0.000000  0.000000  0.986810  0.347113  0.266584   \n",
       "186  0.0  0.000000  0.000000  0.000000  0.000000  0.355368  0.273149   \n",
       "..   ...       ...       ...       ...       ...       ...       ...   \n",
       "882  0.0  0.000000  0.000000  0.000000  0.000000  0.000000  0.000000   \n",
       "883  0.0  0.000000  0.000000  0.000000  0.000000  0.000000  0.000000   \n",
       "884  0.0  0.000000  0.000000  0.000000  0.000000  0.000000  0.000000   \n",
       "885  0.0  0.000000  0.000000  0.000000  0.000000  0.000000  0.000000   \n",
       "886  0.0  0.000000  0.000000  0.000000  0.000000  0.000000  0.000000   \n",
       "\n",
       "          189       190       191  ...       877       878       879  \\\n",
       "SNP                                ...                                 \n",
       "182  0.000081  0.000014  0.000057  ...  0.000923  0.000531  0.001129   \n",
       "183  0.118660  0.097514  0.121738  ...  0.005168  0.008780  0.000097   \n",
       "184  0.187677  0.174630  0.188619  ...  0.003449  0.000172  0.000939   \n",
       "185  0.266584  0.227324  0.271309  ...  0.000211  0.005421  0.000232   \n",
       "186  0.273149  0.233013  0.277972  ...  0.000211  0.005421  0.000232   \n",
       "..        ...       ...       ...  ...       ...       ...       ...   \n",
       "882  0.000000  0.000000  0.000000  ...  0.000000  0.000000  0.000000   \n",
       "883  0.000000  0.000000  0.000000  ...  0.000000  0.000000  0.000000   \n",
       "884  0.000000  0.000000  0.000000  ...  0.000000  0.000000  0.000000   \n",
       "885  0.000000  0.000000  0.000000  ...  0.000000  0.000000  0.000000   \n",
       "886  0.000000  0.000000  0.000000  ...  0.000000  0.000000  0.000000   \n",
       "\n",
       "              880       881       882           883       884       885  \\\n",
       "SNP                                                                       \n",
       "182  2.916277e-03  0.000768  0.002589  2.022453e-03  0.000939  0.001331   \n",
       "183  1.179753e-03  0.000006  0.000115  2.172361e-07  0.000361  0.000528   \n",
       "184  5.883887e-04  0.000014  0.002279  7.295596e-04  0.001169  0.001454   \n",
       "185  6.371591e-05  0.000554  0.000011  6.633989e-06  0.000423  0.000552   \n",
       "186  7.701445e-08  0.001046  0.000011  3.219300e-05  0.000423  0.000552   \n",
       "..            ...       ...       ...           ...       ...       ...   \n",
       "882  0.000000e+00  0.000000  0.000000  9.976450e-02  0.088770  0.043085   \n",
       "883  0.000000e+00  0.000000  0.000000  0.000000e+00  0.064344  0.000828   \n",
       "884  0.000000e+00  0.000000  0.000000  0.000000e+00  0.000000  0.000002   \n",
       "885  0.000000e+00  0.000000  0.000000  0.000000e+00  0.000000  0.000000   \n",
       "886  0.000000e+00  0.000000  0.000000  0.000000e+00  0.000000  0.000000   \n",
       "\n",
       "          886  \n",
       "SNP            \n",
       "182  0.003851  \n",
       "183  0.000213  \n",
       "184  0.001247  \n",
       "185  0.000139  \n",
       "186  0.000327  \n",
       "..        ...  \n",
       "882  0.292544  \n",
       "883  0.081796  \n",
       "884  0.080347  \n",
       "885  0.072576  \n",
       "886  0.000000  \n",
       "\n",
       "[705 rows x 705 columns]"
      ]
     },
     "execution_count": 11,
     "metadata": {},
     "output_type": "execute_result"
    }
   ],
   "source": [
    "LD_table.set_index('SNP').iloc[181:886, 181:886]"
   ]
  },
  {
   "cell_type": "code",
   "execution_count": 12,
   "metadata": {},
   "outputs": [
    {
     "name": "stderr",
     "output_type": "stream",
     "text": [
      "100%|██████████| 180/180 [00:00<00:00, 9216.11it/s]\n",
      "100%|██████████| 704/704 [00:01<00:00, 641.92it/s]\n",
      "100%|██████████| 365/365 [00:00<00:00, 4323.33it/s]\n",
      "100%|██████████| 1514/1514 [00:00<00:00, 2824.29it/s]\n",
      "100%|██████████| 822/822 [00:00<00:00, 1893.37it/s]\n",
      "100%|██████████| 265/265 [00:00<00:00, 1779.21it/s]\n",
      "100%|██████████| 984/984 [00:00<00:00, 1490.24it/s]\n",
      "100%|██████████| 592/592 [00:00<00:00, 1401.08it/s]\n",
      "100%|██████████| 547/547 [00:00<00:00, 1254.33it/s]\n",
      "100%|██████████| 616/616 [00:00<00:00, 1164.52it/s]\n",
      "100%|██████████| 819/819 [00:00<00:00, 975.42it/s]\n",
      "100%|██████████| 990/990 [00:02<00:00, 432.71it/s]\n",
      "100%|██████████| 845/845 [00:01<00:00, 824.76it/s]\n",
      "100%|██████████| 753/753 [00:01<00:00, 728.06it/s]\n",
      "100%|██████████| 1037/1037 [00:01<00:00, 651.76it/s]\n",
      "100%|██████████| 970/970 [00:01<00:00, 629.48it/s]\n",
      "100%|██████████| 34/34 [00:00<00:00, 560.63it/s]\n",
      "100%|██████████| 17/17 [00:18<00:00,  1.11s/it]\n"
     ]
    }
   ],
   "source": [
    "LDs_CHR = {}\n",
    "\n",
    "for CHR in tqdm(chr_limits['CHR']):\n",
    "    LDs_CHR[CHR] = []\n",
    "    CHR_START = int(chr_limits[chr_limits['CHR'] == CHR]['SNP_IDX_FIRST'].values[0])\n",
    "    CHR_END =  int(chr_limits[chr_limits['CHR'] == CHR]['SNP_IDX_LAST'].values[0])\n",
    "    for col in tqdm(LD_table.set_index('SNP').iloc[CHR_START:CHR_END, CHR_START:CHR_END].columns):\n",
    "        for LD in LD_table[col][:int(col)-1].values.tolist() :\n",
    "            LDs_CHR[CHR].append(LD)\n"
   ]
  },
  {
   "cell_type": "code",
   "execution_count": 80,
   "metadata": {},
   "outputs": [
    {
     "data": {
      "image/png": "[encoded data removed]",
      "text/plain": [
       "<Figure size 255.118x255.118 with 1 Axes>"
      ]
     },
     "metadata": {
      "needs_background": "light"
     },
     "output_type": "display_data"
    }
   ],
   "source": [
    "f, axes = plt.subplots(figsize=(9 * CM, 9 * CM), nrows=1, ncols=1, sharey=True)\n",
    "for CHR in LDs_CHR.keys():\n",
    "    sns.histplot(data=LDs_CHR[CHR], stat=\"percent\", color='black', bins=10, element='poly', log_scale=(False,True), fill=False, ax=axes)\n",
    "    axes.set_ylim([0.0001, 100])\n",
    "    axes.set_xlabel('r²')\n",
    "    axes.set_ylabel('Percentage')\n",
    "    plt.savefig('../../manuscript/figures/EXT_FIGURE_1/LD_distribution_plot_chr_all.eps', format='eps', dpi=300)  # ToDo modify output path"
   ]
  },
  {
   "cell_type": "code",
   "execution_count": 25,
   "metadata": {},
   "outputs": [
    {
     "data": {
      "image/png": "[encoded data removed]",
      "text/plain": [
       "<Figure size 680.315x170.079 with 4 Axes>"
      ]
     },
     "metadata": {
      "needs_background": "light"
     },
     "output_type": "display_data"
    },
    {
     "data": {
      "image/png": "[encoded data removed]",
      "text/plain": [
       "<Figure size 680.315x170.079 with 4 Axes>"
      ]
     },
     "metadata": {
      "needs_background": "light"
     },
     "output_type": "display_data"
    },
    {
     "data": {
      "image/png": "[encoded data removed]",
      "text/plain": [
       "<Figure size 680.315x170.079 with 4 Axes>"
      ]
     },
     "metadata": {
      "needs_background": "light"
     },
     "output_type": "display_data"
    },
    {
     "data": {
      "image/png": "[encoded data removed]",
      "text/plain": [
       "<Figure size 680.315x170.079 with 4 Axes>"
      ]
     },
     "metadata": {
      "needs_background": "light"
     },
     "output_type": "display_data"
    },
    {
     "data": {
      "image/png": "[encoded data removed]",
      "text/plain": [
       "<Figure size 680.315x170.079 with 4 Axes>"
      ]
     },
     "metadata": {
      "needs_background": "light"
     },
     "output_type": "display_data"
    }
   ],
   "source": [
    "f, axes = plt.subplots(figsize=(24 * CM, 6 * CM), nrows=1, ncols=4, sharey=True)\n",
    "i = 0\n",
    "for CHR in ['CHR_1', 'CHR_2', 'CHR_3', 'CHR_4']:\n",
    "    sns.histplot(data=LDs_CHR[CHR], stat=\"percent\", color='black', bins=10, element='poly', log_scale=(False,True), fill=False, ax=axes[i])\n",
    "    axes[i].set_ylim([0.0001, 100])\n",
    "    axes[i].set_title(CHR.replace('_', ' '))\n",
    "    axes[i].set_xlabel('r²')\n",
    "    axes[i].set_ylabel('Percentage')\n",
    "    i += 1\n",
    "plt.savefig('../../manuscript/figures/EXT_FIGURE_1/LD_distribution_plot_chr_1-4.eps', format='eps', dpi=300)  # ToDo: modify output path\n",
    "\n",
    "f, axes = plt.subplots(figsize=(24 * CM, 6 * CM), nrows=1, ncols=4, sharey=True)\n",
    "i = 0\n",
    "for CHR in ['CHR_5', 'CHR_6', 'CHR_7', 'CHR_8']:\n",
    "    sns.histplot(data=LDs_CHR[CHR], stat=\"percent\", color='black', bins=10, element='poly', log_scale=(False,True), fill=False, ax=axes[i])\n",
    "    axes[i].set_ylim([0.0001, 100])\n",
    "    axes[i].set_title(CHR.replace('_', ' '))\n",
    "    axes[i].set_xlabel('r²')\n",
    "    axes[i].set_ylabel('Percentage')\n",
    "    i += 1\n",
    "\n",
    "plt.savefig('../../manuscript/figures/EXT_FIGURE_1/LD_distribution_plot_chr_5-8.eps', format='eps', dpi=300)  # ToDo: modify output path\n",
    "\n",
    "f, axes = plt.subplots(figsize=(24 * CM, 6 * CM), nrows=1, ncols=4, sharey=True)\n",
    "i = 0\n",
    "for CHR in ['CHR_9', 'CHR_10', 'CHR_11', 'CHR_12']:\n",
    "    sns.histplot(data=LDs_CHR[CHR], stat=\"percent\", color='black', bins=10, element='poly', log_scale=(False,True), fill=False, ax=axes[i])\n",
    "    axes[i].set_ylim([0.0001, 100])\n",
    "    axes[i].set_title(CHR.replace('_', ' '))\n",
    "    axes[i].set_xlabel('r²')\n",
    "    axes[i].set_ylabel('Percentage')\n",
    "    i += 1\n",
    "\n",
    "plt.savefig('../../manuscript/figures/EXT_FIGURE_1/LD_distribution_plot_chr_9-12.eps', format='eps', dpi=300)  # ToDo: modify output path\n",
    "\n",
    "f, axes = plt.subplots(figsize=(24 * CM, 6 * CM), nrows=1, ncols=4, sharey=True)\n",
    "i = 0\n",
    "for CHR in ['CHR_13', 'CHR_14', 'CHR_15', 'CHR_16']:\n",
    "    sns.histplot(data=LDs_CHR[CHR], stat=\"percent\", color='black', bins=10, element='poly', log_scale=(False,True), fill=False, ax=axes[i])\n",
    "    axes[i].set_ylim([0.0001, 100])\n",
    "    axes[i].set_title(CHR.replace('_', ' '))\n",
    "    axes[i].set_xlabel('r²')\n",
    "    axes[i].set_ylabel('Percentage')\n",
    "    i += 1\n",
    "\n",
    "plt.savefig('../../manuscript/figures/EXT_FIGURE_1/LD_distribution_plot_chr_13-16.eps', format='eps', dpi=300)  # ToDo: modify output path\n",
    "\n",
    "\n",
    "f, axes = plt.subplots(figsize=(24 * CM, 6 * CM), nrows=1, ncols=4, sharey=True)\n",
    "i = 0\n",
    "for CHR in ['CHR_MT']:\n",
    "    sns.histplot(data=LDs_CHR[CHR], stat=\"percent\", color='black', bins=10, element='poly', log_scale=(False,True), fill=False, ax=axes[i])\n",
    "    axes[i].set_ylim([0.0001, 100])\n",
    "    axes[i].set_title(CHR.replace('_', ' '))\n",
    "    axes[i].set_xlabel('r²')\n",
    "    axes[i].set_ylabel('Percentage')\n",
    "    i += 1\n",
    "\n",
    "plt.savefig('../../manuscript/figures/EXT_FIGURE_1/LD_distribution_plot_chr_17.eps', format='eps', dpi=300)  # ToDo: modify output path\n"
   ]
  },
  {
   "cell_type": "code",
   "execution_count": 20,
   "metadata": {},
   "outputs": [
    {
     "data": {
      "text/plain": [
       "<Figure size 425.197x425.197 with 0 Axes>"
      ]
     },
     "metadata": {},
     "output_type": "display_data"
    },
    {
     "data": {
      "image/png": "[encoded data removed]",
      "text/plain": [
       "<Figure size 360x360 with 1 Axes>"
      ]
     },
     "metadata": {
      "needs_background": "light"
     },
     "output_type": "display_data"
    },
    {
     "data": {
      "image/png": "[encoded data removed]",
      "text/plain": [
       "<Figure size 360x360 with 1 Axes>"
      ]
     },
     "metadata": {
      "needs_background": "light"
     },
     "output_type": "display_data"
    },
    {
     "data": {
      "image/png": "[encoded data removed]",
      "text/plain": [
       "<Figure size 360x360 with 1 Axes>"
      ]
     },
     "metadata": {
      "needs_background": "light"
     },
     "output_type": "display_data"
    },
    {
     "data": {
      "image/png": "[encoded data removed]",
      "text/plain": [
       "<Figure size 360x360 with 1 Axes>"
      ]
     },
     "metadata": {
      "needs_background": "light"
     },
     "output_type": "display_data"
    },
    {
     "data": {
      "image/png": "[encoded data removed]",
      "text/plain": [
       "<Figure size 360x360 with 1 Axes>"
      ]
     },
     "metadata": {
      "needs_background": "light"
     },
     "output_type": "display_data"
    },
    {
     "data": {
      "image/png": "[encoded data removed]",
      "text/plain": [
       "<Figure size 360x360 with 1 Axes>"
      ]
     },
     "metadata": {
      "needs_background": "light"
     },
     "output_type": "display_data"
    },
    {
     "data": {
      "image/png": "[encoded data removed]",
      "text/plain": [
       "<Figure size 360x360 with 1 Axes>"
      ]
     },
     "metadata": {
      "needs_background": "light"
     },
     "output_type": "display_data"
    },
    {
     "data": {
      "image/png": "[encoded data removed]",
      "text/plain": [
       "<Figure size 360x360 with 1 Axes>"
      ]
     },
     "metadata": {
      "needs_background": "light"
     },
     "output_type": "display_data"
    },
    {
     "data": {
      "image/png": "[encoded data removed]",
      "text/plain": [
       "<Figure size 360x360 with 1 Axes>"
      ]
     },
     "metadata": {
      "needs_background": "light"
     },
     "output_type": "display_data"
    },
    {
     "data": {
      "image/png": "[encoded data removed]",
      "text/plain": [
       "<Figure size 360x360 with 1 Axes>"
      ]
     },
     "metadata": {
      "needs_background": "light"
     },
     "output_type": "display_data"
    },
    {
     "data": {
      "image/png": "[encoded data removed]",
      "text/plain": [
       "<Figure size 360x360 with 1 Axes>"
      ]
     },
     "metadata": {
      "needs_background": "light"
     },
     "output_type": "display_data"
    },
    {
     "data": {
      "image/png": "[encoded data removed]",
      "text/plain": [
       "<Figure size 360x360 with 1 Axes>"
      ]
     },
     "metadata": {
      "needs_background": "light"
     },
     "output_type": "display_data"
    },
    {
     "data": {
      "image/png": "[encoded data removed]",
      "text/plain": [
       "<Figure size 360x360 with 1 Axes>"
      ]
     },
     "metadata": {
      "needs_background": "light"
     },
     "output_type": "display_data"
    },
    {
     "data": {
      "image/png": "[encoded data removed]",
      "text/plain": [
       "<Figure size 360x360 with 1 Axes>"
      ]
     },
     "metadata": {
      "needs_background": "light"
     },
     "output_type": "display_data"
    },
    {
     "data": {
      "image/png": "[encoded data removed]",
      "text/plain": [
       "<Figure size 360x360 with 1 Axes>"
      ]
     },
     "metadata": {
      "needs_background": "light"
     },
     "output_type": "display_data"
    },
    {
     "data": {
      "image/png": "[encoded data removed]",
      "text/plain": [
       "<Figure size 360x360 with 1 Axes>"
      ]
     },
     "metadata": {
      "needs_background": "light"
     },
     "output_type": "display_data"
    },
    {
     "data": {
      "image/png": "[encoded data removed]",
      "text/plain": [
       "<Figure size 360x360 with 1 Axes>"
      ]
     },
     "metadata": {
      "needs_background": "light"
     },
     "output_type": "display_data"
    }
   ],
   "source": [
    "# CM = 1/2.54 # centimeters in inches\n",
    "# f = plt.figure(figsize=(15 * CM, 15 * CM))\n",
    "\n",
    "# for CHR in LDs_CHR.keys():\n",
    "#     sns.displot(data=np.round(LDs_CHR[CHR], 5), kind=\"hist\", stat=\"percent\", bins=20, element=\"poly\", color='black', fill=False)\n",
    "#     plt.yscale('log')\n",
    "#     plt.xlabel('r²')\n",
    "#     plt.ylabel('Percentage')\n",
    "#     # plt.savefig('../../manuscript/figures/EXT_FIGURE_1/LD_distribution_plot_v2.png', format='png', dpi=300)\n",
    "#     # plt.savefig('../../manuscript/figures/EXT_FIGURE_1/LD_distribution_plot_v2.eps', format='eps', dpi=300)\n",
    "#     plt.show()"
   ]
  },
  {
   "attachments": {},
   "cell_type": "markdown",
   "metadata": {},
   "source": [
    "____"
   ]
  },
  {
   "attachments": {},
   "cell_type": "markdown",
   "metadata": {},
   "source": [
    "#### Definition of LD blocks"
   ]
  },
  {
   "cell_type": "code",
   "execution_count": null,
   "metadata": {},
   "outputs": [],
   "source": [
    "indpt_snps_LD = [] \n",
    "\n",
    "for col in tqdm(range(len(LD_table.set_index('SNP')))) :\n",
    "    for row in range(len(LD_table.set_index('SNP')))  : \n",
    "        if int(col) == int(row) : \n",
    "            if LD_table.set_index('SNP').iloc[int(col)-1, int(row)] > 0.75 : \n",
    "                # print(col-1, row, LD_table.set_index('SNP').iloc[int(col)-1, int(row)])\n",
    "                #### LD = 1\n",
    "                indpt_snps_LD.append([int(row), 1])\n",
    "            else : \n",
    "                #### LD = 0\n",
    "                indpt_snps_LD.append([int(row), 0])\n"
   ]
  },
  {
   "cell_type": "code",
   "execution_count": null,
   "metadata": {},
   "outputs": [],
   "source": [
    "LD_stats = pd.DataFrame(indpt_snps_LD, columns=['SNP', 'LD'])\n",
    "LD_stats['SNP'] = LD_stats['SNP'] + 1"
   ]
  },
  {
   "cell_type": "code",
   "execution_count": null,
   "metadata": {},
   "outputs": [],
   "source": [
    "# Don't run if already provided\n",
    "# LD_stats.to_csv('./LD_stats.csv', index=False)"
   ]
  },
  {
   "attachments": {},
   "cell_type": "markdown",
   "metadata": {},
   "source": [
    "#### Creating annotations for LD blocks"
   ]
  },
  {
   "cell_type": "code",
   "execution_count": 3,
   "metadata": {},
   "outputs": [],
   "source": [
    "LD_stats = pd.read_csv('./LD_stats.csv')"
   ]
  },
  {
   "cell_type": "code",
   "execution_count": 4,
   "metadata": {},
   "outputs": [],
   "source": [
    "def consecutive(data, stepsize=1):\n",
    "    return np.split(data, np.where(np.diff(data) != stepsize)[0]+1)"
   ]
  },
  {
   "cell_type": "code",
   "execution_count": 5,
   "metadata": {},
   "outputs": [],
   "source": [
    "indpt_snps = np.array(LD_stats[LD_stats['LD'] == 0]['SNP'].values)\n",
    "\n",
    "snp_clumps = np.array(LD_stats[LD_stats['LD'] == 1]['SNP'].values)\n",
    "\n",
    "all_clumps = consecutive(snp_clumps, stepsize=1)\n",
    "\n",
    "updated_clumps = []\n",
    "for clump in all_clumps :\n",
    "    clump = list(clump)\n",
    "    if len(clump) == 1 :\n",
    "        clump = list(clump)\n",
    "        snp = clump[0]\n",
    "        clump.insert(0, clump[0]-1)\n",
    "    updated_clumps.append(clump)\n"
   ]
  },
  {
   "cell_type": "code",
   "execution_count": 12,
   "metadata": {},
   "outputs": [
    {
     "name": "stderr",
     "output_type": "stream",
     "text": [
      "100%|██████████| 1747/1747 [00:06<00:00, 286.67it/s]\n"
     ]
    }
   ],
   "source": [
    "clump_annotations = []\n",
    "\n",
    "for i in tqdm(range(len(updated_clumps))) :\n",
    "    first_snps = updated_clumps[i][0]\n",
    "    start = snp_position[snp_position['snp_id'] == first_snps]['position'].values[0]\n",
    "    last_snps = updated_clumps[i][-1]\n",
    "    end = snp_position[snp_position['snp_id'] == last_snps]['position'].values[0]\n",
    "    length = end - start\n",
    "    CHR = chr_limits[chr_limits['SNP_IDX_LAST'] >= first_snps]['CHR'].values[0]\n",
    "\n",
    "    clump_annotations.append([f'{CHR}_{updated_clumps[i][0]}-{updated_clumps[i][-1]}', CHR, ','.join([str(snp) for snp in updated_clumps[i]]), length])"
   ]
  },
  {
   "cell_type": "code",
   "execution_count": 13,
   "metadata": {},
   "outputs": [],
   "source": [
    "block_length = pd.DataFrame(clump_annotations, columns=['block_ID', 'CHR','snps_IDs', 'block_size'])"
   ]
  },
  {
   "cell_type": "code",
   "execution_count": 14,
   "metadata": {},
   "outputs": [
    {
     "data": {
      "text/html": [
       "<div>\n",
       "<style scoped>\n",
       "    .dataframe tbody tr th:only-of-type {\n",
       "        vertical-align: middle;\n",
       "    }\n",
       "\n",
       "    .dataframe tbody tr th {\n",
       "        vertical-align: top;\n",
       "    }\n",
       "\n",
       "    .dataframe thead th {\n",
       "        text-align: right;\n",
       "    }\n",
       "</style>\n",
       "<table border=\"1\" class=\"dataframe\">\n",
       "  <thead>\n",
       "    <tr style=\"text-align: right;\">\n",
       "      <th></th>\n",
       "      <th>block_size</th>\n",
       "    </tr>\n",
       "  </thead>\n",
       "  <tbody>\n",
       "    <tr>\n",
       "      <th>count</th>\n",
       "      <td>1747.000000</td>\n",
       "    </tr>\n",
       "    <tr>\n",
       "      <th>mean</th>\n",
       "      <td>2489.635375</td>\n",
       "    </tr>\n",
       "    <tr>\n",
       "      <th>std</th>\n",
       "      <td>3815.257084</td>\n",
       "    </tr>\n",
       "    <tr>\n",
       "      <th>min</th>\n",
       "      <td>1.000000</td>\n",
       "    </tr>\n",
       "    <tr>\n",
       "      <th>25%</th>\n",
       "      <td>175.000000</td>\n",
       "    </tr>\n",
       "    <tr>\n",
       "      <th>50%</th>\n",
       "      <td>942.000000</td>\n",
       "    </tr>\n",
       "    <tr>\n",
       "      <th>75%</th>\n",
       "      <td>3256.500000</td>\n",
       "    </tr>\n",
       "    <tr>\n",
       "      <th>max</th>\n",
       "      <td>32043.000000</td>\n",
       "    </tr>\n",
       "  </tbody>\n",
       "</table>\n",
       "</div>"
      ],
      "text/plain": [
       "         block_size\n",
       "count   1747.000000\n",
       "mean    2489.635375\n",
       "std     3815.257084\n",
       "min        1.000000\n",
       "25%      175.000000\n",
       "50%      942.000000\n",
       "75%     3256.500000\n",
       "max    32043.000000"
      ]
     },
     "execution_count": 14,
     "metadata": {},
     "output_type": "execute_result"
    }
   ],
   "source": [
    "block_length.describe()"
   ]
  },
  {
   "cell_type": "code",
   "execution_count": 15,
   "metadata": {},
   "outputs": [
    {
     "data": {
      "text/html": [
       "<div>\n",
       "<style scoped>\n",
       "    .dataframe tbody tr th:only-of-type {\n",
       "        vertical-align: middle;\n",
       "    }\n",
       "\n",
       "    .dataframe tbody tr th {\n",
       "        vertical-align: top;\n",
       "    }\n",
       "\n",
       "    .dataframe thead th {\n",
       "        text-align: right;\n",
       "    }\n",
       "</style>\n",
       "<table border=\"1\" class=\"dataframe\">\n",
       "  <thead>\n",
       "    <tr style=\"text-align: right;\">\n",
       "      <th></th>\n",
       "      <th>block_ID</th>\n",
       "      <th>snps_IDs</th>\n",
       "      <th>block_size</th>\n",
       "    </tr>\n",
       "    <tr>\n",
       "      <th>CHR</th>\n",
       "      <th></th>\n",
       "      <th></th>\n",
       "      <th></th>\n",
       "    </tr>\n",
       "  </thead>\n",
       "  <tbody>\n",
       "    <tr>\n",
       "      <th>CHR_1</th>\n",
       "      <td>27</td>\n",
       "      <td>27</td>\n",
       "      <td>27</td>\n",
       "    </tr>\n",
       "    <tr>\n",
       "      <th>CHR_10</th>\n",
       "      <td>100</td>\n",
       "      <td>100</td>\n",
       "      <td>100</td>\n",
       "    </tr>\n",
       "    <tr>\n",
       "      <th>CHR_11</th>\n",
       "      <td>104</td>\n",
       "      <td>104</td>\n",
       "      <td>104</td>\n",
       "    </tr>\n",
       "    <tr>\n",
       "      <th>CHR_12</th>\n",
       "      <td>145</td>\n",
       "      <td>145</td>\n",
       "      <td>145</td>\n",
       "    </tr>\n",
       "    <tr>\n",
       "      <th>CHR_13</th>\n",
       "      <td>121</td>\n",
       "      <td>121</td>\n",
       "      <td>121</td>\n",
       "    </tr>\n",
       "    <tr>\n",
       "      <th>CHR_14</th>\n",
       "      <td>127</td>\n",
       "      <td>127</td>\n",
       "      <td>127</td>\n",
       "    </tr>\n",
       "    <tr>\n",
       "      <th>CHR_15</th>\n",
       "      <td>144</td>\n",
       "      <td>144</td>\n",
       "      <td>144</td>\n",
       "    </tr>\n",
       "    <tr>\n",
       "      <th>CHR_16</th>\n",
       "      <td>133</td>\n",
       "      <td>133</td>\n",
       "      <td>133</td>\n",
       "    </tr>\n",
       "    <tr>\n",
       "      <th>CHR_2</th>\n",
       "      <td>116</td>\n",
       "      <td>116</td>\n",
       "      <td>116</td>\n",
       "    </tr>\n",
       "    <tr>\n",
       "      <th>CHR_3</th>\n",
       "      <td>55</td>\n",
       "      <td>55</td>\n",
       "      <td>55</td>\n",
       "    </tr>\n",
       "    <tr>\n",
       "      <th>CHR_4</th>\n",
       "      <td>197</td>\n",
       "      <td>197</td>\n",
       "      <td>197</td>\n",
       "    </tr>\n",
       "    <tr>\n",
       "      <th>CHR_5</th>\n",
       "      <td>113</td>\n",
       "      <td>113</td>\n",
       "      <td>113</td>\n",
       "    </tr>\n",
       "    <tr>\n",
       "      <th>CHR_6</th>\n",
       "      <td>45</td>\n",
       "      <td>45</td>\n",
       "      <td>45</td>\n",
       "    </tr>\n",
       "    <tr>\n",
       "      <th>CHR_7</th>\n",
       "      <td>156</td>\n",
       "      <td>156</td>\n",
       "      <td>156</td>\n",
       "    </tr>\n",
       "    <tr>\n",
       "      <th>CHR_8</th>\n",
       "      <td>85</td>\n",
       "      <td>85</td>\n",
       "      <td>85</td>\n",
       "    </tr>\n",
       "    <tr>\n",
       "      <th>CHR_9</th>\n",
       "      <td>73</td>\n",
       "      <td>73</td>\n",
       "      <td>73</td>\n",
       "    </tr>\n",
       "    <tr>\n",
       "      <th>CHR_MT</th>\n",
       "      <td>6</td>\n",
       "      <td>6</td>\n",
       "      <td>6</td>\n",
       "    </tr>\n",
       "  </tbody>\n",
       "</table>\n",
       "</div>"
      ],
      "text/plain": [
       "        block_ID  snps_IDs  block_size\n",
       "CHR                                   \n",
       "CHR_1         27        27          27\n",
       "CHR_10       100       100         100\n",
       "CHR_11       104       104         104\n",
       "CHR_12       145       145         145\n",
       "CHR_13       121       121         121\n",
       "CHR_14       127       127         127\n",
       "CHR_15       144       144         144\n",
       "CHR_16       133       133         133\n",
       "CHR_2        116       116         116\n",
       "CHR_3         55        55          55\n",
       "CHR_4        197       197         197\n",
       "CHR_5        113       113         113\n",
       "CHR_6         45        45          45\n",
       "CHR_7        156       156         156\n",
       "CHR_8         85        85          85\n",
       "CHR_9         73        73          73\n",
       "CHR_MT         6         6           6"
      ]
     },
     "execution_count": 15,
     "metadata": {},
     "output_type": "execute_result"
    }
   ],
   "source": [
    "block_length.groupby('CHR').count()"
   ]
  },
  {
   "cell_type": "code",
   "execution_count": 16,
   "metadata": {},
   "outputs": [
    {
     "name": "stderr",
     "output_type": "stream",
     "text": [
      "100%|██████████| 1747/1747 [00:06<00:00, 280.51it/s]\n"
     ]
    }
   ],
   "source": [
    "clump_gff_annotations = []\n",
    "\n",
    "for i in tqdm(range(len(updated_clumps))) :\n",
    "    first_snps = updated_clumps[i][0]\n",
    "    start = snp_position[snp_position['snp_id'] == first_snps]['position'].values[0]\n",
    "    last_snps = updated_clumps[i][-1]\n",
    "    end = snp_position[snp_position['snp_id'] == last_snps]['position'].values[0]\n",
    "    length = end - start\n",
    "    CHR = chr_limits[chr_limits['SNP_IDX_LAST'] >= first_snps]['CHR'].values[0]\n",
    "\n",
    "    clump_gff_annotations.append([CHR, 'LD information', 'LD block', start, end, 1, '+', '.', f'Name={CHR}_{updated_clumps[i][0]}-{updated_clumps[i][-1]}'])"
   ]
  },
  {
   "cell_type": "code",
   "execution_count": 17,
   "metadata": {},
   "outputs": [],
   "source": [
    "def format_numeric_chrom(x):\n",
    "    if 'MT' not in x :\n",
    "        num_nb = x.replace('CHR_','')\n",
    "        nb = roman.toRoman(int(num_nb))\n",
    "        x = 'chr'+ str(nb)\n",
    "        return x\n",
    "    return 'chrXVII'"
   ]
  },
  {
   "cell_type": "code",
   "execution_count": 18,
   "metadata": {},
   "outputs": [],
   "source": [
    "LD_block_annotations = pd.DataFrame(clump_gff_annotations, columns=[\"seqid\", \"source\", \"type\", \"start\", \"end\", \"score\", \"strand\",\n",
    "                        \"phase\", \"attributes\"])\n",
    "LD_block_annotations.to_csv('../../data/genome_annotations/LD_blocks_annotations.csv', index=False)"
   ]
  },
  {
   "cell_type": "code",
   "execution_count": 37,
   "metadata": {},
   "outputs": [],
   "source": [
    "LD_block_annotations['seqid'] = LD_block_annotations['seqid'].apply(format_numeric_chrom)\n",
    "LD_block_annotations.to_csv('../../data/genome_annotations/LD_blocks.csv', header=False, index=False)"
   ]
  },
  {
   "attachments": {},
   "cell_type": "markdown",
   "metadata": {},
   "source": [
    "#### Add LD blocks information in SNP information table"
   ]
  },
  {
   "cell_type": "code",
   "execution_count": 39,
   "metadata": {},
   "outputs": [],
   "source": [
    "snps_in_blocks = [ int(snp) for snp_list in block_length['snps_IDs'] for snp in snp_list.split(',') ]"
   ]
  },
  {
   "cell_type": "code",
   "execution_count": 40,
   "metadata": {},
   "outputs": [],
   "source": [
    "real_indpt_snps = [ snp for snp in indpt_snps if snp not in snps_in_blocks ]"
   ]
  },
  {
   "cell_type": "code",
   "execution_count": 52,
   "metadata": {},
   "outputs": [
    {
     "data": {
      "text/html": [
       "<div>\n",
       "<style scoped>\n",
       "    .dataframe tbody tr th:only-of-type {\n",
       "        vertical-align: middle;\n",
       "    }\n",
       "\n",
       "    .dataframe tbody tr th {\n",
       "        vertical-align: top;\n",
       "    }\n",
       "\n",
       "    .dataframe thead th {\n",
       "        text-align: right;\n",
       "    }\n",
       "</style>\n",
       "<table border=\"1\" class=\"dataframe\">\n",
       "  <thead>\n",
       "    <tr style=\"text-align: right;\">\n",
       "      <th></th>\n",
       "      <th>block_ID</th>\n",
       "      <th>CHR</th>\n",
       "      <th>snps_IDs</th>\n",
       "      <th>block_size</th>\n",
       "    </tr>\n",
       "  </thead>\n",
       "  <tbody>\n",
       "    <tr>\n",
       "      <th>0</th>\n",
       "      <td>CHR_1_10-11</td>\n",
       "      <td>CHR_1</td>\n",
       "      <td>10,11</td>\n",
       "      <td>63</td>\n",
       "    </tr>\n",
       "    <tr>\n",
       "      <th>1</th>\n",
       "      <td>CHR_1_13-19</td>\n",
       "      <td>CHR_1</td>\n",
       "      <td>13,14,15,16,17,18,19</td>\n",
       "      <td>1153</td>\n",
       "    </tr>\n",
       "    <tr>\n",
       "      <th>2</th>\n",
       "      <td>CHR_1_31-32</td>\n",
       "      <td>CHR_1</td>\n",
       "      <td>31,32</td>\n",
       "      <td>69</td>\n",
       "    </tr>\n",
       "    <tr>\n",
       "      <th>3</th>\n",
       "      <td>CHR_1_38-40</td>\n",
       "      <td>CHR_1</td>\n",
       "      <td>38,39,40</td>\n",
       "      <td>1205</td>\n",
       "    </tr>\n",
       "    <tr>\n",
       "      <th>4</th>\n",
       "      <td>CHR_1_42-43</td>\n",
       "      <td>CHR_1</td>\n",
       "      <td>42,43</td>\n",
       "      <td>900</td>\n",
       "    </tr>\n",
       "    <tr>\n",
       "      <th>...</th>\n",
       "      <td>...</td>\n",
       "      <td>...</td>\n",
       "      <td>...</td>\n",
       "      <td>...</td>\n",
       "    </tr>\n",
       "    <tr>\n",
       "      <th>1742</th>\n",
       "      <td>CHR_MT_12027-12031</td>\n",
       "      <td>CHR_MT</td>\n",
       "      <td>12027,12028,12029,12030,12031</td>\n",
       "      <td>15025</td>\n",
       "    </tr>\n",
       "    <tr>\n",
       "      <th>1743</th>\n",
       "      <td>CHR_MT_12033-12034</td>\n",
       "      <td>CHR_MT</td>\n",
       "      <td>12033,12034</td>\n",
       "      <td>14</td>\n",
       "    </tr>\n",
       "    <tr>\n",
       "      <th>1744</th>\n",
       "      <td>CHR_MT_12035-12036</td>\n",
       "      <td>CHR_MT</td>\n",
       "      <td>12035,12036</td>\n",
       "      <td>4</td>\n",
       "    </tr>\n",
       "    <tr>\n",
       "      <th>1745</th>\n",
       "      <td>CHR_MT_12037-12038</td>\n",
       "      <td>CHR_MT</td>\n",
       "      <td>12037,12038</td>\n",
       "      <td>11</td>\n",
       "    </tr>\n",
       "    <tr>\n",
       "      <th>1746</th>\n",
       "      <td>CHR_MT_12053-12054</td>\n",
       "      <td>CHR_MT</td>\n",
       "      <td>12053,12054</td>\n",
       "      <td>5</td>\n",
       "    </tr>\n",
       "  </tbody>\n",
       "</table>\n",
       "<p>1747 rows × 4 columns</p>\n",
       "</div>"
      ],
      "text/plain": [
       "                block_ID     CHR                       snps_IDs  block_size\n",
       "0            CHR_1_10-11   CHR_1                          10,11          63\n",
       "1            CHR_1_13-19   CHR_1           13,14,15,16,17,18,19        1153\n",
       "2            CHR_1_31-32   CHR_1                          31,32          69\n",
       "3            CHR_1_38-40   CHR_1                       38,39,40        1205\n",
       "4            CHR_1_42-43   CHR_1                          42,43         900\n",
       "...                  ...     ...                            ...         ...\n",
       "1742  CHR_MT_12027-12031  CHR_MT  12027,12028,12029,12030,12031       15025\n",
       "1743  CHR_MT_12033-12034  CHR_MT                    12033,12034          14\n",
       "1744  CHR_MT_12035-12036  CHR_MT                    12035,12036           4\n",
       "1745  CHR_MT_12037-12038  CHR_MT                    12037,12038          11\n",
       "1746  CHR_MT_12053-12054  CHR_MT                    12053,12054           5\n",
       "\n",
       "[1747 rows x 4 columns]"
      ]
     },
     "execution_count": 52,
     "metadata": {},
     "output_type": "execute_result"
    }
   ],
   "source": [
    "block_length"
   ]
  },
  {
   "cell_type": "code",
   "execution_count": 65,
   "metadata": {},
   "outputs": [],
   "source": [
    "def inLDblock(x):\n",
    "    if int(x) in snps_in_blocks :\n",
    "        for idx in block_length.index :\n",
    "            if str(x) in block_length['snps_IDs'][idx].split(','):\n",
    "                return block_length['block_ID'][idx]\n",
    "    else :\n",
    "        return str(x)"
   ]
  },
  {
   "cell_type": "code",
   "execution_count": 70,
   "metadata": {},
   "outputs": [],
   "source": [
    "snp_position['LD_block'] = snp_position['snp_id'].apply(inLDblock)"
   ]
  },
  {
   "cell_type": "code",
   "execution_count": 71,
   "metadata": {},
   "outputs": [
    {
     "data": {
      "text/html": [
       "<div>\n",
       "<style scoped>\n",
       "    .dataframe tbody tr th:only-of-type {\n",
       "        vertical-align: middle;\n",
       "    }\n",
       "\n",
       "    .dataframe tbody tr th {\n",
       "        vertical-align: top;\n",
       "    }\n",
       "\n",
       "    .dataframe thead th {\n",
       "        text-align: right;\n",
       "    }\n",
       "</style>\n",
       "<table border=\"1\" class=\"dataframe\">\n",
       "  <thead>\n",
       "    <tr style=\"text-align: right;\">\n",
       "      <th></th>\n",
       "      <th>snp_id</th>\n",
       "      <th>chrom</th>\n",
       "      <th>position</th>\n",
       "      <th>REF</th>\n",
       "      <th>ALT</th>\n",
       "      <th>locus_id</th>\n",
       "      <th>name</th>\n",
       "      <th>sgd_id</th>\n",
       "      <th>description</th>\n",
       "      <th>snps_class_up</th>\n",
       "      <th>genome_annotations</th>\n",
       "      <th>snps_class_down</th>\n",
       "      <th>LD_block</th>\n",
       "    </tr>\n",
       "  </thead>\n",
       "  <tbody>\n",
       "    <tr>\n",
       "      <th>0</th>\n",
       "      <td>1</td>\n",
       "      <td>CHR_1</td>\n",
       "      <td>1025</td>\n",
       "      <td>C</td>\n",
       "      <td>T</td>\n",
       "      <td>X1L_NFR/NDR</td>\n",
       "      <td>NaN</td>\n",
       "      <td>NaN</td>\n",
       "      <td>NaN</td>\n",
       "      <td>Promoter</td>\n",
       "      <td>Promoter</td>\n",
       "      <td>Promoter</td>\n",
       "      <td>1</td>\n",
       "    </tr>\n",
       "    <tr>\n",
       "      <th>1</th>\n",
       "      <td>2</td>\n",
       "      <td>CHR_1</td>\n",
       "      <td>1035</td>\n",
       "      <td>A</td>\n",
       "      <td>T</td>\n",
       "      <td>X1L_NFR/NDR</td>\n",
       "      <td>NaN</td>\n",
       "      <td>NaN</td>\n",
       "      <td>NaN</td>\n",
       "      <td>Promoter</td>\n",
       "      <td>Promoter</td>\n",
       "      <td>Promoter</td>\n",
       "      <td>2</td>\n",
       "    </tr>\n",
       "    <tr>\n",
       "      <th>2</th>\n",
       "      <td>3</td>\n",
       "      <td>CHR_1</td>\n",
       "      <td>1074</td>\n",
       "      <td>C</td>\n",
       "      <td>A</td>\n",
       "      <td>YAL069W</td>\n",
       "      <td>YAL069W</td>\n",
       "      <td>SGDID:S000002143</td>\n",
       "      <td>\"Dubious open reading frame; unlikely to encod...</td>\n",
       "      <td>Close to 3'-UTR</td>\n",
       "      <td>Dubious ORF</td>\n",
       "      <td>Close to 3'-UTR</td>\n",
       "      <td>3</td>\n",
       "    </tr>\n",
       "    <tr>\n",
       "      <th>3</th>\n",
       "      <td>4</td>\n",
       "      <td>CHR_1</td>\n",
       "      <td>1470</td>\n",
       "      <td>A</td>\n",
       "      <td>G</td>\n",
       "      <td>YAL069W</td>\n",
       "      <td>YAL069W</td>\n",
       "      <td>SGDID:S000002143</td>\n",
       "      <td>\"Dubious open reading frame; unlikely to encod...</td>\n",
       "      <td>Close to 3'-UTR</td>\n",
       "      <td>Dubious ORF</td>\n",
       "      <td>Close to 3'-UTR</td>\n",
       "      <td>4</td>\n",
       "    </tr>\n",
       "    <tr>\n",
       "      <th>4</th>\n",
       "      <td>5</td>\n",
       "      <td>CHR_1</td>\n",
       "      <td>1475</td>\n",
       "      <td>AT</td>\n",
       "      <td>A</td>\n",
       "      <td>YAL069W</td>\n",
       "      <td>YAL069W</td>\n",
       "      <td>SGDID:S000002143</td>\n",
       "      <td>\"Dubious open reading frame; unlikely to encod...</td>\n",
       "      <td>Close to 3'-UTR</td>\n",
       "      <td>Dubious ORF</td>\n",
       "      <td>Close to 3'-UTR</td>\n",
       "      <td>5</td>\n",
       "    </tr>\n",
       "    <tr>\n",
       "      <th>...</th>\n",
       "      <td>...</td>\n",
       "      <td>...</td>\n",
       "      <td>...</td>\n",
       "      <td>...</td>\n",
       "      <td>...</td>\n",
       "      <td>...</td>\n",
       "      <td>...</td>\n",
       "      <td>...</td>\n",
       "      <td>...</td>\n",
       "      <td>...</td>\n",
       "      <td>...</td>\n",
       "      <td>...</td>\n",
       "      <td>...</td>\n",
       "    </tr>\n",
       "    <tr>\n",
       "      <th>12049</th>\n",
       "      <td>12050</td>\n",
       "      <td>CHR_MT</td>\n",
       "      <td>74432</td>\n",
       "      <td>TG</td>\n",
       "      <td>T</td>\n",
       "      <td>Q0250</td>\n",
       "      <td>COX2</td>\n",
       "      <td>SGDID:S000007281</td>\n",
       "      <td>\"Subunit II of cytochrome c oxidase (Complex I...</td>\n",
       "      <td>Close to 3'-UTR</td>\n",
       "      <td>Verified ORF</td>\n",
       "      <td>Close to 3'-UTR</td>\n",
       "      <td>12050</td>\n",
       "    </tr>\n",
       "    <tr>\n",
       "      <th>12050</th>\n",
       "      <td>12051</td>\n",
       "      <td>CHR_MT</td>\n",
       "      <td>74433</td>\n",
       "      <td>G</td>\n",
       "      <td>GGACTA</td>\n",
       "      <td>Q0250</td>\n",
       "      <td>COX2</td>\n",
       "      <td>SGDID:S000007281</td>\n",
       "      <td>\"Subunit II of cytochrome c oxidase (Complex I...</td>\n",
       "      <td>Close to 3'-UTR</td>\n",
       "      <td>Verified ORF</td>\n",
       "      <td>Close to 3'-UTR</td>\n",
       "      <td>12051</td>\n",
       "    </tr>\n",
       "    <tr>\n",
       "      <th>12051</th>\n",
       "      <td>12052</td>\n",
       "      <td>CHR_MT</td>\n",
       "      <td>77708</td>\n",
       "      <td>T</td>\n",
       "      <td>A,G</td>\n",
       "      <td>Q:77506-78088</td>\n",
       "      <td>NaN</td>\n",
       "      <td>NaN</td>\n",
       "      <td>between YNCQ0023W and YNCQ0024C</td>\n",
       "      <td>Intergenic region</td>\n",
       "      <td>Intergenic region</td>\n",
       "      <td>Intergenic region</td>\n",
       "      <td>12052</td>\n",
       "    </tr>\n",
       "    <tr>\n",
       "      <th>12052</th>\n",
       "      <td>12053</td>\n",
       "      <td>CHR_MT</td>\n",
       "      <td>84245</td>\n",
       "      <td>G</td>\n",
       "      <td>GCC,GTC</td>\n",
       "      <td>Q:82601-85034</td>\n",
       "      <td>NaN</td>\n",
       "      <td>NaN</td>\n",
       "      <td>between ORI5 and YNCQ0026W</td>\n",
       "      <td>Intergenic region</td>\n",
       "      <td>Intergenic region</td>\n",
       "      <td>Intergenic region</td>\n",
       "      <td>CHR_MT_12053-12054</td>\n",
       "    </tr>\n",
       "    <tr>\n",
       "      <th>12053</th>\n",
       "      <td>12054</td>\n",
       "      <td>CHR_MT</td>\n",
       "      <td>84250</td>\n",
       "      <td>C</td>\n",
       "      <td>T</td>\n",
       "      <td>Q:82601-85034</td>\n",
       "      <td>NaN</td>\n",
       "      <td>NaN</td>\n",
       "      <td>between ORI5 and YNCQ0026W</td>\n",
       "      <td>Intergenic region</td>\n",
       "      <td>Intergenic region</td>\n",
       "      <td>Intergenic region</td>\n",
       "      <td>CHR_MT_12053-12054</td>\n",
       "    </tr>\n",
       "  </tbody>\n",
       "</table>\n",
       "<p>12054 rows × 13 columns</p>\n",
       "</div>"
      ],
      "text/plain": [
       "       snp_id   chrom  position REF      ALT       locus_id     name  \\\n",
       "0           1   CHR_1      1025   C        T    X1L_NFR/NDR      NaN   \n",
       "1           2   CHR_1      1035   A        T    X1L_NFR/NDR      NaN   \n",
       "2           3   CHR_1      1074   C        A        YAL069W  YAL069W   \n",
       "3           4   CHR_1      1470   A        G        YAL069W  YAL069W   \n",
       "4           5   CHR_1      1475  AT        A        YAL069W  YAL069W   \n",
       "...       ...     ...       ...  ..      ...            ...      ...   \n",
       "12049   12050  CHR_MT     74432  TG        T          Q0250     COX2   \n",
       "12050   12051  CHR_MT     74433   G   GGACTA          Q0250     COX2   \n",
       "12051   12052  CHR_MT     77708   T      A,G  Q:77506-78088      NaN   \n",
       "12052   12053  CHR_MT     84245   G  GCC,GTC  Q:82601-85034      NaN   \n",
       "12053   12054  CHR_MT     84250   C        T  Q:82601-85034      NaN   \n",
       "\n",
       "                 sgd_id                                        description  \\\n",
       "0                   NaN                                                NaN   \n",
       "1                   NaN                                                NaN   \n",
       "2      SGDID:S000002143  \"Dubious open reading frame; unlikely to encod...   \n",
       "3      SGDID:S000002143  \"Dubious open reading frame; unlikely to encod...   \n",
       "4      SGDID:S000002143  \"Dubious open reading frame; unlikely to encod...   \n",
       "...                 ...                                                ...   \n",
       "12049  SGDID:S000007281  \"Subunit II of cytochrome c oxidase (Complex I...   \n",
       "12050  SGDID:S000007281  \"Subunit II of cytochrome c oxidase (Complex I...   \n",
       "12051               NaN                    between YNCQ0023W and YNCQ0024C   \n",
       "12052               NaN                         between ORI5 and YNCQ0026W   \n",
       "12053               NaN                         between ORI5 and YNCQ0026W   \n",
       "\n",
       "           snps_class_up genome_annotations    snps_class_down  \\\n",
       "0               Promoter           Promoter           Promoter   \n",
       "1               Promoter           Promoter           Promoter   \n",
       "2        Close to 3'-UTR        Dubious ORF    Close to 3'-UTR   \n",
       "3        Close to 3'-UTR        Dubious ORF    Close to 3'-UTR   \n",
       "4        Close to 3'-UTR        Dubious ORF    Close to 3'-UTR   \n",
       "...                  ...                ...                ...   \n",
       "12049    Close to 3'-UTR       Verified ORF    Close to 3'-UTR   \n",
       "12050    Close to 3'-UTR       Verified ORF    Close to 3'-UTR   \n",
       "12051  Intergenic region  Intergenic region  Intergenic region   \n",
       "12052  Intergenic region  Intergenic region  Intergenic region   \n",
       "12053  Intergenic region  Intergenic region  Intergenic region   \n",
       "\n",
       "                 LD_block  \n",
       "0                       1  \n",
       "1                       2  \n",
       "2                       3  \n",
       "3                       4  \n",
       "4                       5  \n",
       "...                   ...  \n",
       "12049               12050  \n",
       "12050               12051  \n",
       "12051               12052  \n",
       "12052  CHR_MT_12053-12054  \n",
       "12053  CHR_MT_12053-12054  \n",
       "\n",
       "[12054 rows x 13 columns]"
      ]
     },
     "execution_count": 71,
     "metadata": {},
     "output_type": "execute_result"
    }
   ],
   "source": [
    "snp_position"
   ]
  },
  {
   "cell_type": "code",
   "execution_count": 72,
   "metadata": {},
   "outputs": [],
   "source": [
    "snp_position.to_csv('../../data/genotype_information/snps_annotations_genome-version-3-64-1_LD_annotated.txt', index=False)"
   ]
  },
  {
   "attachments": {},
   "cell_type": "markdown",
   "metadata": {},
   "source": [
    "#### Statistic of LD blocks"
   ]
  },
  {
   "cell_type": "code",
   "execution_count": 45,
   "metadata": {},
   "outputs": [
    {
     "data": {
      "image/png": "[encoded data removed]",
      "text/plain": [
       "<Figure size 1080x720 with 1 Axes>"
      ]
     },
     "metadata": {
      "needs_background": "light"
     },
     "output_type": "display_data"
    }
   ],
   "source": [
    "f = plt.figure(figsize=(15,10))\n",
    "sns.barplot(x=chr_limits['CHR'], y=chr_limits['CHR_SIZE'], color='grey')\n",
    "plt.yscale('log')"
   ]
  },
  {
   "cell_type": "code",
   "execution_count": 48,
   "metadata": {},
   "outputs": [
    {
     "data": {
      "text/plain": [
       "Text(0, 0.5, 'LD block size - log(pb)')"
      ]
     },
     "execution_count": 48,
     "metadata": {},
     "output_type": "execute_result"
    },
    {
     "data": {
      "image/png": "[encoded data removed]",
      "text/plain": [
       "<Figure size 1080x720 with 1 Axes>"
      ]
     },
     "metadata": {
      "needs_background": "light"
     },
     "output_type": "display_data"
    }
   ],
   "source": [
    "f = plt.figure(figsize=(15,10))\n",
    "sns.boxplot(x=block_length['CHR'], y=block_length['block_size'], color='grey')\n",
    "plt.yscale('log')\n",
    "plt.ylabel('LD block size - log(pb)')"
   ]
  }
 ],
 "metadata": {
  "kernelspec": {
   "display_name": "piQTL",
   "language": "python",
   "name": "python3"
  },
  "language_info": {
   "codemirror_mode": {
    "name": "ipython",
    "version": 3
   },
   "file_extension": ".py",
   "mimetype": "text/x-python",
   "name": "python",
   "nbconvert_exporter": "python",
   "pygments_lexer": "ipython3",
   "version": "3.8.13"
  },
  "orig_nbformat": 4,
  "vscode": {
   "interpreter": {
    "hash": "b1c9f147d5e11ed2bfef82e704687f362a942886afe9a4c3e913143ced90e071"
   }
  }
 },
 "nbformat": 4,
 "nbformat_minor": 2
}
